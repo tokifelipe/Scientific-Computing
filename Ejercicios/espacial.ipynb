{
 "cells": [
  {
   "cell_type": "code",
   "execution_count": 4,
   "metadata": {
    "vscode": {
     "languageId": "shellscript"
    }
   },
   "outputs": [
    {
     "name": "stdout",
     "output_type": "stream",
     "text": [
      "[[ 0.31622777 -0.26984765]\n",
      " [ 0.31622777 -0.25128698]\n",
      " [ 0.31622777 -0.15732351]\n",
      " [ 0.31622777 -0.302642  ]\n",
      " [ 0.31622777 -0.19103891]\n",
      " [ 0.31622777 -0.27409684]\n",
      " [ 0.31622777  0.12171884]\n",
      " [ 0.31622777  0.34788497]\n",
      " [ 0.31622777  0.38032359]\n",
      " [ 0.31622777  0.59630849]]\n",
      "[[3.16227766 1.25910075]\n",
      " [0.         0.52353485]]\n"
     ]
    },
    {
     "ename": "AttributeError",
     "evalue": "module 'numpy' has no attribute 'linealg'",
     "output_type": "error",
     "traceback": [
      "\u001b[0;31m---------------------------------------------------------------------------\u001b[0m",
      "\u001b[0;31mAttributeError\u001b[0m                            Traceback (most recent call last)",
      "Cell \u001b[0;32mIn[4], line 20\u001b[0m\n\u001b[1;32m     16\u001b[0m \u001b[38;5;28mprint\u001b[39m(R)\n\u001b[1;32m     18\u001b[0m \u001b[38;5;66;03m#c=np.linealg.solve(R,np.dot(Q.T,b))\u001b[39;00m\n\u001b[0;32m---> 20\u001b[0m ab\u001b[38;5;241m=\u001b[39m\u001b[43mnp\u001b[49m\u001b[38;5;241;43m.\u001b[39;49m\u001b[43mlinealg\u001b[49m\u001b[38;5;241m.\u001b[39msolve(R,Q\u001b[38;5;241m.\u001b[39mT\u001b[38;5;129m@yk\u001b[39m\u001b[38;5;241m.\u001b[39mT)\n",
      "File \u001b[0;32m~/Documentos/GitHub/Scientific-Computing/myenv/lib/python3.12/site-packages/numpy/__init__.py:414\u001b[0m, in \u001b[0;36m__getattr__\u001b[0;34m(attr)\u001b[0m\n\u001b[1;32m    411\u001b[0m     \u001b[38;5;28;01mimport\u001b[39;00m \u001b[38;5;21;01mnumpy\u001b[39;00m\u001b[38;5;21;01m.\u001b[39;00m\u001b[38;5;21;01mchar\u001b[39;00m \u001b[38;5;28;01mas\u001b[39;00m \u001b[38;5;21;01mchar\u001b[39;00m\n\u001b[1;32m    412\u001b[0m     \u001b[38;5;28;01mreturn\u001b[39;00m char\u001b[38;5;241m.\u001b[39mchararray\n\u001b[0;32m--> 414\u001b[0m \u001b[38;5;28;01mraise\u001b[39;00m \u001b[38;5;167;01mAttributeError\u001b[39;00m(\u001b[38;5;124m\"\u001b[39m\u001b[38;5;124mmodule \u001b[39m\u001b[38;5;132;01m{!r}\u001b[39;00m\u001b[38;5;124m has no attribute \u001b[39m\u001b[38;5;124m\"\u001b[39m\n\u001b[1;32m    415\u001b[0m                      \u001b[38;5;124m\"\u001b[39m\u001b[38;5;132;01m{!r}\u001b[39;00m\u001b[38;5;124m\"\u001b[39m\u001b[38;5;241m.\u001b[39mformat(\u001b[38;5;18m__name__\u001b[39m, attr))\n",
      "\u001b[0;31mAttributeError\u001b[0m: module 'numpy' has no attribute 'linealg'"
     ]
    }
   ],
   "source": [
    "import numpy as np\n",
    "xk=np.random.rand(10)\n",
    "yk=np.random.rand(10)\n",
    "tk=np.random.rand(10)\n",
    "\n",
    "#A=np.ones((10,2))\n",
    "\n",
    "A1=np.ones((10,2))\n",
    "A1\n",
    "\n",
    "A1[:,1]=xk.T\n",
    "A1\n",
    "\n",
    "Q,R=QR(A1)\n",
    "print(Q)\n",
    "print(R)\n",
    "\n",
    "#c=np.linealg.solve(R,np.dot(Q.T,b))\n",
    "\n",
    "ab=np.linealg.solve(R,Q.T@yk.T)"
   ]
  },
  {
   "cell_type": "code",
   "execution_count": 3,
   "metadata": {
    "vscode": {
     "languageId": "shellscript"
    }
   },
   "outputs": [],
   "source": [
    "# Inputs:\n",
    "# A: A set of linearly independent columns\n",
    "# type_factorization: reduced or full\n",
    "# type_gram_schmidt: classic or modified\n",
    "def QR(A, type_factorization = 'reduced', type_gram_schmidt='classic'):\n",
    "    A.astype('float')\n",
    "    if type_factorization == 'reduced':\n",
    "        Q = np.zeros(A.shape)\n",
    "        R = np.zeros((A.shape[1],A.shape[1]))\n",
    "    elif type_factorization == 'full':\n",
    "        Q = np.zeros((A.shape[0],A.shape[0]))\n",
    "        R = np.zeros(A.shape)\n",
    "    for j in np.arange(A.shape[1]):\n",
    "        y = A[:,j]\n",
    "        for i in np.arange(j):\n",
    "            if type_gram_schmidt == 'classic':\n",
    "                R[i,j] = np.dot(Q[:,i],A[:,j])\n",
    "            elif type_gram_schmidt == 'modified':\n",
    "                R[i,j] = np.dot(Q[:,i],y)\n",
    "            y=y-R[i,j]*Q[:,i]\n",
    "        R[j,j] = np.linalg.norm(y)\n",
    "        Q[:,j] = y/np.linalg.norm(R[j,j])\n",
    "    # The following lines must be completed by you!\n",
    "    #if type_factorization == 'full':    \n",
    "        # (1) We need to add 0's to the R matrix so it is of the same shape as the matrix A, \n",
    "        # fortunately this was already done!\n",
    "        # (2) We need to add orthogonal vectors to Q so it is square,\n",
    "        # how do we do this?   \n",
    "    return Q,R    "
   ]
  }
 ],
 "metadata": {
  "kernelspec": {
   "display_name": "myenv",
   "language": "python",
   "name": "python3"
  },
  "language_info": {
   "codemirror_mode": {
    "name": "ipython",
    "version": 3
   },
   "file_extension": ".py",
   "mimetype": "text/x-python",
   "name": "python",
   "nbconvert_exporter": "python",
   "pygments_lexer": "ipython3",
   "version": "3.12.3"
  }
 },
 "nbformat": 4,
 "nbformat_minor": 2
}

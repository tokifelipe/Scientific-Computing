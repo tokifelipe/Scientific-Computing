{
 "cells": [
  {
   "cell_type": "markdown",
   "metadata": {},
   "source": [
    "Funcion:"
   ]
  },
  {
   "cell_type": "code",
   "execution_count": 1,
   "metadata": {},
   "outputs": [],
   "source": [
    "import numpy as np\n",
    "def compute_tau_n(x,gammas,n):\n",
    "    #Construir termino correspondiente a :x^i\n",
    "    i=np.arange(n)\n",
    "    xp=np.power(x,i)\n",
    "    #Construir termino correspondiente a delta:\n",
    "    delta=gammas*xp\n",
    "    #Construir delta prima\n",
    "    delta_hat=np.sort(delta)\n",
    "    #Sumatoria\n",
    "    tau=0\n",
    "    for di in delta_hat:\n",
    "        tau=tau+di\n",
    "    return tau"
   ]
  },
  {
   "cell_type": "markdown",
   "metadata": {},
   "source": [
    "Probamos la función:"
   ]
  },
  {
   "cell_type": "code",
   "execution_count": null,
   "metadata": {},
   "outputs": [],
   "source": [
    "print(compute_tau_n(2,40))"
   ]
  }
 ],
 "metadata": {
  "kernelspec": {
   "display_name": "Python 3",
   "language": "python",
   "name": "python3"
  },
  "language_info": {
   "codemirror_mode": {
    "name": "ipython",
    "version": 3
   },
   "file_extension": ".py",
   "mimetype": "text/x-python",
   "name": "python",
   "nbconvert_exporter": "python",
   "pygments_lexer": "ipython3",
   "version": "3.12.4"
  }
 },
 "nbformat": 4,
 "nbformat_minor": 2
}

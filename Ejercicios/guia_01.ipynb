{
 "cells": [
  {
   "cell_type": "markdown",
   "metadata": {},
   "source": [
    "Ejercicios Punto flotante"
   ]
  },
  {
   "cell_type": "code",
   "execution_count": 1,
   "metadata": {},
   "outputs": [],
   "source": [
    "import numpy as np\n",
    "def compute_tau_n(x,gammas,n):\n",
    "    #Construir termino correspondiente a :x^i\n",
    "    i=np.arange(n)\n",
    "    xp=np.power(x,i)\n",
    "    #Construir termino correspondiente a delta:\n",
    "    delta=gammas*xp\n",
    "    #Construir delta prima\n",
    "    delta_hat=np.sort(delta)\n",
    "    #Sumatoria\n",
    "    tau=0\n",
    "    for di in delta_hat:\n",
    "        tau=tau+di\n",
    "    return tau"
   ]
  },
  {
   "cell_type": "markdown",
   "metadata": {},
   "source": [
    "Probamos la función:"
   ]
  },
  {
   "cell_type": "code",
   "execution_count": 2,
   "metadata": {},
   "outputs": [
    {
     "ename": "TypeError",
     "evalue": "compute_tau_n() missing 1 required positional argument: 'n'",
     "output_type": "error",
     "traceback": [
      "\u001b[1;31m---------------------------------------------------------------------------\u001b[0m",
      "\u001b[1;31mTypeError\u001b[0m                                 Traceback (most recent call last)",
      "Cell \u001b[1;32mIn[2], line 1\u001b[0m\n\u001b[1;32m----> 1\u001b[0m \u001b[38;5;28mprint\u001b[39m(\u001b[43mcompute_tau_n\u001b[49m\u001b[43m(\u001b[49m\u001b[38;5;241;43m2\u001b[39;49m\u001b[43m,\u001b[49m\u001b[38;5;241;43m40\u001b[39;49m\u001b[43m)\u001b[49m)\n",
      "\u001b[1;31mTypeError\u001b[0m: compute_tau_n() missing 1 required positional argument: 'n'"
     ]
    }
   ],
   "source": [
    "print(compute_tau_n(2,40))"
   ]
  },
  {
   "cell_type": "markdown",
   "metadata": {},
   "source": [
    "Ejercicios Pérdida búsqueda de raices:"
   ]
  },
  {
   "cell_type": "code",
   "execution_count": 10,
   "metadata": {},
   "outputs": [
    {
     "name": "stdout",
     "output_type": "stream",
     "text": [
      "(np.float64(1.1407257716750014), np.float64(0.1026285291863559), np.float64(0.7292802730076402))\n"
     ]
    }
   ],
   "source": [
    "#Número de iteraciones usadas por newton: j\n",
    "\n",
    "def truncada(n,j):\n",
    "    k=np.arange(1,n+1)    \n",
    "    x0=1\n",
    "    x1=1\n",
    "    for i in range(j):#Dependiente de las iteraciones usadas por newton\n",
    "        x2=x1-np.sum(np.sin(k*x1)/np.sum(k*np.cos(k*x1)))\n",
    "        if i==j-1:\n",
    "            r=x2\n",
    "            ei=np.abs(x0-r)\n",
    "            eip1=np.abs(x1-r)\n",
    "            #convergencia lineal:\n",
    "            S=eip1/ei\n",
    "            #convergencia cuadratica\n",
    "            M=eip1/np.power(ei,2)\n",
    "        x0=x1\n",
    "        x1=x2\n",
    "    return(r,S,M)\n",
    "print(truncada(10,2))\n",
    "\n"
   ]
  }
 ],
 "metadata": {
  "kernelspec": {
   "display_name": "Python 3",
   "language": "python",
   "name": "python3"
  },
  "language_info": {
   "codemirror_mode": {
    "name": "ipython",
    "version": 3
   },
   "file_extension": ".py",
   "mimetype": "text/x-python",
   "name": "python",
   "nbconvert_exporter": "python",
   "pygments_lexer": "ipython3",
   "version": "3.12.4"
  }
 },
 "nbformat": 4,
 "nbformat_minor": 2
}

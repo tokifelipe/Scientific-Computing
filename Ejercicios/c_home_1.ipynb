{
 "cells": [
  {
   "cell_type": "code",
   "execution_count": null,
   "metadata": {},
   "outputs": [],
   "source": [
    "import numpy as np\n",
    "\n",
    "'''\n",
    "input:\n",
    "tk : (float) initial time of the interval.\n",
    "Delta_k : (float) delta time such that t_{k+1} \\approx t_k+Delta_k.\n",
    "rho : (float) critical distance.\n",
    "xt : (callable) position x of the satellite in terms of time t.\n",
    "yt : (callable) position y of the satellite in terms of time t.\n",
    "xpt : (callable) derivative of xt in terms of time t.\n",
    "ypt : (callable) derivative of yt in terms of time t.\n",
    "px : (float) x-coordinate of the transmission point.\n",
    "py : (float) y-coordinate of the transmission point.\n",
    "output:\n",
    "t_next : (float) final time of the interval.\n",
    "transmission : (boolean) variable is \"True\" if the data transmission will be successful within\n",
    "the interval [t_k,t_next], \"False\" otherwise.\n",
    "'''\n",
    "def data_transmission(tk,Delta_k,rho,xt,yt,xpt,ypt,px,py):\n",
    "    # Your own code.\n",
    "    f=lambda t:np.power(((np.power(xt-px,2)+np.power(yt-py,2))-np.power(rho,2)),2)\n",
    "    fp=lambda t:2((np.power(xt-px,2)+np.power(yt-py,2))-np.power(rho,2))*(2*(xt-px)*xpt+2*(yt-py)*ypt)\n",
    "    S=0.5002\n",
    "    m=1/(1-S)\n",
    "    tk1=Newton1D(f,fp,tk,m)\n",
    "    if fp(tk)<0 and fp(tk1)>0:\n",
    "        t_next=tk1\n",
    "        transmission=True\n",
    "    return t_next, transmission\n"
   ]
  }
 ],
 "metadata": {
  "language_info": {
   "name": "python"
  }
 },
 "nbformat": 4,
 "nbformat_minor": 2
}

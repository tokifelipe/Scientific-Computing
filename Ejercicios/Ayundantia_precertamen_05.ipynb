{
 "cells": [
  {
   "cell_type": "code",
   "execution_count": 2,
   "metadata": {},
   "outputs": [
    {
     "name": "stdout",
     "output_type": "stream",
     "text": [
      "1.2532178448585256\n",
      "0.020860053676376333\n",
      "-0.6573316251895625\n",
      "-0.875825880114212\n",
      "-0.8956271027071443\n"
     ]
    }
   ],
   "source": [
    "import numpy as np\n",
    "\n",
    "fy= lambda y : np.power(y,2)-np.sin(y)+4*y+2\n",
    "fyp= lambda y : 2*y-np.cos(y)+4\n",
    "y1=4\n",
    "for i in range(5):\n",
    "    y2=y1-(fy(y1)/fyp(y1))\n",
    "    y1=y2\n",
    "    print(y2)"
   ]
  }
 ],
 "metadata": {
  "kernelspec": {
   "display_name": "myenv",
   "language": "python",
   "name": "python3"
  },
  "language_info": {
   "codemirror_mode": {
    "name": "ipython",
    "version": 3
   },
   "file_extension": ".py",
   "mimetype": "text/x-python",
   "name": "python",
   "nbconvert_exporter": "python",
   "pygments_lexer": "ipython3",
   "version": "3.12.3"
  }
 },
 "nbformat": 4,
 "nbformat_minor": 2
}

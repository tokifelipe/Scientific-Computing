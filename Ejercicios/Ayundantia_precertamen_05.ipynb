{
 "cells": [
  {
   "cell_type": "code",
   "execution_count": 3,
   "metadata": {},
   "outputs": [],
   "source": [
    "import numpy as np\n",
    "\n",
    "fy= lambda y : np.power(y,2)-np.sin(y)+4*y+2\n",
    "fyp= lambda y : 2*y-np.cos(y)+4\n",
    "y1=4\n",
    "for i in range(5):\n",
    "    y2=y1-(fy(y1)/fyp(y1))\n",
    "    y1=y2\n",
    "    print(y2)"
   ]
  }
 ],
 "metadata": {
  "kernelspec": {
   "display_name": "Python 3",
   "language": "python",
   "name": "python3"
  },
  "language_info": {
   "codemirror_mode": {
    "name": "ipython",
    "version": 3
   },
   "file_extension": ".py",
   "mimetype": "text/x-python",
   "name": "python",
   "nbconvert_exporter": "python",
   "pygments_lexer": "ipython3",
   "version": "3.12.4"
  }
 },
 "nbformat": 4,
 "nbformat_minor": 2
}

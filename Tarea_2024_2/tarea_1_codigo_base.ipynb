{
 "cells": [
  {
   "cell_type": "markdown",
   "id": "5965150c-7b80-49e0-9267-9560754c152d",
   "metadata": {
    "id": "5965150c-7b80-49e0-9267-9560754c152d"
   },
   "source": [
    "<center>\n",
    "    <img src=\"http://sct.inf.utfsm.cl/wp-content/uploads/2020/04/logo_di.png\" style=\"width:60%\">\n",
    "    <h1> INF285 - Computación Científica </h1>\n",
    "    <h2> Tarea 1 - Código Base</h2>\n",
    "    <h2> [S]cientific [C]omputing [T]eam </a> </h2>\n",
    "    <h2> 2024-2</h2>\n",
    "</center>"
   ]
  },
  {
   "cell_type": "markdown",
   "id": "2fc283ff-723a-409e-a198-4bea80ca2388",
   "metadata": {
    "id": "2fc283ff-723a-409e-a198-4bea80ca2388"
   },
   "source": [
    "# Consultas\n",
    "\n",
    "* Enviar a: **tareas.inf285@gmail.com**\n",
    "* Se recibirán consultas en **tres** bloques:\n",
    "1. El primer bloque será desde las 12:15 hrs. hasta las 17:00 hrs. del día jueves, donde todas las preguntas recibidas dentro de este bloque se responderán con seguridad a partir de las 17:01 hrs. del día jueves.\n",
    "2. El segundo bloque de consultas será desde las 17:01 hrs. del día jueves hasta las 08:15 hrs. del día viernes, donde las preguntas recibidas dentro de este bloque horario se responderán con seguridad a partir de las 08:16 hrs. del día viernes.\n",
    "3. El tercer, y último bloque, de consultas será desde las 08:16 hrs. hasta las 14:30 hrs. del día viernes, donde las preguntas recibidas dentro de este bloque horario se responderán con seguridad a partir de las 14:31 hrs. del día viernes."
   ]
  },
  {
   "cell_type": "markdown",
   "id": "4beec7f5-9da4-498a-831f-8b229ce4bb9d",
   "metadata": {
    "id": "4beec7f5-9da4-498a-831f-8b229ce4bb9d"
   },
   "source": [
    "# Librerías (no utilizar liberías adicionales)"
   ]
  },
  {
   "cell_type": "code",
   "execution_count": 32,
   "id": "ff73dff5-ef8e-4f2d-b551-07dc88ffa520",
   "metadata": {
    "id": "ff73dff5-ef8e-4f2d-b551-07dc88ffa520"
   },
   "outputs": [],
   "source": [
    "import numpy as np\n",
    "import matplotlib.pyplot as plt"
   ]
  },
  {
   "cell_type": "markdown",
   "id": "d8c06b3c-8ee8-40d2-9406-f43f4bf87a83",
   "metadata": {
    "id": "d8c06b3c-8ee8-40d2-9406-f43f4bf87a83"
   },
   "source": [
    "# Contexto\n",
    "\n",
    "Se propone trabajar con la tangente hiperbólica, en particular, a la función se le pueden aplicar los siguientes desarrollos algebraicos:\n",
    "\n",
    "$$ f(x) = \\frac{2^x - 2^{-x}}{2^x + 2^{-x}} = \\frac{2^x}{2^x} \\cdot \\frac{1 - 2^{-2x}}{1 + 2^{-2x}} = \\frac{1 - 2^{-2x}}{1 + 2^{-2x}}$$  \n",
    "\n",
    "Además, se presenta la siguiente modificación a la \"Tangente Hiperbólica\" según el parámetro $k$, en donde $f_{1}(x) = f(x)$.\n",
    "\n",
    "$$ f_k(x) = \\frac{1 - 2^{-2^kx}}{1 + 2^{-2^kx}} $$\n",
    "\n",
    "Considere la siguiente expresión,\n",
    "\n",
    "$$  \\xi(x) = \\prod_{k=0}^{\\infty} \\left( 2 - f_k(x) \\right) = \\prod_{k=0}^{\\infty} \\left( 2 - \\frac{1 - 2^{-2^kx}}{1 + 2^{-2^kx}} \\right) $$\n",
    "\n",
    "Por conveniencia, aplicaremos la función $\\log(x)$, que corresponde al logaritmo natural, entonces se obtiene la siguiente expresión,\n",
    "\n",
    "$$ \\log(\\xi(x)) = \\sum_{k=0}^{\\infty} \\log \\left( 2 - \\frac{1 - 2^{-2^kx}}{1 + 2^{-2^kx}} \\right) $$\n",
    "\n",
    "Sea $g(x, k)$ el argumento de la sumatoria. Se puede considerar un valor para $k$ fijo y variar el valor de $x$ con el objetivo de analizar el comportamiento de dicha función según el valor de este último parámetro, por completitud se muestra la función:\n",
    "\n",
    "$$g(x, k) = \\log \\left( 2 - \\frac{1 - 2^{-2^kx}}{1 + 2^{-2^kx}} \\right)$$\n",
    "\n",
    "Sean las funciones $\\text{top}(x,k)$ y $\\text{bot}(x,k)$ que corresponden a la expresión del numerador y denominador respectivamente de la fracción en el argumento de la función $g(x,k)$\n"
   ]
  },
  {
   "cell_type": "markdown",
   "id": "d3305180-7215-4780-92f8-69f6a64667bf",
   "metadata": {
    "id": "d3305180-7215-4780-92f8-69f6a64667bf"
   },
   "source": [
    "# Funciones Entregadas (No debe modificarlas)"
   ]
  },
  {
   "cell_type": "code",
   "execution_count": 33,
   "id": "sN7-LZfmeW4g",
   "metadata": {
    "id": "sN7-LZfmeW4g"
   },
   "outputs": [],
   "source": [
    "#No modificar este código, solamente ejecute.\n",
    "\n",
    "#Función que calcula el valor del numerador de la fracción en la función g\n",
    "top = lambda x, k: 1.0 - np.power(2.0, np.power(2.0, k)*-1.0*x)\n",
    "\n",
    "#Función que calcula el valor del denominador de la fracción en la función g\n",
    "bot = lambda x, k: 1.0 + np.power(2.0, np.power(2.0, k)*-1.0*x)\n",
    "\n",
    "#Función que calcula el valor de la función g\n",
    "g = lambda x, k:  np.log(2 - top(x, k) / bot(x, k))\n"
   ]
  },
  {
   "cell_type": "code",
   "execution_count": 34,
   "id": "38a180ea-5c32-41b5-8b5d-1dfc7f12f2d3",
   "metadata": {
    "id": "38a180ea-5c32-41b5-8b5d-1dfc7f12f2d3"
   },
   "outputs": [
    {
     "data": {
      "image/png": "[encoded data removed]",
      "text/plain": [
       "<Figure size 700x600 with 1 Axes>"
      ]
     },
     "metadata": {},
     "output_type": "display_data"
    }
   ],
   "source": [
    "#No modificar este código, solamente ejecute.\n",
    "x_i = np.arange(-1,100,0.1)\n",
    "k_1 =  np.ones(np.size(x_i))\n",
    "k_m1 = np.ones(np.size(x_i))*-1\n",
    "\n",
    "y_k1 = g(x_i,k_1)\n",
    "y_km1 = g(x_i,k_m1)\n",
    "\n",
    "fig, ax = plt.subplots(figsize=(7, 6))\n",
    "plt.plot(x_i, y_k1,  label='k=1')\n",
    "plt.plot(x_i, y_km1, label='k=-1')\n",
    "ax.set_ylim(0, 1)\n",
    "\n",
    "plt.xlabel('$x$')\n",
    "plt.ylabel('$g(x,k)$')\n",
    "plt.title('Gráfico de la función $g(x,k)$ para diferentes valores de $k$')\n",
    "plt.legend()\n",
    "plt.grid(True)\n",
    "plt.show()"
   ]
  },
  {
   "cell_type": "markdown",
   "id": "43d2f386",
   "metadata": {
    "id": "43d2f386"
   },
   "source": [
    "# Pregunta 1\n",
    "\n"
   ]
  },
  {
   "cell_type": "markdown",
   "id": "9db83c2d",
   "metadata": {
    "id": "9db83c2d"
   },
   "source": [
    "1.1 **(15 puntos)** Encuentre el menor $x \\in \\mathbb{N}$ tal que la función $g(x, k)=0$ en *double precision* para los siguientes valores de $k$:\n",
    "\n",
    "* $k = 1$\n",
    "* $k = -1$"
   ]
  },
  {
   "cell_type": "markdown",
   "id": "5d95dd22",
   "metadata": {
    "id": "5d95dd22"
   },
   "source": [
    "**---------------------------------------------------------------------------------------------------------------------------**\n",
    "\n",
    "**Respuesta:**\n",
    "\n",
    "Para que la función  $g(x, k)$ cumpla con: $g(x, k)=0$, lo que debe suceder es lo siguiente: $$ \\left(\\frac{1 - 2^{-2^kx}}{1 + 2^{-2^kx}} \\right) = 1$$\n",
    "\n",
    "Esto sucede cuando existe una perdida de importancia al realizar las siguientes operaciones:\n",
    "\n",
    "$$        {1 - 2^{-2^kx}}     $$\n",
    "$$        {1 + 2^{-2^kx}}     $$\n",
    "\n",
    "Con un x suficientemente grande, el termino $2^{-2^kx}$ tendrá una diferencia de magnitud mayor a 52 bits,en *double precision*, al 1,por ende la suma/resta entre 1 y $2^{-2^kx}$ será igual a 1, ocacionando una perdida de importancia y en consecuencia $g(x, k)=0$ . \n",
    "\n",
    "Si representamos al 1 en base dos tenemos que las operaciones son : ${2^{0} - 2^{-2^kx}}$ y ${2^{0} + 2^{-2^kx}}$.Como se dijo anteriormente, para encontrar al mínimo x que ocacione una pérdida de importancia, tiene que haber una diferencia de 52 bits de magnitud , es decir, se debe cumplir la diferencia de magnitudes:\n",
    "$${{2^kx}-0}>52$$\n",
    "Equivalentemente a :\n",
    "$${{2^kx}}>52$$\n",
    "Despenado x:\n",
    "$${{x}}>\\frac{52}{{2^k}}$$\n",
    "\n",
    "\n",
    "Si $k=1$:\n",
    "$${{x}}>\\frac{52}{{2^{1}}}$$\n",
    "Equivalentemente:\n",
    "$${{x}}>26$$\n",
    "Si $k=-1$:\n",
    "$${{x}}>\\frac{52}{{2^{-1}}}$$\n",
    "Equivalentemente:\n",
    "$${{x}}>104$$\n",
    "\n",
    "En conclusión: Sabemos que si $k=1$, entonces el x mínimo el cual se cumple $g(x, k)=0$ es 27. Por otro lado si $k=-1$, entonces el x mínimo el cual se cumple $g(x, k)=0$ es 105.\n",
    "\n",
    "\n",
    "\n",
    "**---------------------------------------------------------------------------------------------------------------------------**"
   ]
  },
  {
   "cell_type": "markdown",
   "id": "e2cc27e3",
   "metadata": {
    "id": "e2cc27e3"
   },
   "source": [
    "1.2 **(10 puntos)** Construya la función `find_x` la cual recibe como parámetros la función `bot` o `top`, un valor de $k$ y el máximo valor que puede tomar $x$. La función debe retornar el valor de $x \\in \\mathbb{N}$ tal que la función $g(x, k)=0$ en *double precision*, dado un valor $k$.\n",
    "\n",
    "*Hint: for convenience only use positive integer values for $x$.*"
   ]
  },
  {
   "cell_type": "code",
   "execution_count": 35,
   "id": "056a704b",
   "metadata": {
    "id": "056a704b"
   },
   "outputs": [],
   "source": [
    "def find_x(fun, k, x_max=1000):\n",
    "    \"\"\"\n",
    "    input:\n",
    "    fun    : (callable) function bot or top.\n",
    "    k      : (int) value of k.\n",
    "    x_max  : (int) maximum value of x to be searched.\n",
    "\n",
    "    output:\n",
    "    x      : (int) value of x that causes significant loss.\n",
    "    \"\"\"\n",
    "    #acá va su codigo\n",
    "    #--------------------------------\n",
    "    array_x=np.arange(1,x_max+1,1)\n",
    "    for i in array_x:\n",
    "        if fun(i,k)==1:\n",
    "            x=i\n",
    "            break\n",
    "    #--------------------------------\n",
    "    return x"
   ]
  },
  {
   "cell_type": "markdown",
   "id": "7d7c28d6",
   "metadata": {
    "id": "7d7c28d6"
   },
   "source": [
    "1.3 **(10 puntos)** Evalúe la función `find_x` para $\\text{bot}(x,k)$ y $\\text{top}(x,k)$ considerando $k=-1$ y $k=1$. Explique los resultados obtenidos."
   ]
  },
  {
   "cell_type": "code",
   "execution_count": 36,
   "id": "5b3068bf",
   "metadata": {
    "colab": {
     "base_uri": "https://localhost:8080/"
    },
    "id": "5b3068bf",
    "outputId": "8f5fbc21-032b-418e-dbc0-6dba984cfc8f"
   },
   "outputs": [
    {
     "name": "stdout",
     "output_type": "stream",
     "text": [
      "x1_top: 27\n",
      "x1_bop: 27\n",
      "x_top: 108\n",
      "x_bot: 106\n"
     ]
    }
   ],
   "source": [
    "#acá va su codigo\n",
    "#--------------------------------\n",
    "\n",
    "#Para k=1\n",
    "x1_top=find_x(top,1)\n",
    "x1_bot=find_x(bot,1)\n",
    "print(f'x1_top: {x1_top}')\n",
    "print(f'x1_bop: {x1_bot}')\n",
    "#Para k=-1\n",
    "x_top=find_x(top,-1)\n",
    "x_bot=find_x(bot,-1)\n",
    "print(f'x_top: {x_top}')\n",
    "print(f'x_bot: {x_bot}')\n",
    "#--------------------------------"
   ]
  },
  {
   "cell_type": "markdown",
   "id": "a1266155",
   "metadata": {},
   "source": [
    "**---------------------------------------------------------------------------------------------------------------------------**\n",
    "\n",
    "**Respuesta:**\n",
    "\n",
    "Se puede observar del gráfico que para $k=-1$, la función $g(x,k)$ disminuye mucho más lentamente a medida que x aumenta,por ende,para que haya pérdida de importancia, se necesita un $x$ mucho grande que para $k=1$($x>27$ teoricamente) .En este caso,mediante la funcion find,se comprueba lo anterior,puesto que con $k=-1$ ,x debe ser mayor a 108 en el caso de top y mayor a 106 en el caso de bot para hacer cumplir que $fun(x,k)=1$ y en consecucia  $g(x,k)$=0. Ahora ,existe una discrepancia en el valor de x para k=-1 teorico y el obtenido mediante find(x),esto sucede porque los bits menos significativos del termino $2^{-2^{-1}x}$   se pierden en el proceso de redondeo.Esto hace que el x mínimo sea distinto para top y para bot con k=-1. En cambio , para k=1 la convergencia es mas rápida, según el gráfico,por ende se necesita un x mas pequeño $x>27$. Al ser una convergencia mas rápida, la igualdad de mi código encontrá que $fun(x,k)=1$ de manera exacta, haciendo que hayan menor errores de redondeo y logrando una concordancia entre el valor teórico y el obtenido por la función find\n",
    "\n",
    "**---------------------------------------------------------------------------------------------------------------------------**"
   ]
  },
  {
   "cell_type": "markdown",
   "id": "4ae4409c",
   "metadata": {
    "id": "4ae4409c"
   },
   "source": [
    "# Pregunta 2\n",
    "\n",
    "La precisión de las representaciones de números flotantes es crucial en la computación científica, ya que la exactitud de los cálculos depende directamente de la forma en que se representan los números en un computador. Las decisiones sobre qué tipo de representación utilizar pueden influir significativamente en los resultados obtenidos, en la estabilidad de los algoritmos y en la eficiencia computacional. Es por ello que es interesante comparar diferentes representaciones, en este caso se compararán con $16$ bits (half precision), $32$ bits (single precision) y $64$ bits (double precision)."
   ]
  },
  {
   "cell_type": "markdown",
   "id": "7b8429ef",
   "metadata": {},
   "source": [
    " 2.1 **(20 puntos)** Construya la función `representation_difference` la cual recibe un arreglo de valores, y dos representaciones de punto flotante (puede asumir que estas serán $16$, $32$ o $64$, y no otro numero). Esta función deberá retornar la diferencia (en valor absoluto) al utilizar las dos representaciones solicitadas con cada número del arreglo.\n",
    " \n",
    "*Hint: it may be useful to use `np.float16` and some similar numpy functions.*"
   ]
  },
  {
   "cell_type": "code",
   "execution_count": 37,
   "id": "f22fabfe",
   "metadata": {
    "id": "f22fabfe"
   },
   "outputs": [],
   "source": [
    "def representation_difference(arr, p1, p2):\n",
    "    \"\"\"\n",
    "    input:\n",
    "    arr   : (ndarray) array of values.\n",
    "    p1    : (int)     precision 1 to compare (16, 32 or 64).\n",
    "    p2    : (int)     precision 2 to compare (16, 32 or 64).\n",
    "    \n",
    "    output:\n",
    "    diff  : (ndarray) array of differences between both representations.\n",
    "    \"\"\"\n",
    "    #acá va su codigo\n",
    "    #--------------------------------\n",
    "    \n",
    "    #--------------------------------\n",
    "    return diff"
   ]
  },
  {
   "cell_type": "markdown",
   "id": "f9af450f",
   "metadata": {},
   "source": [
    "2.2 **(15 puntos)** A continuación se presentan los siguientes gráficos, los cuales, con ayuda de la función implementada en el inciso anterior, muestran el comportamiento de la diferencia entre las precisiones seleccionadas al aumentar la cantidad de decimales utilizados para representar cierto valor.\n",
    "\n",
    "Explique a qué se debe este comportamiento y los factores involucrados."
   ]
  },
  {
   "cell_type": "code",
   "execution_count": 38,
   "id": "6d2a0601",
   "metadata": {},
   "outputs": [
    {
     "ename": "NameError",
     "evalue": "name 'diff' is not defined",
     "output_type": "error",
     "traceback": [
      "\u001b[1;31m---------------------------------------------------------------------------\u001b[0m",
      "\u001b[1;31mNameError\u001b[0m                                 Traceback (most recent call last)",
      "Cell \u001b[1;32mIn[38], line 18\u001b[0m\n\u001b[0;32m      2\u001b[0m array_to_compare \u001b[38;5;241m=\u001b[39m np\u001b[38;5;241m.\u001b[39marray(\n\u001b[0;32m      3\u001b[0m                           [\u001b[38;5;241m1.\u001b[39m , \n\u001b[0;32m      4\u001b[0m                            \u001b[38;5;241m1.12\u001b[39m, \n\u001b[1;32m   (...)\u001b[0m\n\u001b[0;32m     13\u001b[0m                            \u001b[38;5;241m1.12341234123412341234\u001b[39m]\n\u001b[0;32m     14\u001b[0m                            )\n\u001b[0;32m     16\u001b[0m amount_of_decimals \u001b[38;5;241m=\u001b[39m np\u001b[38;5;241m.\u001b[39marange(\u001b[38;5;241m0\u001b[39m,\u001b[38;5;241m21\u001b[39m,\u001b[38;5;241m2\u001b[39m)\n\u001b[1;32m---> 18\u001b[0m differences_16_32 \u001b[38;5;241m=\u001b[39m \u001b[43mrepresentation_difference\u001b[49m\u001b[43m(\u001b[49m\u001b[43marray_to_compare\u001b[49m\u001b[43m,\u001b[49m\u001b[43m \u001b[49m\u001b[38;5;241;43m16\u001b[39;49m\u001b[43m,\u001b[49m\u001b[43m \u001b[49m\u001b[38;5;241;43m32\u001b[39;49m\u001b[43m)\u001b[49m\n\u001b[0;32m     19\u001b[0m differences_16_64 \u001b[38;5;241m=\u001b[39m representation_difference(array_to_compare, \u001b[38;5;241m16\u001b[39m, \u001b[38;5;241m64\u001b[39m)\n\u001b[0;32m     20\u001b[0m differences_32_64 \u001b[38;5;241m=\u001b[39m representation_difference(array_to_compare, \u001b[38;5;241m32\u001b[39m, \u001b[38;5;241m64\u001b[39m)\n",
      "Cell \u001b[1;32mIn[37], line 15\u001b[0m, in \u001b[0;36mrepresentation_difference\u001b[1;34m(arr, p1, p2)\u001b[0m\n\u001b[0;32m      2\u001b[0m \u001b[38;5;250m\u001b[39m\u001b[38;5;124;03m\"\"\"\u001b[39;00m\n\u001b[0;32m      3\u001b[0m \u001b[38;5;124;03minput:\u001b[39;00m\n\u001b[0;32m      4\u001b[0m \u001b[38;5;124;03marr   : (ndarray) array of values.\u001b[39;00m\n\u001b[1;32m   (...)\u001b[0m\n\u001b[0;32m      9\u001b[0m \u001b[38;5;124;03mdiff  : (ndarray) array of differences between both representations.\u001b[39;00m\n\u001b[0;32m     10\u001b[0m \u001b[38;5;124;03m\"\"\"\u001b[39;00m\n\u001b[0;32m     11\u001b[0m \u001b[38;5;66;03m#acá va su codigo\u001b[39;00m\n\u001b[0;32m     12\u001b[0m \u001b[38;5;66;03m#--------------------------------\u001b[39;00m\n\u001b[0;32m     13\u001b[0m \n\u001b[0;32m     14\u001b[0m \u001b[38;5;66;03m#--------------------------------\u001b[39;00m\n\u001b[1;32m---> 15\u001b[0m \u001b[38;5;28;01mreturn\u001b[39;00m \u001b[43mdiff\u001b[49m\n",
      "\u001b[1;31mNameError\u001b[0m: name 'diff' is not defined"
     ]
    }
   ],
   "source": [
    "#No modificar este código, solamente ejecute.\n",
    "array_to_compare = np.array(\n",
    "                          [1. , \n",
    "                           1.12, \n",
    "                           1.1234, \n",
    "                           1.123412, \n",
    "                           1.12341234, \n",
    "                           1.1234123412, \n",
    "                           1.123412341234, \n",
    "                           1.12341234123412, \n",
    "                           1.1234123412341234, \n",
    "                           1.123412341234123412, \n",
    "                           1.12341234123412341234]\n",
    "                           )\n",
    "\n",
    "amount_of_decimals = np.arange(0,21,2)\n",
    "\n",
    "differences_16_32 = representation_difference(array_to_compare, 16, 32)\n",
    "differences_16_64 = representation_difference(array_to_compare, 16, 64)\n",
    "differences_32_64 = representation_difference(array_to_compare, 32, 64)\n",
    "\n",
    "fig, ax = plt.subplots(1, 3, figsize=(22, 5))\n",
    "\n",
    "ax[0].plot(amount_of_decimals, differences_16_32, label='16-32')\n",
    "ax[0].set_title('Diferencia entre representaciones de 16 y 32 bits')\n",
    "ax[0].set_xlabel('Cantidad de decimales utilizados')\n",
    "ax[0].set_ylabel('Diferencia')\n",
    "ax[0].set_xticks(np.arange(0, 21, 2))\n",
    "ax[0].grid(True)\n",
    "\n",
    "ax[1].plot(amount_of_decimals, differences_16_64, label='16-64')\n",
    "ax[1].set_title('Diferencia entre representaciones de 16 y 64 bits')\n",
    "ax[1].set_xlabel('Cantidad de decimales utilizados')\n",
    "ax[1].set_ylabel('Diferencia')\n",
    "ax[1].set_xticks(np.arange(0, 21, 2))\n",
    "ax[1].grid(True)\n",
    "\n",
    "ax[2].plot(amount_of_decimals, differences_32_64, label='32-64')\n",
    "ax[2].set_title('Diferencia entre representaciones de 32 y 64 bits')\n",
    "ax[2].set_xlabel('Cantidad de decimales utlizados')\n",
    "ax[2].set_ylabel('Diferencia')\n",
    "ax[2].set_xticks(np.arange(0, 21, 2))\n",
    "ax[2].grid(True)\n",
    "\n",
    "plt.show()"
   ]
  },
  {
   "cell_type": "markdown",
   "id": "3167f89a",
   "metadata": {},
   "source": [
    "**---------------------------------------------------------------------------------------------------------------------------**\n",
    "\n",
    "**Respuesta:**\n",
    "\n",
    "\n",
    "**---------------------------------------------------------------------------------------------------------------------------**"
   ]
  },
  {
   "cell_type": "markdown",
   "id": "8ec8e287",
   "metadata": {
    "id": "8ec8e287"
   },
   "source": [
    "# Pregunta 3"
   ]
  },
  {
   "cell_type": "markdown",
   "id": "ab74a3ab",
   "metadata": {
    "id": "ab74a3ab"
   },
   "source": [
    "Se dispone de la siguiente función, la cual presenta un error de cancelación a medida que el valor de $x$ aumenta.\n",
    "\n",
    "$$h(x) = \\frac{1}{1 - \\sqrt{1+2^{-x}}}$$\n",
    "\n",
    "Para mostrar el error de cancelación se desarrolló el siguiente gráfico. Notar que la función sufrirá de una división por $0$ para valores de $x$ suficientemente grandes. No hay problema con lo anterior, pues aquellos puntos que indeterminan la función son ignorados por *matplotlib* al momento de graficar."
   ]
  },
  {
   "cell_type": "code",
   "execution_count": null,
   "id": "260ffd31",
   "metadata": {
    "id": "260ffd31"
   },
   "outputs": [
    {
     "ename": "NameError",
     "evalue": "name 'np' is not defined",
     "output_type": "error",
     "traceback": [
      "\u001b[1;31m---------------------------------------------------------------------------\u001b[0m",
      "\u001b[1;31mNameError\u001b[0m                                 Traceback (most recent call last)",
      "Cell \u001b[1;32mIn[1], line 3\u001b[0m\n\u001b[0;32m      1\u001b[0m \u001b[38;5;66;03m#No modificar este código, solamente ejecute.\u001b[39;00m\n\u001b[0;32m      2\u001b[0m h \u001b[38;5;241m=\u001b[39m \u001b[38;5;28;01mlambda\u001b[39;00m x: \u001b[38;5;241m1.0\u001b[39m\u001b[38;5;241m/\u001b[39m(\u001b[38;5;241m1.0\u001b[39m \u001b[38;5;241m-\u001b[39m np\u001b[38;5;241m.\u001b[39msqrt(\u001b[38;5;241m1.0\u001b[39m \u001b[38;5;241m+\u001b[39m np\u001b[38;5;241m.\u001b[39mpower(\u001b[38;5;241m2.0\u001b[39m, \u001b[38;5;241m-\u001b[39mx)))\n\u001b[1;32m----> 3\u001b[0m x \u001b[38;5;241m=\u001b[39m \u001b[43mnp\u001b[49m\u001b[38;5;241m.\u001b[39marange(\u001b[38;5;241m40\u001b[39m, \u001b[38;5;241m60\u001b[39m, \u001b[38;5;241m1\u001b[39m)\n\u001b[0;32m      4\u001b[0m hx \u001b[38;5;241m=\u001b[39m h(x)\n\u001b[0;32m      6\u001b[0m fig, ax \u001b[38;5;241m=\u001b[39m plt\u001b[38;5;241m.\u001b[39msubplots(figsize\u001b[38;5;241m=\u001b[39m(\u001b[38;5;241m5\u001b[39m, \u001b[38;5;241m5\u001b[39m))\n",
      "\u001b[1;31mNameError\u001b[0m: name 'np' is not defined"
     ]
    }
   ],
   "source": [
    "#No modificar este código, solamente ejecute.\n",
    "h = lambda x: 1.0/(1.0 - np.sqrt(1.0 + np.power(2.0, -x)))\n",
    "x = np.arange(40, 60, 1)\n",
    "hx = h(x)\n",
    "\n",
    "fig, ax = plt.subplots(figsize=(5, 5))\n",
    "\n",
    "plt.plot(x, hx, 'b.')\n",
    "\n",
    "ax.set_xlim(40, 60)\n",
    "ax.set_ylim(-10e15, 0)\n",
    "ax.set_xlabel(\"x\")\n",
    "ax.set_ylabel(\"h(x)\")\n",
    "plt.grid(True)\n",
    "plt.show()"
   ]
  },
  {
   "cell_type": "markdown",
   "id": "c3038be5",
   "metadata": {},
   "source": [
    "3.1 **(15 puntos)** Modifique la función $h(x)$ para solucionar el error de cancelación"
   ]
  },
  {
   "cell_type": "markdown",
   "id": "85016dc4",
   "metadata": {},
   "source": [
    "**---------------------------------------------------------------------------------------------------------------------------**\n",
    "\n",
    "**Respuesta:**\n",
    "\n",
    "\n",
    "**---------------------------------------------------------------------------------------------------------------------------**"
   ]
  },
  {
   "cell_type": "markdown",
   "id": "e57479a9",
   "metadata": {},
   "source": [
    "3.2 **(10 puntos)** Implemente la función sin error de cancelación y grafique su comportamiento (asegúrese de que sea un gráfico de puntos y no de línea) para $x \\in [40, 60]$, considere que $x \\in \\mathbb{N}$."
   ]
  },
  {
   "cell_type": "code",
   "execution_count": null,
   "id": "7c6b19ad",
   "metadata": {
    "id": "7c6b19ad",
    "outputId": "fa880a6e-a5fb-423d-a107-558c71b0545d"
   },
   "outputs": [],
   "source": [
    "#acá va su código\n",
    "#--------------------------------\n",
    "\n",
    "#--------------------------------"
   ]
  },
  {
   "cell_type": "markdown",
   "id": "16b93765",
   "metadata": {},
   "source": [
    "3.3 **(5 puntos)** De acuerdo con lo obtenido en los incisos anteriores ¿Su nueva función logró mejorar en la precisión? En ese caso explique el por qué.\n",
    "\n",
    "*Hint: establishing axis limits may be useful to make comparisons between plots.*"
   ]
  },
  {
   "cell_type": "markdown",
   "id": "910c33da",
   "metadata": {},
   "source": [
    "**---------------------------------------------------------------------------------------------------------------------------**\n",
    "\n",
    "**Respuesta:**\n",
    "\n",
    "\n",
    "**---------------------------------------------------------------------------------------------------------------------------**"
   ]
  },
  {
   "cell_type": "markdown",
   "id": "42c0bf7a",
   "metadata": {
    "id": "42c0bf7a"
   },
   "source": [
    "\n",
    "\n",
    "\n",
    "**¡Ya ha llegado al final de la tarea 1! Ahora debe enviarla antes de las 23:55 hrs. del viernes 30 de agosto!**  \n",
    "\n",
    "**Recuerde que el archivo de entrega debe seguir el siguiente formato: “apellido1_apellido2_tarea_numero.ipynb” en minúsculas, y no olvide revisar el reglamento de tareas.**\n"
   ]
  }
 ],
 "metadata": {
  "colab": {
   "provenance": []
  },
  "kernelspec": {
   "display_name": "Python 3 (ipykernel)",
   "language": "python",
   "name": "python3"
  },
  "language_info": {
   "codemirror_mode": {
    "name": "ipython",
    "version": 3
   },
   "file_extension": ".py",
   "mimetype": "text/x-python",
   "name": "python",
   "nbconvert_exporter": "python",
   "pygments_lexer": "ipython3",
   "version": "3.12.4"
  },
  "vscode": {
   "interpreter": {
    "hash": "17d463067b2f2c9888f54f1756b262056c9f0a1a388465c70b8d87f79fd8e42a"
   }
  }
 },
 "nbformat": 4,
 "nbformat_minor": 5
}

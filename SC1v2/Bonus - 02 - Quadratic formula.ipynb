{
 "cells": [
  {
   "cell_type": "markdown",
   "id": "30b3501f",
   "metadata": {},
   "source": [
    "<center>\n",
    "    <img src=\"http://sct.inf.utfsm.cl/wp-content/uploads/2020/04/logo_di.png\" style=\"width:60%\">\n",
    "    <h1> INF-285 - Computación Científica </h1>\n",
    "    <h2> Quadratic Formula </h2>\n",
    "    <h2> <a href=\"#acknowledgements\"> [S]cientific [C]omputing [T]eam </a> </h2>\n",
    "    <h2> Version: 1.00 </h2>\n",
    "</center>\n",
    "\n"
   ]
  },
  {
   "cell_type": "markdown",
   "id": "d3fdc9b7",
   "metadata": {},
   "source": [
    "<div id='toc' />\n",
    "\n",
    "## Table of Contents\n",
    "* [Introduction](#intro)\n",
    "* [Acknowledgements](#acknowledgements)"
   ]
  },
  {
   "cell_type": "code",
   "execution_count": 2,
   "id": "0acf5aee",
   "metadata": {},
   "outputs": [],
   "source": [
    "import numpy as np\n",
    "import matplotlib.pyplot as plt\n",
    "import sympy as sym\n",
    "sym.init_printing()\n",
    "import bitstring as bs\n",
    "\n",
    "# This function shows the bits used for the sign, exponent and mantissa for a 64-bit double presision number.\n",
    "# fps: Floating Point Standard\n",
    "# Double: Double precision IEEE 754\n",
    "def to_fps_double(f):\n",
    "    b = bs.pack('>d', f)\n",
    "    b = b.bin\n",
    "    #show sign + exponent + mantisa\n",
    "    print(b[0]+' '+b[1:12]+ ' '+b[12:])\n",
    "    \n",
    "from colorama import Fore, Back, Style\n",
    "# https://pypi.org/project/colorama/\n",
    "# Fore: BLACK, RED, GREEN, YELLOW, BLUE, MAGENTA, CYAN, WHITE, RESET.\n",
    "# Back: BLACK, RED, GREEN, YELLOW, BLUE, MAGENTA, CYAN, WHITE, RESET.\n",
    "# Style: DIM, NORMAL, BRIGHT, RESET_ALL\n",
    "textBold = lambda x: Style.BRIGHT+x+Style.RESET_ALL\n",
    "textBoldH = lambda x: Style.BRIGHT+Back.YELLOW+x+Style.RESET_ALL\n",
    "textBoldB = lambda x: Style.BRIGHT+Back.BLUE+Fore.BLACK+x+Style.RESET_ALL\n",
    "textBoldR = lambda x: Style.BRIGHT+Back.RED+Fore.BLACK+x+Style.RESET_ALL"
   ]
  },
  {
   "cell_type": "markdown",
   "id": "c58b0d12",
   "metadata": {},
   "source": [
    "<div id='intro' />\n",
    "\n",
    "# Introduction\n",
    "[Back to TOC](#toc)\n",
    "\n",
    "In this jupyter notebook we will study a classical but useful example to understand the issue with loss of significance.\n",
    "The example that we will study is the well-known quadratic equation, moreover, it well-known solution, i.e. the quadratic formula.\n",
    "To make sure we are all on the same page, we write down the quadratic equation explicitly:\n",
    "$$\n",
    "\\begin{equation}\n",
    "    \\widetilde{a}\\,x^2+\\widetilde{b}\\,x+\\widetilde{c}=0,\n",
    "\\end{equation}\n",
    "$$\n",
    "where $\\widetilde{a}\\neq 0$, $\\widetilde{a}\\in\\mathbb{R}$, $\\widetilde{b}\\in\\mathbb{R}$, and $\\widetilde{c}\\in\\mathbb{R}$.\n",
    "For which we all know the quadratic formula solution for $x$, \n",
    "$$\n",
    "\\begin{equation}\n",
    "    x_{\\pm} = \\dfrac{-\\widetilde{b}\\pm \\sqrt{\\widetilde{b}^2-4\\,\\widetilde{a}\\,\\widetilde{c}}}{2\\,\\widetilde{a}}.\n",
    "\\end{equation}\n",
    "$$\n",
    "So, you may wonder, what is the problem with this?\n",
    "And that is the right question!\n",
    "Thus, before we proceed to fix the issue we actually need to understand the issue.\n",
    "So, as you may expect, we will proceed to make the quadratic formula to fail.\n",
    "\n",
    "Just in case you may not believe me that the quadractic formula actually provides the values of $x$ as a function of $\\widetilde{a}$, $\\widetilde{b}$, and $\\widetilde{a}$, we will use SymPy to double check on that."
   ]
  },
  {
   "cell_type": "code",
   "execution_count": 3,
   "id": "7f18d6e9",
   "metadata": {},
   "outputs": [],
   "source": [
    "# Defining some symbolic variables. We omit in this case the widetilde used for clarity, but don't forget it!\n",
    "x,a,b,c = sym.symbols(\"x,a,b,c\")\n",
    "# Finding the root of the quadratic equation\n",
    "roots=sym.solve(a*x**2+b*x+c,x)"
   ]
  },
  {
   "cell_type": "markdown",
   "id": "4663a78b",
   "metadata": {},
   "source": [
    "Thus, we have sucessfully confirmed that the formula is indeed correct.\n",
    "\n",
    "The idea os using SymPy is that it can help us to manipulate _complex_ algebraic expressions, for instance, we will reproduce now two classical facts derived from the quadratic formula.\n",
    "- $x_{-}\\,x_{+}$\n",
    "- $x_{-}+x_{+}$"
   ]
  },
  {
   "cell_type": "markdown",
   "id": "5a2f50af",
   "metadata": {},
   "source": [
    "Aqui estamos demostrando que realmente roots tiene las soluciones de la ecuación cudrática"
   ]
  },
  {
   "cell_type": "code",
   "execution_count": 7,
   "id": "bcb5afa1",
   "metadata": {},
   "outputs": [
    {
     "data": {
      "image/png": "[encoded data removed]",
      "text/latex": [
       "$\\displaystyle \\frac{c}{a}$"
      ],
      "text/plain": [
       "c\n",
       "─\n",
       "a"
      ]
     },
     "execution_count": 7,
     "metadata": {},
     "output_type": "execute_result"
    }
   ],
   "source": [
    "sym.simplify(roots[0]*roots[1])"
   ]
  },
  {
   "cell_type": "code",
   "execution_count": 5,
   "id": "1be57b57",
   "metadata": {},
   "outputs": [
    {
     "data": {
      "image/png": "[encoded data removed]",
      "text/latex": [
       "$\\displaystyle - \\frac{b}{a}$"
      ],
      "text/plain": [
       "-b \n",
       "───\n",
       " a "
      ]
     },
     "execution_count": 5,
     "metadata": {},
     "output_type": "execute_result"
    }
   ],
   "source": [
    "sym.simplify(roots[0]+roots[1])"
   ]
  },
  {
   "cell_type": "markdown",
   "id": "8a8d9eed",
   "metadata": {},
   "source": [
    "<div id='example' />\n",
    "\n",
    "# Example for when it works and when it fails the quadratic formula\n",
    "[Back to TOC](#toc)\n",
    "\n",
    "For simplicity, we will consider $\\widetilde{a}=1$, notice that this can be easily achieved dividing by $\\widetilde{a}$ the quadratic equation, of course, the other coefficients will change, but it won't change the nature of the euqation.\n",
    "Recall that we are considering the case when $\\widetilde{a}\\neq 0$, if $a$ were equal to $0$, the equation would have been much simpler!\n",
    "The second sinplification is that $c=1$, this may be more tricky to understand, but we invite you to play with different values and experimento what happens!\n",
    "\n",
    "So, the new equation under study will be:\n",
    "$$\n",
    "\\begin{equation}\n",
    "    x^2+b\\,x+1=0,\n",
    "\\end{equation}\n",
    "$$\n",
    "where $b=\\frac{\\widetilde{b}}{\\widetilde{a}}$.\n",
    "For which we all know the quadratic formula solution for $x$, \n",
    "$$\n",
    "\\begin{equation}\n",
    "    x_{\\pm} = \\dfrac{-b\\pm \\sqrt{b^2-4}}{2}.\n",
    "\\end{equation}\n",
    "$$\n",
    "Notice that we used the widetilde ($\\widetilde{a}$, $\\widetilde{b}$, and $\\widetilde{c}$) before so it does not get confused with the notation in this part.\n",
    "\n",
    "Now, to simplify the problem even further, we will only consider the $+$ solution, i.e. $x_{+}$, this means,\n",
    "$$\n",
    "\\begin{equation*}\n",
    "    x_{+} = \\dfrac{-b+\\sqrt{b^2-4}}{2}.\n",
    "\\end{equation*}\n",
    "$$\n",
    "Also, to avoid handling _complex_ solutions, we will consider $|b| \\geq 4$.\n",
    "\n",
    "First, we will evaluate the solution for several values of $b$, again, for simplicity, $b>2$."
   ]
  },
  {
   "cell_type": "code",
   "execution_count": 6,
   "id": "56cc6701",
   "metadata": {},
   "outputs": [
    {
     "name": "stdout",
     "output_type": "stream",
     "text": [
      "b= 2.0 , x_pos= -1.0\n",
      "b= 112.88888888888889 , x_pos= -0.008858962924229274\n",
      "b= 223.77777777777777 , x_pos= -0.004468808208656583\n",
      "b= 334.66666666666663 , x_pos= -0.0029880744878028054\n",
      "b= 445.55555555555554 , x_pos= -0.002244400333154317\n",
      "b= 556.4444444444445 , x_pos= -0.0017971304047819103\n",
      "b= 667.3333333333333 , x_pos= -0.0014985048633775477\n",
      "b= 778.2222222222222 , x_pos= -0.0012849821331428757\n",
      "b= 889.1111111111111 , x_pos= -0.0011247202430695324\n",
      "b= 1000.0 , x_pos= -0.0010000010000226212\n"
     ]
    }
   ],
   "source": [
    "def x_pos(b):\n",
    "    return (-b+np.sqrt(np.power(b,2)-4.))/2.\n",
    "\n",
    "for b in np.linspace(2,1000,10):\n",
    "    print('b=',str(b),', x_pos=',str(x_pos(b)))    "
   ]
  },
  {
   "cell_type": "markdown",
   "id": "701cb357",
   "metadata": {},
   "source": [
    "So, as you may notice from before, we don't see any unexpected behavior for now.\n",
    "The well-known quadratic formula works just fine.\n",
    "We can even plot the outcome and used a vectorized approach."
   ]
  },
  {
   "cell_type": "code",
   "execution_count": 6,
   "id": "4b10ed60",
   "metadata": {},
   "outputs": [
    {
     "data": {
      "image/png": "[encoded data removed]",
      "text/plain": [
       "<Figure size 432x288 with 1 Axes>"
      ]
     },
     "metadata": {
      "needs_background": "light"
     },
     "output_type": "display_data"
    }
   ],
   "source": [
    "b = np.linspace(2,1000,1000) # Just using a higher resolution for plotting\n",
    "plt.figure()\n",
    "plt.plot(b,x_pos(b),'-',label='$x_{+}(b)$')\n",
    "plt.grid(True)\n",
    "plt.xlabel('$b$')\n",
    "plt.legend(loc='best')\n",
    "plt.show()"
   ]
  },
  {
   "cell_type": "markdown",
   "id": "60272864",
   "metadata": {},
   "source": [
    "As the plot shows, the solution is negative but tends to $0$ from the negative numbers.\n",
    "To visualize a bit better we will use a log-scale and plot the absolute value of the solution, since we can't compute the logarithm of negative numbers."
   ]
  },
  {
   "cell_type": "code",
   "execution_count": 7,
   "id": "a89f3adf",
   "metadata": {},
   "outputs": [
    {
     "data": {
      "image/png": "[encoded data removed]",
      "text/plain": [
       "<Figure size 432x288 with 1 Axes>"
      ]
     },
     "metadata": {
      "needs_background": "light"
     },
     "output_type": "display_data"
    }
   ],
   "source": [
    "b = np.linspace(2,1000,1000) # Just using a higher resolution for plotting\n",
    "plt.figure()\n",
    "plt.semilogy(b,np.abs(x_pos(b)),'r-',label='$|x_{+}(b)|$')\n",
    "plt.grid(True)\n",
    "plt.xlabel('$b$')\n",
    "plt.legend(loc='best')\n",
    "plt.show()"
   ]
  },
  {
   "cell_type": "markdown",
   "id": "4841e1da",
   "metadata": {},
   "source": [
    "To push it to the limit, we will use a log-log scale, i.e. we will chose $b$ in a log scale, basically increasing its value."
   ]
  },
  {
   "cell_type": "code",
   "execution_count": 8,
   "id": "a6722717",
   "metadata": {},
   "outputs": [
    {
     "data": {
      "image/png": "[encoded data removed]",
      "text/plain": [
       "<Figure size 432x288 with 1 Axes>"
      ]
     },
     "metadata": {
      "needs_background": "light"
     },
     "output_type": "display_data"
    }
   ],
   "source": [
    "b = np.logspace(np.log10(2),11,1000) # Just using a higher resolution for plotting\n",
    "plt.figure()\n",
    "plt.loglog(b,np.abs(x_pos(b)),'r-',label='$|x_{+}(b)|$')\n",
    "plt.grid(True)\n",
    "plt.xlabel('$b$')\n",
    "plt.legend(loc='best')\n",
    "plt.show()"
   ]
  },
  {
   "cell_type": "markdown",
   "id": "d34376ef",
   "metadata": {},
   "source": [
    "Now, in this plot we observe that the classic quadratic formula behaves well for the values of $b$ in the range $[2,10^7]$ approximately.\n",
    "And we clearly observe that for values of approximately $b=10^8$ there seems to be a problem.\n",
    "Even for greater values the solutions does not show up.\n",
    "Actually, what it is happening is that for large values, the solution it provides the quadratic formula is $0$, but since we are in log-log scales, it does not show up because it would be $-\\infty$.\n",
    "To observe this, we will add a line with the value $10^{-20}$ to be able to see something."
   ]
  },
  {
   "cell_type": "code",
   "execution_count": 9,
   "id": "8fe2d298",
   "metadata": {},
   "outputs": [
    {
     "data": {
      "image/png": "[encoded data removed]",
      "text/plain": [
       "<Figure size 432x288 with 1 Axes>"
      ]
     },
     "metadata": {
      "needs_background": "light"
     },
     "output_type": "display_data"
    }
   ],
   "source": [
    "b = np.logspace(np.log10(2),11,1000) # Just using a higher resolution for plotting\n",
    "plt.figure()\n",
    "plt.loglog(b,np.abs(x_pos(b)),'r-',label='$|x_{+}(b)|$')\n",
    "plt.loglog(b,b*0+np.power(10.,-20),'--',label='$10^{-20}$',alpha=0.7)\n",
    "plt.grid(True)\n",
    "plt.xlabel('$b$')\n",
    "plt.legend(loc='best')\n",
    "plt.show()"
   ]
  },
  {
   "cell_type": "markdown",
   "id": "c028c35d",
   "metadata": {},
   "source": [
    "What we observe now is that we have confirmed that the outcome was actually $0$.\n",
    "To confirm this we will show the bits used by the floating points standard for double precision for $b=10^9$:"
   ]
  },
  {
   "cell_type": "code",
   "execution_count": 10,
   "id": "c9653795",
   "metadata": {},
   "outputs": [
    {
     "name": "stdout",
     "output_type": "stream",
     "text": [
      "0 00000000000 0000000000000000000000000000000000000000000000000000\n"
     ]
    }
   ],
   "source": [
    "to_fps_double(x_pos(b=1.e9))"
   ]
  },
  {
   "cell_type": "markdown",
   "id": "69ddc08e",
   "metadata": {},
   "source": [
    "The previous outcome proves that the value obtained is actually $0$.\n",
    "\n",
    "So, the following questions seem critical, \n",
    "1. What is happening here?\n",
    "2. Why is it only happening for large values of $b$?\n",
    "3. Can this be fixed?\n",
    "\n",
    "See next section for the answers."
   ]
  },
  {
   "cell_type": "markdown",
   "id": "0c493c3e",
   "metadata": {},
   "source": [
    "# A more detailed analysis\n",
    "\n",
    "As we have observed numerically, there is an issue with the _direct evaluation of the positive root of the quadratic formula for large values of $b$_.\n",
    "Note that the issue is not always with the positive root, this is just an _toy_ example. The negative root may also show the problem if the same conditions appeared.\n",
    "For completeness we repeat the formula here:\n",
    "$$\n",
    "\\begin{equation*}\n",
    "    x_{+} = \\dfrac{-b+\\sqrt{b^2-4}}{2}.\n",
    "\\end{equation*}\n",
    "$$\n",
    "\n",
    "To answer the first question we will reproduce algebraically what it is happening for the case $b=10^9$:\n",
    "$$\n",
    "\\begin{align*}\n",
    "    x_{+}   &= \\dfrac{-b+\\sqrt{b^2-4}}{2}\\\\\n",
    "            &= \\dfrac{-10^9+\\sqrt{(10^9)^2-4}}{2}\\\\\n",
    "            &= \\dfrac{-10^9+\\sqrt{10^{18}-4}}{2}.\n",
    "\\end{align*}\n",
    "$$\n",
    "So, here is the first numercal challenge, can we actually perform the computation of $10^{18}-4$.\n",
    "To understand this, we will show the floating point representation of each number and the result of the operation."
   ]
  },
  {
   "cell_type": "code",
   "execution_count": 11,
   "id": "71a581f7",
   "metadata": {},
   "outputs": [
    {
     "name": "stdout",
     "output_type": "stream",
     "text": [
      "\u001b[1m\u001b[43mFloating Point representation of the Double Precision (FPDP) of number $10^{18}$\u001b[0m\n",
      "0 10000111010 1011110000010110110101100111010011101100100000000000\n",
      "\u001b[1m\u001b[43mFPDP of number $4$\u001b[0m\n",
      "0 10000000001 0000000000000000000000000000000000000000000000000000\n",
      "\u001b[1m\u001b[43mFPDP of number $10^{18}-4$\u001b[0m\n",
      "0 10000111010 1011110000010110110101100111010011101100100000000000\n",
      "\u001b[1m\u001b[43mJust to make sure, we compute $(10^{18}-4)-10^{18}$\u001b[0m\n",
      "0 00000000000 0000000000000000000000000000000000000000000000000000\n",
      "\u001b[1m\u001b[41m\u001b[30mSo the outcome is indeed $0$, so substracting 4 does not do anything\u001b[0m\n"
     ]
    }
   ],
   "source": [
    "print(textBoldH(\"Floating Point representation of the Double Precision (FPDP) of number $10^{18}$\"))\n",
    "to_fps_double(1.e18)\n",
    "print(textBoldH(\"FPDP of number $4$\"))\n",
    "to_fps_double(4.)\n",
    "print(textBoldH(\"FPDP of number $10^{18}-4$\"))\n",
    "to_fps_double((1.e18)-4.)\n",
    "print(textBoldH(\"Just to make sure, we compute $(10^{18}-4)-10^{18}$\"))\n",
    "to_fps_double(((1.e18)-4.)-1.e18)\n",
    "print(textBoldR(\"So the outcome is indeed $0$, so substracting 4 does not do anything\"))"
   ]
  },
  {
   "cell_type": "markdown",
   "id": "cf2c2ea4",
   "metadata": {},
   "source": [
    "This partially answer the question, now, we need to compute the square root."
   ]
  },
  {
   "cell_type": "code",
   "execution_count": 12,
   "id": "debd4670",
   "metadata": {},
   "outputs": [
    {
     "name": "stdout",
     "output_type": "stream",
     "text": [
      "\u001b[1m\u001b[43mFPDP of number $\\sqrt{10^{18}}$\u001b[0m\n",
      "0 10000011100 1101110011010110010100000000000000000000000000000000\n",
      "\u001b[1m\u001b[43mFPDP of number $10^9$\u001b[0m\n",
      "0 10000011100 1101110011010110010100000000000000000000000000000000\n"
     ]
    }
   ],
   "source": [
    "print(textBoldH(\"FPDP of number $\\sqrt{10^{18}}$\"))\n",
    "to_fps_double(np.sqrt(1.e18))\n",
    "print(textBoldH(\"FPDP of number $10^9$\"))\n",
    "to_fps_double(1.e9)"
   ]
  },
  {
   "cell_type": "markdown",
   "id": "eb7adea2",
   "metadata": {},
   "source": [
    "What we observe from the previous numerical experiment is that the $\\sqrt{10^{18}}$ is exactly $10^9$, which is indeed the expected result.\n",
    "**Now, what does this imply?**\n",
    "\n",
    "Let's put the numerical computation in an algebraic form.\n",
    "We will be adding fl $(\\cdot)$ where we perform the corresponding numerical computation:\n",
    "$$\n",
    "\\begin{align*}\n",
    "    \\text{fl}(x_{+})   \n",
    "        &= \\dfrac{-10^9+\\sqrt{\\text{fl}(10^{18}-4)}}{2}\\\\\n",
    "        &= \\dfrac{-10^9+\\sqrt{\\text{fl}(10^{18})}}{2}\\\\\n",
    "        &= \\dfrac{-10^9+\\text{fl}(\\sqrt{10^{18}})}{2}\\\\\n",
    "        &= \\dfrac{\\text{fl}(-10^9+10^9)}{2}\\\\\n",
    "        &= 0.\n",
    "\\end{align*}\n",
    "$$"
   ]
  },
  {
   "cell_type": "markdown",
   "id": "87bb528e",
   "metadata": {},
   "source": [
    "Thus, this analysis answer teh first and second questions, which we will repeat here for completeness:\n",
    "1. What is happening here? **Answer: There is loss of significance.**\n",
    "2. Why is it only happening for large values of $b$? **Answer: This only happens for large values of $b$ because that is the loss of significance occurs in this case. Particularly, it happens when there is a sum (or substraction) of number that have a difference of more than 16-order of magnitude.**\n"
   ]
  },
  {
   "cell_type": "markdown",
   "id": "6a144065",
   "metadata": {},
   "source": [
    "# Fixing the issue\n",
    "\n",
    "To answer the third question, we need to think in a way such that we avoid forcing the code to operate between numbers that have a large difference of magnitud in critical steps.\n",
    "In this case, we can multiply by a convenient $1$ to help us to cancel out the issue.\n",
    "This means:\n",
    "$$\n",
    "\\begin{align*}\n",
    "    x_{+}   &= \\dfrac{-b+\\sqrt{b^2-4}}{2}\\\\\n",
    "            &= \\dfrac{-b+\\sqrt{b^2-4}}{2} \\,\\dfrac{(-b-\\sqrt{b^2-4})}{(-b-\\sqrt{b^2-4})}\\\\\n",
    "            &= \\dfrac{(-b)^2-(b^2-4)}{2\\,(-\\,b-\\sqrt{b^2-4})}\\\\\n",
    "            &= \\dfrac{-2}{b+\\sqrt{b^2-4}}.\n",
    "\\end{align*}\n",
    "$$\n",
    "Notice that in the last step we have conveniently manipulated the mathematical expression simplifying it as much as possible.\n",
    "\n",
    "Then, we can implement this new expression now and solve the third question!"
   ]
  },
  {
   "cell_type": "code",
   "execution_count": 13,
   "id": "d7d0f66a",
   "metadata": {},
   "outputs": [],
   "source": [
    "def x_pos_fixed(b):\n",
    "    return -2./(b+np.sqrt(np.power(b,2)-4.))"
   ]
  },
  {
   "cell_type": "markdown",
   "id": "c4f9d2d9",
   "metadata": {},
   "source": [
    "Well, you may ask, is this actually correct? Let's review if it actually solve the quadratic equation.\n",
    "For doing this, we will evaluate the polynomial and see if it actually gives us $0$.\n",
    "We will perform the evaluation with the NumPy routine _np.polyval_ (see the documentation) and we will plot the outcome."
   ]
  },
  {
   "cell_type": "code",
   "execution_count": 14,
   "id": "5ac82855",
   "metadata": {},
   "outputs": [
    {
     "data": {
      "image/png": "[encoded data removed]",
      "text/plain": [
       "<Figure size 432x288 with 1 Axes>"
      ]
     },
     "metadata": {
      "needs_background": "light"
     },
     "output_type": "display_data"
    }
   ],
   "source": [
    "n = 1000\n",
    "b = np.logspace(np.log10(2),11,n)\n",
    "outcome_original    = np.zeros(n)\n",
    "outcome_fixed       = np.zeros(n)\n",
    "for i, bi in np.ndenumerate(b):\n",
    "     p                   = np.array([1,bi,1])\n",
    "     outcome_original[i] = np.polyval(p,x_pos(bi))\n",
    "     outcome_fixed[i]    = np.polyval(p,x_pos_fixed(bi))\n",
    "plt.figure()\n",
    "plt.loglog(b,np.abs(outcome_original),'.r',label=\"Original residual\")\n",
    "plt.loglog(b,np.abs(outcome_fixed),'.b',label=\"Fixed residual\")\n",
    "plt.grid(True)\n",
    "plt.legend(loc='best')\n",
    "plt.show()"
   ]
  },
  {
   "cell_type": "markdown",
   "id": "5b607ec7",
   "metadata": {},
   "source": [
    "For compeltenes, we will show the evolution of the root as a function of $b$, the same plot showed few cells back."
   ]
  },
  {
   "cell_type": "code",
   "execution_count": 15,
   "id": "73ad8769",
   "metadata": {},
   "outputs": [
    {
     "data": {
      "image/png": "[encoded data removed]",
      "text/plain": [
       "<Figure size 432x288 with 1 Axes>"
      ]
     },
     "metadata": {
      "needs_background": "light"
     },
     "output_type": "display_data"
    }
   ],
   "source": [
    "b = np.logspace(np.log10(2),11,1000) # Just using a higher resolution for plotting\n",
    "plt.figure()\n",
    "plt.loglog(b,np.abs(x_pos(b)),'r-',label='$|x_{+}(b)|$')\n",
    "plt.loglog(b,np.abs(x_pos_fixed(b)),'b-',label='$|x_{+}(b)|$ (fixed)')\n",
    "plt.grid(True)\n",
    "plt.xlabel('$b$')\n",
    "plt.legend(loc='best')\n",
    "plt.show()"
   ]
  },
  {
   "cell_type": "markdown",
   "id": "65e5f121",
   "metadata": {},
   "source": [
    "Here we show the magnitude of the difference between the roots, it show an increasing behaviour that seems to improve later.\n",
    "This is actually a tricky plot.\n",
    "First, the scale on the $y$-axis is small.\n",
    "Second, when it shows a better behaviour, is because the fixed root is actually going to zero an the original root is zero, which is wrong.\n",
    "So please don't get confuse and conclude that thing gets better as $b$ increases!\n",
    "It is actually totally the opposite!"
   ]
  },
  {
   "cell_type": "code",
   "execution_count": 16,
   "id": "c1af005d",
   "metadata": {},
   "outputs": [
    {
     "data": {
      "image/png": "[encoded data removed]",
      "text/plain": [
       "<Figure size 432x288 with 1 Axes>"
      ]
     },
     "metadata": {
      "needs_background": "light"
     },
     "output_type": "display_data"
    }
   ],
   "source": [
    "b = np.logspace(np.log10(2),11,1000) # Just using a higher resolution for plotting\n",
    "plt.figure()\n",
    "plt.loglog(b,np.abs(x_pos(b)-x_pos_fixed(b)),'.k',label='$|x_{+}(b)-x_{+}(b)$ (fixed)$|$')\n",
    "plt.grid(True)\n",
    "plt.xlabel('$b$')\n",
    "plt.legend(loc='best')\n",
    "plt.show()"
   ]
  },
  {
   "cell_type": "markdown",
   "id": "f1de035e",
   "metadata": {},
   "source": [
    "# Conclusion\n",
    "\n",
    "There is not an algorithm to solve these kind of problems, they need to by analyzed carefully to point out where you may have an issue.\n",
    "In particular, a good place to look is when you need to substract numbers, which is actually what happended here, but it is not always the case.\n",
    "As we say in the other jupyter notebook (using Julia!) to compute $\\sum_{k=1}^\\infty \\frac{1}{k^2}$.\n",
    "The good news is that you are aware of the problem now!\n",
    "\n",
    "Quick questions: \n",
    "- Will the negative root have a similar problem?\n",
    "- Can you define a general solver for a quadratic equation that always work?"
   ]
  },
  {
   "cell_type": "markdown",
   "id": "0c29f138",
   "metadata": {},
   "source": [
    "<div id='acknowledgements' />\n",
    "\n",
    "# Acknowledgements\n",
    "[Back to TOC](#toc)\n",
    "\n",
    "* _Material originally created by professor Claudio Torres_ (`ctorres@inf.utfsm.cl`). v.1.0. DI UTFSM. March 2022._"
   ]
  },
  {
   "cell_type": "code",
   "execution_count": 17,
   "id": "171ae2f1",
   "metadata": {},
   "outputs": [
    {
     "name": "stdout",
     "output_type": "stream",
     "text": [
      "-52.0\n",
      "-63.0\n",
      "-63.0\n"
     ]
    }
   ],
   "source": [
    "# Extra example, the following code show the log2 of the \"machine epsilon\" used by Python for the indicated data types. \n",
    "# Isn't it interesting? Does not seem to be standard? \n",
    "# see: https://numpy.org/doc/stable/user/basics.types.html\n",
    "print(np.log2(np.finfo(np.float64).eps))\n",
    "print(np.log2(np.finfo(np.longdouble).eps))\n",
    "print(np.log2(np.finfo(np.float128).eps))"
   ]
  },
  {
   "cell_type": "code",
   "execution_count": null,
   "id": "df747b9f",
   "metadata": {},
   "outputs": [],
   "source": []
  }
 ],
 "metadata": {
  "kernelspec": {
   "display_name": "Python 3.9.12 ('base')",
   "language": "python",
   "name": "python3"
  },
  "language_info": {
   "codemirror_mode": {
    "name": "ipython",
    "version": 3
   },
   "file_extension": ".py",
   "mimetype": "text/x-python",
   "name": "python",
   "nbconvert_exporter": "python",
   "pygments_lexer": "ipython3",
   "version": "3.12.2"
  },
  "vscode": {
   "interpreter": {
    "hash": "3d597f4c481aa0f25dceb95d2a0067e73c0966dcbd003d741d821a7208527ecf"
   }
  }
 },
 "nbformat": 4,
 "nbformat_minor": 5
}

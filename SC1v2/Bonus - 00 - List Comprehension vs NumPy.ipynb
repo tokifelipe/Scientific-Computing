{
 "cells": [
  {
   "cell_type": "markdown",
   "metadata": {},
   "source": [
    "<center>\n",
    "    <img src=\"http://sct.inf.utfsm.cl/wp-content/uploads/2020/04/logo_di.png\" style=\"width:60%\">\n",
    "    <h1> INF285 - Computación Científica </h1>\n",
    "    <h2> List Comprehension vs NumPy </h2>\n",
    "    <h2> <a href=\"#acknowledgements\"> [S]cientific [C]omputing [T]eam </a> </h2>\n",
    "    <h2> Version: 1.00</h2>\n",
    "</center>"
   ]
  },
  {
   "cell_type": "markdown",
   "metadata": {},
   "source": [
    "<div id='toc' />\n",
    "\n",
    "## Table of Contents\n",
    "* [Introduction](#intro)\n",
    "* [First Task](#first)\n",
    "* [Second Task](#second)\n",
    "* [Final Task](#final)\n",
    "* [Acknowledgements](#acknowledgements)"
   ]
  },
  {
   "cell_type": "code",
   "execution_count": 8,
   "metadata": {},
   "outputs": [],
   "source": [
    "import numpy as np\n",
    "import matplotlib.pyplot as plt\n",
    "from ipywidgets import interact\n",
    "from mpl_toolkits.mplot3d import Axes3D\n",
    "from matplotlib import cm\n",
    "from matplotlib.ticker import LinearLocator, FormatStrFormatter\n",
    "import matplotlib as mpl\n",
    "mpl.rcParams['font.size'] = 14\n",
    "mpl.rcParams['axes.labelsize'] = 20\n",
    "mpl.rcParams['xtick.labelsize'] = 14\n",
    "mpl.rcParams['ytick.labelsize'] = 14\n",
    "%matplotlib inline"
   ]
  },
  {
   "cell_type": "markdown",
   "metadata": {},
   "source": [
    "<div id='intro' />\n",
    "\n",
    "# Introducción\n",
    "[Volver al TOC](#toc)\n",
    "\n",
    "En este Jupyter Notebook compararemos el uso de List Comprehension versus NumPy en Computación Numérica, es decir, en Computación Científica.\n",
    "La idea es resaltar la principal ventaja de la computación vectorizada con NumPy sobre lo que aprendes inicialmente sobre Python.\n",
    "El propósito de esto es darte las herramientas para crear código más limpio y rápido con Python, donde más limpio significa menos líneas de código y más legible, y más rápido significa que toma mucho menos tiempo que una implementación *tradicional* sin NumPy.\n",
    "Nota que no incluiremos __map__ en la comparación ya que en la mayoría de los casos que he visto, el uso de List Comprehension es más común.\n",
    "\n",
    "Te sugerimos encarecidamente que eches un vistazo al Jupyter Notebook **Bonus - 00 - El comienzo.ipynb** para entender más sobre la computación vectorizada y más ventajas de NumPy.\n",
    "\n",
    "Este Jupyter Notebook estará organizado como una secuencia de tareas y comparaciones, por lo que es importante que las revises todas."
   ]
  },
  {
   "cell_type": "markdown",
   "metadata": {},
   "source": [
    "<div id='first' />\n",
    "\n",
    "# First task: Build a list with the integers from 1 to N=100000.\n",
    "[Back to TOC](#toc)"
   ]
  },
  {
   "cell_type": "code",
   "execution_count": 9,
   "metadata": {},
   "outputs": [
    {
     "name": "stdout",
     "output_type": "stream",
     "text": [
      "5.58 ms ± 304 μs per loop (mean ± std. dev. of 7 runs, 100 loops each)\n",
      "47.4 μs ± 1.72 μs per loop (mean ± std. dev. of 7 runs, 10,000 loops each)\n"
     ]
    }
   ],
   "source": [
    "N = int(1e5)\n",
    "\n",
    "# Python base\n",
    "def buildListIntegers(N):\n",
    "    out = []\n",
    "    for i in range(1,N+1):\n",
    "        out.append(i)\n",
    "    return out\n",
    "i1 = buildListIntegers(N)\n",
    "\n",
    "t_out1 = %timeit -o buildListIntegers(N)\n",
    "\n",
    "# NumPy version\n",
    "i2 = np.arange(1,N+1, dtype=int)\n",
    "\n",
    "t_out2 = %timeit -o np.arange(1,N+1, dtype=int)"
   ]
  },
  {
   "cell_type": "code",
   "execution_count": 10,
   "metadata": {},
   "outputs": [
    {
     "name": "stdout",
     "output_type": "stream",
     "text": [
      "NumPy is 117.66838297768307 times faster than the Python base version using 'append'!!\n"
     ]
    }
   ],
   "source": [
    "print('NumPy is', t_out1.average/t_out2.average, 'times faster than the Python base version using \\'append\\'!!')"
   ]
  },
  {
   "cell_type": "markdown",
   "metadata": {},
   "source": [
    "<div id='second' />\n",
    "\n",
    "# Second Task: Square the elements of the lists of integers.\n",
    "[Back to TOC](#toc)"
   ]
  },
  {
   "cell_type": "code",
   "execution_count": 11,
   "metadata": {},
   "outputs": [
    {
     "name": "stdout",
     "output_type": "stream",
     "text": [
      "8.67 ms ± 727 μs per loop (mean ± std. dev. of 7 runs, 100 loops each)\n",
      "7.52 ms ± 522 μs per loop (mean ± std. dev. of 7 runs, 100 loops each)\n",
      "88.3 μs ± 7.79 μs per loop (mean ± std. dev. of 7 runs, 10,000 loops each)\n",
      "273 μs ± 19.9 μs per loop (mean ± std. dev. of 7 runs, 1,000 loops each)\n"
     ]
    }
   ],
   "source": [
    "# Python base\n",
    "i1_sq = [i**2 for i in i1]\n",
    "t_out3 = %timeit -o [i**2 for i in i1]\n",
    "\n",
    "# Intermediate implementation, notice the effect.\n",
    "t_out3b = %timeit -o np.power(i1,2)\n",
    "\n",
    "# NumPy version\n",
    "i2_sq = np.power(i2,2)\n",
    "t_out4a = %timeit -o i2**2\n",
    "t_out4b = %timeit -o np.power(i2,2)"
   ]
  },
  {
   "cell_type": "markdown",
   "metadata": {},
   "source": [
    "In this case we have used two version of the NumPy alternative, in both cases it is way faster than the traditional version of Python."
   ]
  },
  {
   "cell_type": "code",
   "execution_count": null,
   "metadata": {},
   "outputs": [
    {
     "ename": "",
     "evalue": "",
     "output_type": "error",
     "traceback": [
      "\u001b[1;31mRunning cells with '/usr/bin/python3' requires the ipykernel package.\n",
      "\u001b[1;31mRun the following command to install 'ipykernel' into the Python environment. \n",
      "\u001b[1;31mCommand: '/usr/bin/python3 -m pip install ipykernel -U --user --force-reinstall'"
     ]
    }
   ],
   "source": [
    "print('NumPy, version a, is', t_out3.average/t_out4a.average, 'times faster than the Python base version!!')\n",
    "print('NumPy, version b, is', t_out3.average/t_out4b.average, 'times faster than the Python base version!!')\n",
    "\n",
    "print('The intermediate implementation is OK but not the best, it is only',t_out3.average/t_out3b.average,'times better.')\n",
    "print('The issue for the intermediate implementation is that NumPy needs to translate i1 to a NumPy array first, \\nand that\\'s where the execution uses extra time.')"
   ]
  },
  {
   "cell_type": "markdown",
   "metadata": {},
   "source": [
    "We clearly notice (at least in my machine) that version ''a'' is faster than version ''b'', and it could be more readable, but we do encourage to use version ''b'' for advanced tasks to avoid or reduce numerical issues.\n",
    "For instance, in the Jupyter Notebook ''Bonus - 00 - Playing with Julia.ipynb'' we highlight an issue with adding numbers, which is handled correctly by **np.sum**, thus, using NumPy is not only for clearness and speed, it is also about correctness of the computation."
   ]
  },
  {
   "cell_type": "markdown",
   "metadata": {},
   "source": [
    "<div id='final' />\n",
    "\n",
    "# This and final task: Evaluate the following expression,\n",
    "[Back to TOC](#toc)\n",
    "\n",
    "$$\n",
    "\\begin{align*}\n",
    "[x_1,x_2]&= \\displaystyle{\\mathop{\\mathrm{argmin}}_{\\widehat{x}_1,\\widehat{x}_2\\in [-1,1]}}\\,\n",
    "\\max_{x\\in [-1,1]} |(x-\\widehat{x}_1)\\,(x-\\widehat{x}_2)|.\n",
    "\\end{align*}\n",
    "$$\n",
    "This expression appears in the Jupyter Notebook **Bonus - 05 - Finding 2 Chebyshev PointsGraphically.ipynb**, where we explain why it is important.\n",
    "Now, we will just evaluate it."
   ]
  },
  {
   "cell_type": "code",
   "execution_count": null,
   "metadata": {},
   "outputs": [
    {
     "ename": "",
     "evalue": "",
     "output_type": "error",
     "traceback": [
      "\u001b[1;31mRunning cells with '/usr/bin/python3' requires the ipykernel package.\n",
      "\u001b[1;31mRun the following command to install 'ipykernel' into the Python environment. \n",
      "\u001b[1;31mCommand: '/usr/bin/python3 -m pip install ipykernel -U --user --force-reinstall'"
     ]
    }
   ],
   "source": [
    "# We assume we will work over a discrete grid of points in [-1,1]\n",
    "# and the number of discrete points will be N. This means that\n",
    "# the continuous variables \"x\", \"x_1\", \"x_2\", \"hat{x}_1\" and \"hat{x}_2\"\n",
    "# will be discretized in N points.\n",
    "\n",
    "# Python base version\n",
    "def find_x1_x2(N):\n",
    "    list_i = buildListIntegers(N)\n",
    "    # Here we apply a linear transformation to build the discrete version of \"x\"\n",
    "    # which will be denoted by \"xi\"\n",
    "    x_discrete = [(2*(i-1)/(N-1))-1 for i in list_i]\n",
    "    min_value_outer = -1\n",
    "    x1_hat_min = -1\n",
    "    x2_hat_min = -1\n",
    "    for x1_hat in x_discrete:\n",
    "        for x2_hat in x_discrete:\n",
    "            max_value_inner=-1\n",
    "            for xi in x_discrete:\n",
    "                value_tmp = abs((xi-x1_hat)*(xi-x2_hat))\n",
    "                # Here we find the max |(x-x1_hat)*(x-x2_hat)|\n",
    "                if value_tmp>max_value_inner:\n",
    "                    max_value_inner=value_tmp\n",
    "            if min_value_outer == -1 or min_value_outer>max_value_inner:\n",
    "                min_value_outer = max_value_inner\n",
    "                x1_hat_min = x1_hat\n",
    "                x2_hat_min = x2_hat\n",
    "    return x1_hat_min, x2_hat_min\n",
    "\n",
    "# NumPy version, storing intermediate values.\n",
    "def find_x1_x2_NumPy(N):\n",
    "    x=np.linspace(-1,1,N)\n",
    "    w = lambda x1,x2: np.max(np.abs((x-x1)*(x-x2)))\n",
    "    wv=np.vectorize(w)\n",
    "    [X,Y]=np.meshgrid(x,x)\n",
    "    W=wv(X,Y)\n",
    "    id_min = np.unravel_index(np.argmin(W, axis=None),W.shape)\n",
    "    x1_hat = X[id_min]\n",
    "    x2_hat = Y[id_min]\n",
    "    return x1_hat, x2_hat\n",
    "\n",
    "# Debugging the output\n",
    "# print('found Python base:', find_x1_x2(N))\n",
    "# print('found Numpy:', find_x1_x2_NumPy(N))\n",
    "# print(np.sqrt(2)/2)\n",
    "\n",
    "N = 350\n",
    "t_out5 = %timeit -o find_x1_x2(N)\n",
    "t_out6 = %timeit -o find_x1_x2_NumPy(N)\n",
    "\n",
    "print('The NumPy version is', t_out5.average/t_out6.average, 'times faster than the Python base version!!')"
   ]
  },
  {
   "cell_type": "markdown",
   "metadata": {},
   "source": [
    "<div id='acknowledgements' />\n",
    "\n",
    "# Acknowledgements\n",
    "[Back to TOC](#toc)\n",
    "\n",
    "* _Material created by professor Claudio Torres_ (`ctorres@inf.utfsm.cl`). DI UTFSM. _May 2022._"
   ]
  },
  {
   "cell_type": "code",
   "execution_count": null,
   "metadata": {},
   "outputs": [
    {
     "ename": "",
     "evalue": "",
     "output_type": "error",
     "traceback": [
      "\u001b[1;31mRunning cells with '/usr/bin/python3' requires the ipykernel package.\n",
      "\u001b[1;31mRun the following command to install 'ipykernel' into the Python environment. \n",
      "\u001b[1;31mCommand: '/usr/bin/python3 -m pip install ipykernel -U --user --force-reinstall'"
     ]
    }
   ],
   "source": []
  }
 ],
 "metadata": {
  "kernelspec": {
   "display_name": "Python 3",
   "language": "python",
   "name": "python3"
  },
  "language_info": {
   "codemirror_mode": {
    "name": "ipython",
    "version": 3
   },
   "file_extension": ".py",
   "mimetype": "text/x-python",
   "name": "python",
   "nbconvert_exporter": "python",
   "pygments_lexer": "ipython3",
   "version": "3.12.4"
  },
  "vscode": {
   "interpreter": {
    "hash": "31f2aee4e71d21fbe5cf8b01ff0e069b9275f58929596ceb00d14d90e3e16cd6"
   }
  }
 },
 "nbformat": 4,
 "nbformat_minor": 4
}

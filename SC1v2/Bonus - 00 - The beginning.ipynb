{
 "cells": [
  {
   "cell_type": "markdown",
   "metadata": {},
   "source": [
    "<center>\n",
    "    <img src=\"http://sct.inf.utfsm.cl/wp-content/uploads/2020/04/logo_di.png\" style=\"width:60%\">\n",
    "    <h1> INF-285 - Computación Científica </h1>\n",
    "    <h2> The Beginning </h2>\n",
    "    <h2> <a href=\"#acknowledgements\"> [S]cientific [C]omputing [T]eam </a> </h2>\n",
    "    <h2> Version: 1.03 </h2>\n",
    "</center>\n"
   ]
  },
  {
   "cell_type": "markdown",
   "metadata": {},
   "source": [
    "<div id='toc' />\n",
    "\n",
    "## Table of Contents\n",
    "* [Introduction](#intro)\n",
    "* [NumPy](#numpy)\n",
    "* [MatPlotLib](#matplotlib)\n",
    "* [SciPy](#scipy)\n",
    "* [SymPy](#sympy)\n",
    "\n",
    "* [Libraries](#libraries)\n",
    "* [Acknowledgements](#acknowledgements)"
   ]
  },
  {
   "cell_type": "code",
   "execution_count": 2,
   "metadata": {},
   "outputs": [],
   "source": [
    "import numpy as np\n",
    "import scipy as sp\n",
    "import matplotlib.pyplot as plt\n",
    "import sympy as sym\n",
    "\n",
    "from scipy.integrate import odeint\n",
    "import scipy.linalg as spla\n",
    "from scipy import optimize, interpolate\n",
    "from scipy.linalg import solve_triangular, toeplitz, lu\n",
    "from scipy.optimize import root\n",
    "# conda install bitstring\n",
    "# import bitstring as bs\n",
    "\n",
    "%matplotlib inline\n",
    "\n",
    "sym.init_printing()\n",
    "from ipywidgets import interact, widgets, fixed, IntSlider, interact_manual, Checkbox, RadioButtons\n",
    "from mpl_toolkits.mplot3d import Axes3D\n",
    "import matplotlib as mpl\n",
    "mpl.rcParams['font.size'] = 14\n",
    "mpl.rcParams['axes.labelsize'] = 20\n",
    "mpl.rcParams['xtick.labelsize'] = 14\n",
    "mpl.rcParams['ytick.labelsize'] = 14\n",
    "from matplotlib import cm\n",
    "\n",
    "# pip install memory_profiler\n",
    "# %load_ext memory_profiler\n",
    "\n",
    "from sklearn import datasets\n",
    "from colorama import Fore, Back, Style\n",
    "# https://pypi.org/project/colorama/\n",
    "# Fore: BLACK, RED, GREEN, YELLOW, BLUE, MAGENTA, CYAN, WHITE, RESET.\n",
    "# Back: BLACK, RED, GREEN, YELLOW, BLUE, MAGENTA, CYAN, WHITE, RESET.\n",
    "# Style: DIM, NORMAL, BRIGHT, RESET_ALL\n",
    "textBold = lambda x: Style.BRIGHT+x+Style.RESET_ALL\n",
    "textBoldH = lambda x: Style.BRIGHT+Back.YELLOW+x+Style.RESET_ALL\n",
    "textBoldB = lambda x: Style.BRIGHT+Back.BLUE+Fore.BLACK+x+Style.RESET_ALL\n",
    "textBoldR = lambda x: Style.BRIGHT+Back.RED+Fore.BLACK+x+Style.RESET_ALL"
   ]
  },
  {
   "cell_type": "markdown",
   "metadata": {},
   "source": [
    "<div id='intro' />\n",
    "\n",
    "# Introduction\n",
    "[Back to TOC](#toc)\n",
    "\n",
    "In this jupyter notebook we will briefly introduce part of ecosystem in Python for Scientific Computing with explanation and examples.\n",
    "We strongly suggest to follow the explanation step by step, read the suggested documents/links, and play with the jupyter notebook changing it to learn!"
   ]
  },
  {
   "cell_type": "markdown",
   "metadata": {},
   "source": [
    "<div id='numpy' />\n",
    "\n",
    "# NumPy, the core of numerical computing in Python\n",
    "[Back to TOC](#toc)\n",
    "\n",
    "We strongly suggests to take a look to the associated paper explaning Arrays in NumPy [link](https://www.nature.com/articles/s41586-020-2649-2).\n",
    "Now, we will start with some examples provided in Fig. 1 from the previous reference. Also see https://numpy.org."
   ]
  },
  {
   "cell_type": "markdown",
   "metadata": {},
   "source": [
    "## a) Data structure: An array and a bi-dimensional array."
   ]
  },
  {
   "cell_type": "code",
   "execution_count": 15,
   "metadata": {},
   "outputs": [
    {
     "name": "stdout",
     "output_type": "stream",
     "text": [
      "[ 0  1  2  3  4  5  6  7  8  9 10 11]\n",
      "\u001b[1m\u001b[44m\u001b[30m Printing their values \u001b[0m\n",
      "\u001b[1m\u001b[43ma1:\n",
      "\u001b[0m [ 0  1  2  3  4  5  6  7  8  9 10 11]\n",
      "\u001b[1m\u001b[43ma2:\n",
      "\u001b[0m [[1. 2. 3.]\n",
      " [4. 5. 6.]]\n",
      "\u001b[1m\u001b[43ma3:\n",
      "\u001b[0m [[ 0  1  2]\n",
      " [ 3  4  5]\n",
      " [ 6  7  8]\n",
      " [ 9 10 11]]\n",
      "\u001b[1m\u001b[44m\u001b[30m Printing their datatypes \u001b[0m\n",
      "\u001b[1m\u001b[43ma1:\n",
      "\u001b[0m int64\n",
      "\u001b[1m\u001b[43ma2:\n",
      "\u001b[0m float64\n",
      "\u001b[1m\u001b[43ma3:\n",
      "\u001b[0m int64\n",
      "\u001b[1m\u001b[44m\u001b[30m Printing their type name \u001b[0m\n",
      "\u001b[1m\u001b[43ma1:\n",
      "\u001b[0m ndarray\n",
      "\u001b[1m\u001b[43ma2:\n",
      "\u001b[0m ndarray\n",
      "\u001b[1m\u001b[43ma3:\n",
      "\u001b[0m ndarray\n"
     ]
    }
   ],
   "source": [
    "# NumPy array\n",
    "a1 = np.arange(12)\n",
    "# NumPy ndarray\n",
    "\n",
    "a2 = np.array([[1, 2, 3], [4, 5, 6]], float)\n",
    "\n",
    "a3 = np.reshape(a1,(4,3))\n",
    "\n",
    "\n",
    "\n",
    "\n",
    "print(textBoldB(' Printing their values '))\n",
    "print(textBoldH('a1:\\n'),a1)\n",
    "print(textBoldH('a2:\\n'),a2)\n",
    "print(textBoldH('a3:\\n'),a3)\n",
    "\n",
    "print(textBoldB(' Printing their datatypes '))\n",
    "print(textBoldH('a1:\\n'),a1.dtype)\n",
    "print(textBoldH('a2:\\n'),a2.dtype)\n",
    "print(textBoldH('a3:\\n'),a3.dtype)\n",
    "\n",
    "print(textBoldB(' Printing their type name '))\n",
    "print(textBoldH('a1:\\n'),type(a1).__name__)\n",
    "print(textBoldH('a2:\\n'),type(a2).__name__)\n",
    "print(textBoldH('a3:\\n'),type(a3).__name__)"
   ]
  },
  {
   "cell_type": "markdown",
   "metadata": {},
   "source": [
    "Uso de reshape"
   ]
  },
  {
   "cell_type": "markdown",
   "metadata": {},
   "source": [
    "Crear un np array"
   ]
  },
  {
   "cell_type": "code",
   "execution_count": 16,
   "metadata": {},
   "outputs": [
    {
     "name": "stdout",
     "output_type": "stream",
     "text": [
      "[[0. 0. 0. 0. 0.]\n",
      " [0. 0. 0. 0. 0.]\n",
      " [0. 0. 0. 0. 0.]\n",
      " [0. 0. 0. 0. 0.]\n",
      " [0. 0. 0. 0. 0.]\n",
      " [0. 0. 0. 0. 0.]\n",
      " [0. 0. 0. 0. 0.]\n",
      " [0. 0. 0. 0. 0.]\n",
      " [0. 0. 0. 0. 0.]\n",
      " [0. 0. 0. 0. 0.]]\n"
     ]
    }
   ],
   "source": [
    "arr=np.zeros((10,5))\n",
    "print(arr)"
   ]
  },
  {
   "cell_type": "markdown",
   "metadata": {},
   "source": [
    "Ahora voy a usar reshape para cambiar su formato De tener 10 filas y 5 columnas , tendrá 5 columnas y 10 filas"
   ]
  },
  {
   "cell_type": "code",
   "execution_count": 57,
   "metadata": {},
   "outputs": [
    {
     "name": "stdout",
     "output_type": "stream",
     "text": [
      "[[0. 0. 0. 0. 0. 0. 0. 0. 0. 0.]\n",
      " [0. 0. 0. 0. 0. 0. 0. 0. 0. 0.]\n",
      " [0. 0. 0. 0. 0. 0. 0. 0. 0. 0.]\n",
      " [0. 0. 0. 0. 0. 0. 0. 0. 0. 0.]\n",
      " [0. 0. 0. 0. 0. 0. 0. 0. 0. 0.]]\n"
     ]
    }
   ],
   "source": [
    "arr_v2=np.reshape(arr,(5,10))\n",
    "print(arr_v2)"
   ]
  },
  {
   "cell_type": "markdown",
   "metadata": {},
   "source": [
    "## b) Indexing (view)"
   ]
  },
  {
   "cell_type": "markdown",
   "metadata": {},
   "source": []
  },
  {
   "cell_type": "code",
   "execution_count": 1,
   "metadata": {},
   "outputs": [
    {
     "ename": "NameError",
     "evalue": "name 'textBoldB' is not defined",
     "output_type": "error",
     "traceback": [
      "\u001b[1;31m---------------------------------------------------------------------------\u001b[0m",
      "\u001b[1;31mNameError\u001b[0m                                 Traceback (most recent call last)",
      "Cell \u001b[1;32mIn[1], line 1\u001b[0m\n\u001b[1;32m----> 1\u001b[0m \u001b[38;5;28mprint\u001b[39m(\u001b[43mtextBoldB\u001b[49m(\u001b[38;5;124m'\u001b[39m\u001b[38;5;124m Showing original variable a3 \u001b[39m\u001b[38;5;124m'\u001b[39m))\n\u001b[0;32m      2\u001b[0m \u001b[38;5;28mprint\u001b[39m(textBoldH(\u001b[38;5;124m'\u001b[39m\u001b[38;5;124ma3\u001b[39m\u001b[38;5;130;01m\\n\u001b[39;00m\u001b[38;5;124m'\u001b[39m),a3)\n\u001b[0;32m      4\u001b[0m \u001b[38;5;28mprint\u001b[39m(textBoldB(\u001b[38;5;124m'\u001b[39m\u001b[38;5;124m Showing a subset of elements (SLICES) of variable a3 \u001b[39m\u001b[38;5;130;01m\\n\u001b[39;00m\u001b[38;5;124m the second and third columns \u001b[39m\u001b[38;5;124m'\u001b[39m))\n",
      "\u001b[1;31mNameError\u001b[0m: name 'textBoldB' is not defined"
     ]
    }
   ],
   "source": [
    "print(textBoldB(' Showing original variable a3 '))\n",
    "print(textBoldH('a3\\n'),a3)\n",
    "\n",
    "print(textBoldB(' Showing a subset of elements (SLICES) of variable a3 \\n the second and third columns '))\n",
    "print(textBoldH('a3[:,1:]\\n'),a3[:,1:])\n",
    "print(textBoldB(' Storing the outcome in a4 '))\n",
    "a4 = a3[:,1:]\n",
    "\n",
    "print(textBoldB(' What does it means it is a \"view\"? '))\n",
    "print(textBoldB(' Let\\'s change the original a3 and see what happens to a4. '))\n",
    "a3[0,1]=100\n",
    "print(textBoldH('a4\\n'), a4)\n",
    "print(textBoldB(' a4 has changed too! So a4 is a \"view\" of part of a3. '))\n",
    "print('\\n')\n",
    "print(textBoldB(' So, how do we copy it?'))\n",
    "print(textBoldB(' Let\\'s use np.copy to copy the \"view\" obtained before,'+\n",
    "                '\\n then modify the original variable and see what had happened'))\n",
    "a5 = np.copy(a3[:,1:])\n",
    "print(textBoldH('a3\\n'), a3)\n",
    "print(textBoldH('a4=a3[:,1:])\\n'), a4)\n",
    "print(textBoldH('a5=np.copy(a3[:,1:])\\n'), a5)\n",
    "a3[0,1]=1\n",
    "print(textBoldB(' Changing a3 as \"a3[0,1]=1\"'))\n",
    "print(textBoldH('a3\\n'), a3)\n",
    "print(textBoldH('a4\\n'), a4)\n",
    "print(textBoldH('a5\\n'), a5)\n",
    "print(textBoldB(' Thus, chaning a3 have changed a4 since it is a \"view\" and not changed a5 since it is a copy. '))"
   ]
  },
  {
   "cell_type": "code",
   "execution_count": 18,
   "metadata": {},
   "outputs": [
    {
     "name": "stdout",
     "output_type": "stream",
     "text": [
      "\u001b[1m\u001b[44m\u001b[30m Another way to extract slices is with steps: \u001b[0m\n",
      "\u001b[1m\u001b[43ma3\n",
      "\u001b[0m [[ 0  1  2]\n",
      " [ 3  4  5]\n",
      " [ 6  7  8]\n",
      " [ 9 10 11]]\n",
      "\u001b[1m\u001b[43ma6 = a3[:,::2]\n",
      "\u001b[0m [[ 0  2]\n",
      " [ 3  5]\n",
      " [ 6  8]\n",
      " [ 9 11]]\n",
      "\u001b[1m\u001b[44m\u001b[30m In this case we obtained the first and third columns, \n",
      "  the pattern consider ini:end:step, where \"ini\" is the first index considered,\n",
      " \"end\" defines that the pattern will be considere until the index \"end-1\",\n",
      " and \"step\" indicates the step for selecting the next index, it is 1 by default.\u001b[0m\n"
     ]
    }
   ],
   "source": [
    "print(textBoldB(' Another way to extract slices is with steps: '))\n",
    "a6 = a3[:,::2]\n",
    "print(textBoldH('a3\\n'), a3)\n",
    "print(textBoldH('a6 = a3[:,::2]\\n'), a6)\n",
    "print(textBoldB(' In this case we obtained the first and third columns, \\n '+\n",
    "               ' the pattern consider ini:end:step, where \"ini\" is the first index considered,\\n'+\n",
    "               ' \"end\" defines that the pattern will be considere until the index \"end-1\",\\n'+\n",
    "               ' and \"step\" indicates the step for selecting the next index, it is 1 by default.'))"
   ]
  },
  {
   "cell_type": "markdown",
   "metadata": {},
   "source": [
    "## c) Indexing (copy)"
   ]
  },
  {
   "cell_type": "code",
   "execution_count": 19,
   "metadata": {},
   "outputs": [
    {
     "name": "stdout",
     "output_type": "stream",
     "text": [
      "\u001b[1m\u001b[44m\u001b[30m Now we will list the alternatives to \"copy\" the data from ndarrays\u001b[0m\n",
      "\u001b[1m\u001b[43ma3\n",
      "\u001b[0m [[ 0  1  2]\n",
      " [ 3  4  5]\n",
      " [ 6  7  8]\n",
      " [ 9 10 11]]\n",
      "\n",
      "\n",
      "\u001b[1m\u001b[41m\u001b[30mwith SCALARS:\u001b[0m\n",
      "\u001b[1m\u001b[44m\u001b[30mo1 = a3[1,2]\u001b[0m\n",
      "\u001b[1m\u001b[43mo1\n",
      "\u001b[0m 5\n",
      "\u001b[1m\u001b[44m\u001b[30mChanging o1: o1 = 111\u001b[0m\n",
      "\u001b[1m\u001b[43ma3\n",
      "\u001b[0m [[ 0  1  2]\n",
      " [ 3  4  5]\n",
      " [ 6  7  8]\n",
      " [ 9 10 11]]\n",
      "\u001b[1m\u001b[43mo1\n",
      "\u001b[0m 111\n",
      "\n",
      "\n",
      "\u001b[1m\u001b[41m\u001b[30mwith MASKS:\u001b[0m\n",
      "\u001b[1m\u001b[44m\u001b[30mo2 = a3[a3>9]\u001b[0m\n",
      "\u001b[1m\u001b[43mo2\n",
      "\u001b[0m [10 11]\n",
      "\n",
      "\n",
      "\u001b[1m\u001b[41m\u001b[30mwith ARRAYS:\u001b[0m\n",
      "\u001b[1m\u001b[44m\u001b[30mo3 = a3[[0,1],[1,2]]\u001b[0m\n",
      "\u001b[1m\u001b[43mo3\n",
      "\u001b[0m [1 5]\n",
      "\u001b[1m\u001b[43mo3:\n",
      "\u001b[0m int64\n",
      "\u001b[1m\u001b[43mo3:\n",
      "\u001b[0m ndarray\n",
      "\n",
      "\n",
      "\u001b[1m\u001b[41m\u001b[30mwith ARRAYS and BROADCASTING (this will be review next) :\u001b[0m\n",
      "\u001b[1m\u001b[44m\u001b[30mo4 = a3[[[1],[2]],[1,0]]\u001b[0m\n",
      "\u001b[1m\u001b[43mo4\n",
      "\u001b[0m [[4 3]\n",
      " [7 6]]\n",
      "\u001b[1m\u001b[43mo4:\n",
      "\u001b[0m int64\n",
      "\u001b[1m\u001b[43mo4:\n",
      "\u001b[0m ndarray\n"
     ]
    }
   ],
   "source": [
    "print(textBoldB(' Now we will list the alternatives to \"copy\" the data from ndarrays'))\n",
    "print(textBoldH('a3\\n'), a3)\n",
    "\n",
    "print('\\n')\n",
    "print(textBoldR('with SCALARS:'))\n",
    "print(textBoldB('o1 = a3[1,2]'))\n",
    "o1 = a3[1,2]\n",
    "print(textBoldH('o1\\n'), o1)\n",
    "print(textBoldB('Changing o1: o1 = 111'))\n",
    "o1 = 111\n",
    "print(textBoldH('a3\\n'), a3)\n",
    "print(textBoldH('o1\\n'), o1)\n",
    "\n",
    "print('\\n')\n",
    "print(textBoldR('with MASKS:'))\n",
    "print(textBoldB('o2 = a3[a3>9]'))\n",
    "o2 = a3[a3>9]\n",
    "print(textBoldH('o2\\n'), o2)\n",
    "\n",
    "print('\\n')\n",
    "print(textBoldR('with ARRAYS:'))\n",
    "print(textBoldB('o3 = a3[[0,1],[1,2]]'))\n",
    "o3 = a3[[0,1],[1,2]]\n",
    "print(textBoldH('o3\\n'), o3)\n",
    "print(textBoldH('o3:\\n'),o3.dtype)\n",
    "print(textBoldH('o3:\\n'),type(o3).__name__)\n",
    "\n",
    "print('\\n')\n",
    "print(textBoldR('with ARRAYS and BROADCASTING (this will be review next) :'))\n",
    "print(textBoldB('o4 = a3[[[1],[2]],[1,0]]'))\n",
    "o4 = a3[[[1],[2]],[1,0]]\n",
    "print(textBoldH('o4\\n'), o4)\n",
    "print(textBoldH('o4:\\n'),o4.dtype)\n",
    "print(textBoldH('o4:\\n'),type(o4).__name__)"
   ]
  },
  {
   "cell_type": "markdown",
   "metadata": {},
   "source": [
    "## d) Vectorization (THE HEART OF THE HEART OF NUMERICAL COMPUTING!!)"
   ]
  },
  {
   "cell_type": "code",
   "execution_count": 20,
   "metadata": {},
   "outputs": [
    {
     "name": "stdout",
     "output_type": "stream",
     "text": [
      "\u001b[1m\u001b[43ma3\n",
      "\u001b[0m [[ 0  1  2]\n",
      " [ 3  4  5]\n",
      " [ 6  7  8]\n",
      " [ 9 10 11]]\n",
      "\u001b[1m\u001b[44m\u001b[30m We will define a new ndarray n1 = np.ones((4,3)) and add it to the array a3.\u001b[0m\n",
      "\u001b[1m\u001b[44m\u001b[30m The first implementation one may think of is the following:\u001b[0m\n"
     ]
    }
   ],
   "source": [
    "print(textBoldH('a3\\n'), a3)\n",
    "print(textBoldB(' We will define a new ndarray n1 = np.ones((4,3)) and add it to the array a3.'))\n",
    "n1 = np.ones((4,3))\n",
    "\n",
    "print(textBoldB(' The first implementation one may think of is the following:'))\n",
    "def sum_two_arrays(a3,n1):\n",
    "    out = np.zeros_like(a3) # What does this function do?\n",
    "    for i in range(4):\n",
    "        for j in range(3):\n",
    "            out[i,j] = a3[i,j]+n1[i,j]\n",
    "    return out\n",
    "n2 = sum_two_arrays(a3,n1)"
   ]
  },
  {
   "cell_type": "code",
   "execution_count": 21,
   "metadata": {},
   "outputs": [
    {
     "name": "stdout",
     "output_type": "stream",
     "text": [
      "9.36 μs ± 424 ns per loop (mean ± std. dev. of 7 runs, 100,000 loops each)\n"
     ]
    }
   ],
   "source": [
    "# To quantify the computation time it takes let's measure it:\n",
    "%timeit n2 = sum_two_arrays(a3,n1)"
   ]
  },
  {
   "cell_type": "code",
   "execution_count": 22,
   "metadata": {},
   "outputs": [
    {
     "name": "stdout",
     "output_type": "stream",
     "text": [
      "1.31 μs ± 35.6 ns per loop (mean ± std. dev. of 7 runs, 1,000,000 loops each)\n"
     ]
    }
   ],
   "source": [
    "# The output it shows in the computer we run the experiments was:\n",
    "# 33.9 µs ± 1.68 µs per loop (mean ± std. dev. of 7 runs, 10000 loops each)\n",
    "# This means it took about 34 microseconds.\n",
    "\n",
    "# Now, let's try the NumPy way! i.e. the vectorized approach!\n",
    "%timeit n2 = a3+n1"
   ]
  },
  {
   "cell_type": "code",
   "execution_count": 23,
   "metadata": {},
   "outputs": [
    {
     "name": "stdout",
     "output_type": "stream",
     "text": [
      "\u001b[1m\u001b[41m\u001b[30m Given the previous argument, it is crucial you get familir with VECTORIZATION computing with NumPy!! \u001b[0m\n"
     ]
    }
   ],
   "source": [
    "# The output it shows in the computer we run the experiments was:\n",
    "# 1.05 µs ± 12.7 ns per loop (mean ± std. dev. of 7 runs, 1000000 loops each)\n",
    "# This means it was about 34 times faster!! \n",
    "# and also it only took \"one\" line of code where in the previous version took \"7\" lines of code!!\n",
    "print(textBoldR(' Given the previous argument, it is crucial you get familir with VECTORIZATION computing with NumPy!! '))"
   ]
  },
  {
   "cell_type": "markdown",
   "metadata": {},
   "source": [
    "## e) Broadcasting"
   ]
  },
  {
   "cell_type": "code",
   "execution_count": 24,
   "metadata": {},
   "outputs": [
    {
     "name": "stdout",
     "output_type": "stream",
     "text": [
      "\u001b[1m\u001b[43mx1:\u001b[0m [1 2 3]\n",
      "\u001b[1m\u001b[43mshape:\u001b[0m (3,)\n",
      "\u001b[1m\u001b[43mdtype:\u001b[0m int64\n",
      "\u001b[1m\u001b[43mtype name:\u001b[0m ndarray\n"
     ]
    }
   ],
   "source": [
    "# Creating a 1D array, this is the stringly suggested way to create \"vectors\" is NumPy.\n",
    "# This can be considered as a row vector.\n",
    "x1 = np.array([1,2,3])\n",
    "print(textBoldH('x1:'),x1)\n",
    "print(textBoldH('shape:'),x1.shape)\n",
    "print(textBoldH('dtype:'),x1.dtype)\n",
    "print(textBoldH('type name:'),type(x1).__name__)"
   ]
  },
  {
   "cell_type": "code",
   "execution_count": 25,
   "metadata": {},
   "outputs": [
    {
     "name": "stdout",
     "output_type": "stream",
     "text": [
      "\u001b[1m\u001b[43mx2:\u001b[0m [[1 2 3]]\n",
      "\u001b[1m\u001b[43mshape:\u001b[0m (1, 3)\n",
      "\u001b[1m\u001b[43mdtype:\u001b[0m int64\n",
      "\u001b[1m\u001b[43mtype name:\u001b[0m ndarray\n"
     ]
    }
   ],
   "source": [
    "# Creating a 2D array with one row.\n",
    "x2 = x1[np.newaxis] # What does np.newaxis do?\n",
    "print(textBoldH('x2:'),x2)\n",
    "print(textBoldH('shape:'),x2.shape)\n",
    "print(textBoldH('dtype:'),x2.dtype)\n",
    "print(textBoldH('type name:'),type(x2).__name__)\n",
    "# This emulates a column vector."
   ]
  },
  {
   "cell_type": "code",
   "execution_count": 26,
   "metadata": {},
   "outputs": [
    {
     "name": "stdout",
     "output_type": "stream",
     "text": [
      "\u001b[1m\u001b[43mx2:\u001b[0m [[1]\n",
      " [2]\n",
      " [3]]\n",
      "\u001b[1m\u001b[43mshape:\u001b[0m (3, 1)\n",
      "\u001b[1m\u001b[43mdtype:\u001b[0m int64\n",
      "\u001b[1m\u001b[43mtype name:\u001b[0m ndarray\n"
     ]
    }
   ],
   "source": [
    "# Transpossing the 2D array. This emulates a column vector.\n",
    "x2 = x1[np.newaxis].T\n",
    "print(textBoldH('x2:'),x2)\n",
    "print(textBoldH('shape:'),x2.shape)\n",
    "print(textBoldH('dtype:'),x2.dtype)\n",
    "print(textBoldH('type name:'),type(x2).__name__)"
   ]
  },
  {
   "cell_type": "code",
   "execution_count": 27,
   "metadata": {},
   "outputs": [
    {
     "name": "stdout",
     "output_type": "stream",
     "text": [
      "\u001b[1m\u001b[43mx3:\u001b[0m [[2 3 4]\n",
      " [3 4 5]\n",
      " [4 5 6]]\n",
      "\u001b[1m\u001b[43mshape:\u001b[0m (3, 3)\n",
      "\u001b[1m\u001b[43mdtype:\u001b[0m int64\n",
      "\u001b[1m\u001b[43mtype name:\u001b[0m ndarray\n"
     ]
    }
   ],
   "source": [
    "# Notice that transpossing a 1D array does not do anything (please try it by yourself!).\n",
    "# Now that we have a 1D array (that emulates a row vector) and \n",
    "# a 1 column 2d array (that emulates a columns vectors), we can do a \"BROADCAST\" and see what happend.\n",
    "x3=x1+x2\n",
    "print(textBoldH('x3:'),x3)\n",
    "print(textBoldH('shape:'),x3.shape)\n",
    "print(textBoldH('dtype:'),x3.dtype)\n",
    "print(textBoldH('type name:'),type(x3).__name__)\n",
    "# In this cas we have operated elementwise and broadcasted the array."
   ]
  },
  {
   "cell_type": "code",
   "execution_count": 28,
   "metadata": {},
   "outputs": [
    {
     "name": "stdout",
     "output_type": "stream",
     "text": [
      "\u001b[1m\u001b[43mx11:\u001b[0m [[1 2 3]\n",
      " [1 2 3]\n",
      " [1 2 3]]\n",
      "\u001b[1m\u001b[43mx21:\u001b[0m [[1 1 1]\n",
      " [2 2 2]\n",
      " [3 3 3]]\n",
      "\u001b[1m\u001b[43mx31:\u001b[0m [[2 3 4]\n",
      " [3 4 5]\n",
      " [4 5 6]]\n",
      "\u001b[1m\u001b[43mshape:\u001b[0m (3, 3)\n",
      "\u001b[1m\u001b[43mdtype:\u001b[0m int64\n",
      "\u001b[1m\u001b[43mtype name:\u001b[0m ndarray\n",
      "\u001b[1m\u001b[41m\u001b[30m As you may suspect, this way of doing the sum is not recommended.\n",
      " It was added just for comparison purposes.\u001b[0m\n"
     ]
    }
   ],
   "source": [
    "# The previous operation is equivalent to the following operation.\n",
    "x11 = np.tile(x1, (3,1)) # Repeat the 1d array 'vertically' 3 times\n",
    "print(textBoldH('x11:'),x11)\n",
    "x21 = np.tile(x2, 3) # Repeat the 2d array 'horizontally' 3 times \n",
    "print(textBoldH('x21:'),x21)\n",
    "x31 = x11+x21\n",
    "print(textBoldH('x31:'),x31)\n",
    "print(textBoldH('shape:'),x31.shape)\n",
    "print(textBoldH('dtype:'),x31.dtype)\n",
    "print(textBoldH('type name:'),type(x31).__name__)\n",
    "print(textBoldR(' As you may suspect, this way of doing the sum is not recommended.\\n'+\n",
    "               ' It was added just for comparison purposes.'))"
   ]
  },
  {
   "cell_type": "markdown",
   "metadata": {},
   "source": [
    "## f) Reduction"
   ]
  },
  {
   "cell_type": "code",
   "execution_count": 29,
   "metadata": {},
   "outputs": [
    {
     "name": "stdout",
     "output_type": "stream",
     "text": [
      "\u001b[1m\u001b[43ma3\n",
      "\u001b[0m [[ 0  1  2]\n",
      " [ 3  4  5]\n",
      " [ 6  7  8]\n",
      " [ 9 10 11]]\n",
      "\n",
      "\n",
      "\u001b[1m\u001b[44m\u001b[30m First reduction, sum along axis 0:\u001b[0m\n",
      "\u001b[1m\u001b[44m\u001b[30m s1 = np.sum(a3,axis=0)\u001b[0m\n",
      "\u001b[1m\u001b[43ms1\u001b[0m [18 22 26]\n",
      "\u001b[1m\u001b[43mshape:\u001b[0m (3,)\n",
      "\u001b[1m\u001b[43mdtype:\u001b[0m int64\n",
      "\u001b[1m\u001b[43mtype name:\u001b[0m ndarray\n",
      "\n",
      "\n",
      "\u001b[1m\u001b[44m\u001b[30m First reduction, sum along axis 1:\u001b[0m\n",
      "\u001b[1m\u001b[44m\u001b[30m s2 = np.sum(a3,axis=1)\u001b[0m\n",
      "\u001b[1m\u001b[43ms2\u001b[0m [ 3 12 21 30]\n",
      "\u001b[1m\u001b[43mshape:\u001b[0m (4,)\n",
      "\u001b[1m\u001b[43mdtype:\u001b[0m int64\n",
      "\u001b[1m\u001b[43mtype name:\u001b[0m ndarray\n",
      "\n",
      "\n",
      "\u001b[1m\u001b[44m\u001b[30m First reduction, sum along axis 0 and 1:\u001b[0m\n",
      "\u001b[1m\u001b[44m\u001b[30m s3 = np.sum(a3)\u001b[0m\n",
      "\u001b[1m\u001b[43ms3\u001b[0m 66\n",
      "\u001b[1m\u001b[43mshape:\u001b[0m ()\n",
      "\u001b[1m\u001b[43mdtype:\u001b[0m int64\n",
      "\u001b[1m\u001b[43mtype name:\u001b[0m int64\n",
      "\n",
      "\n",
      "\u001b[1m\u001b[41m\u001b[30m As you may suspect, the reduction reduces the dimensionality in respect of the original input.\u001b[0m\n"
     ]
    }
   ],
   "source": [
    "print(textBoldH('a3\\n'), a3)\n",
    "\n",
    "print('\\n')\n",
    "print(textBoldB(' First reduction, sum along axis 0:'))\n",
    "print(textBoldB(' s1 = np.sum(a3,axis=0)'))\n",
    "s1 = np.sum(a3,axis=0)\n",
    "print(textBoldH('s1'), s1)\n",
    "print(textBoldH('shape:'),s1.shape)\n",
    "print(textBoldH('dtype:'),s1.dtype)\n",
    "print(textBoldH('type name:'),type(s1).__name__)\n",
    "\n",
    "print('\\n')\n",
    "print(textBoldB(' First reduction, sum along axis 1:'))\n",
    "print(textBoldB(' s2 = np.sum(a3,axis=1)'))\n",
    "s2 = np.sum(a3,axis=1)\n",
    "print(textBoldH('s2'), s2)\n",
    "print(textBoldH('shape:'),s2.shape)\n",
    "print(textBoldH('dtype:'),s2.dtype)\n",
    "print(textBoldH('type name:'),type(s2).__name__)\n",
    "\n",
    "print('\\n')\n",
    "print(textBoldB(' First reduction, sum along axis 0 and 1:'))\n",
    "print(textBoldB(' s3 = np.sum(a3)'))\n",
    "s3 = np.sum(a3)\n",
    "print(textBoldH('s3'), s3)\n",
    "print(textBoldH('shape:'),s3.shape)\n",
    "print(textBoldH('dtype:'),s3.dtype)\n",
    "print(textBoldH('type name:'),type(s3).__name__)\n",
    "\n",
    "print('\\n')\n",
    "print(textBoldR(' As you may suspect, the reduction reduces the dimensionality in respect of the original input.'))"
   ]
  },
  {
   "cell_type": "markdown",
   "metadata": {},
   "source": [
    "## g) Examples"
   ]
  },
  {
   "cell_type": "code",
   "execution_count": 30,
   "metadata": {},
   "outputs": [
    {
     "name": "stdout",
     "output_type": "stream",
     "text": [
      "\u001b[1m\u001b[43m|A|:\u001b[0m 4.189009433279862e+24\n"
     ]
    }
   ],
   "source": [
    "# Create a random matrix and comput its determinant\n",
    "np.random.seed(0) # Fixing seed for randomnumber generator.\n",
    "n = 100\n",
    "A = np.random.random((n,n))\n",
    "print(textBoldH('|A|:'), np.linalg.det(A))"
   ]
  },
  {
   "cell_type": "code",
   "execution_count": 31,
   "metadata": {},
   "outputs": [
    {
     "name": "stdout",
     "output_type": "stream",
     "text": [
      "\u001b[1m\u001b[43mA*x:\u001b[0m [22.50387804 27.06165293 25.44380132 23.90306726 23.5383304  25.97354295\n",
      " 25.39133786 23.23602505 24.96797807 26.35437211 24.27664139 25.67413645\n",
      " 23.48460197 27.44447023 25.01080204 26.21436807 23.91089268 23.70399375\n",
      " 26.22314526 23.86964466 23.34695257 24.9999494  24.89781895 24.68551405\n",
      " 25.01137941 25.3997684  27.07055286 21.46566256 24.26978535 23.4243107\n",
      " 24.53506025 22.71666134 26.62366171 25.82769683 24.07777227 24.0025882\n",
      " 23.31802885 23.65800393 22.56287072 21.65606265 23.49534362 25.8842525\n",
      " 26.99496029 22.16848876 23.42231272 22.87673568 22.68911393 22.00950553\n",
      " 24.55681272 23.32897479 23.47424422 22.0042083  27.62785605 24.867569\n",
      " 24.55058081 26.24970021 25.46630341 23.86956795 21.73690518 23.01731327\n",
      " 25.4796017  22.83023589 25.22949757 25.50838772 25.52477344 23.8568525\n",
      " 24.69135328 24.45486666 27.27024007 23.65238719 23.42199642 25.47403783\n",
      " 25.11460573 27.85454033 23.02376118 23.35345807 25.94299815 23.22683254\n",
      " 24.44753233 25.2004444  23.14280702 25.84015184 24.84311922 23.01210411\n",
      " 26.16362515 23.67760286 25.1811232  25.06465188 25.37328402 25.90372182\n",
      " 24.22927176 24.11067019 25.40049423 24.89267375 23.10754772 23.31576435\n",
      " 24.28890539 27.46372393 24.8354481  25.08037583]\n"
     ]
    }
   ],
   "source": [
    "# Compute matrix vector product\n",
    "x = np.random.random(n)\n",
    "b = A @ x\n",
    "print(textBoldH('A*x:'), b)"
   ]
  },
  {
   "cell_type": "code",
   "execution_count": 32,
   "metadata": {},
   "outputs": [
    {
     "name": "stdout",
     "output_type": "stream",
     "text": [
      "\u001b[1m\u001b[43mx_out=A^{-1} b:\u001b[0m [0.74826798 0.18020271 0.38902314 0.03760018 0.01178774 0.99626787\n",
      " 0.48819666 0.37202476 0.19617209 0.80719225 0.70575272 0.0015562\n",
      " 0.77122667 0.11148275 0.94863268 0.33273608 0.45110278 0.00498091\n",
      " 0.82439269 0.30816825 0.55644688 0.9266008  0.15622238 0.86732961\n",
      " 0.50023893 0.92445617 0.82235505 0.44298003 0.08871177 0.03019745\n",
      " 0.87423081 0.47428492 0.66369491 0.88164841 0.30465899 0.89576302\n",
      " 0.02753244 0.27992568 0.8117664  0.85322032 0.9448354  0.30301127\n",
      " 0.78023559 0.9851303  0.52700602 0.25259629 0.03896232 0.75965306\n",
      " 0.13884538 0.38694261 0.30927788 0.41685067 0.90599899 0.42594776\n",
      " 0.91274431 0.80540086 0.28837833 0.31808902 0.36984422 0.60564719\n",
      " 0.67406252 0.97222984 0.92651606 0.61187172 0.04623878 0.54530762\n",
      " 0.40364022 0.54477873 0.04017637 0.99576221 0.05695837 0.27267993\n",
      " 0.07212403 0.54761111 0.3518183  0.37529984 0.78916752 0.90402012\n",
      " 0.16569698 0.27897694 0.47272862 0.11288167 0.38653808 0.30208805\n",
      " 0.92197634 0.19853412 0.7212114  0.21589321 0.62565838 0.58199073\n",
      " 0.45872429 0.8169073  0.22271719 0.47728022 0.9824176  0.18326179\n",
      " 0.54543245 0.29310578 0.12380606 0.85159298]\n"
     ]
    }
   ],
   "source": [
    "# Solving a linear system of equations A*x=b, i.e. assume we know A and b and we want x.\n",
    "x_out = np.linalg.solve(A,b)\n",
    "print(textBoldH('x_out=A^{-1} b:'), x_out)"
   ]
  },
  {
   "cell_type": "code",
   "execution_count": 33,
   "metadata": {},
   "outputs": [
    {
     "name": "stdout",
     "output_type": "stream",
     "text": [
      "\u001b[1m\u001b[43m||x-x_out||_2:\u001b[0m 3.0299511626032553e-13\n"
     ]
    }
   ],
   "source": [
    "# Computing the norm 2, between x and x_out\n",
    "print(textBoldH('||x-x_out||_2:'), np.linalg.norm(x-x_out))\n",
    "# It seems it is small, why is this?"
   ]
  },
  {
   "cell_type": "code",
   "execution_count": 34,
   "metadata": {},
   "outputs": [
    {
     "name": "stdout",
     "output_type": "stream",
     "text": [
      "\u001b[1m\u001b[43mdot product between v1 and v2:\u001b[0m 22.562561096899618\n"
     ]
    }
   ],
   "source": [
    "# Computing dot product\n",
    "v1 = np.random.random(n)\n",
    "v2 = np.random.random(n)\n",
    "print(textBoldH('dot product between v1 and v2:'), np.dot(v1,v2))"
   ]
  },
  {
   "cell_type": "code",
   "execution_count": 35,
   "metadata": {},
   "outputs": [
    {
     "name": "stdout",
     "output_type": "stream",
     "text": [
      "\u001b[1m\u001b[43mv1*v2:\u001b[0m [0.5040407  0.35124297 0.20272754 0.06808604 0.03793166 0.03130265\n",
      " 0.16771434 0.03131432 0.13621973 0.08603658 0.15233759 0.63918918\n",
      " 0.18470824 0.05499963 0.01482564 0.09488504 0.10792356 0.045415\n",
      " 0.06367632 0.06743177 0.14068657 0.11574464 0.33993602 0.71001683\n",
      " 0.02322593 0.17319421 0.04309746 0.6421034  0.2301384  0.41128254\n",
      " 0.0240249  0.26253555 0.32900122 0.68786613 0.7069239  0.19076432\n",
      " 0.116608   0.91879584 0.81958956 0.26540587 0.15802502 0.00093995\n",
      " 0.34807158 0.42177808 0.28353462 0.08118476 0.00483724 0.12667942\n",
      " 0.15228556 0.13161217 0.48897394 0.23173528 0.14190865 0.08554734\n",
      " 0.40820262 0.01695295 0.04123169 0.19450118 0.07245406 0.44841639\n",
      " 0.34529915 0.09043179 0.89483999 0.00454414 0.43664874 0.05455569\n",
      " 0.49905853 0.06178369 0.1334216  0.16378546 0.44445211 0.25810607\n",
      " 0.26141593 0.39681414 0.01200907 0.02636425 0.00702124 0.51440657\n",
      " 0.11066247 0.12086425 0.3494806  0.06069188 0.29896651 0.00942196\n",
      " 0.24711492 0.00450915 0.52898055 0.3297233  0.01349076 0.09048845\n",
      " 0.14948964 0.05592686 0.30474635 0.37455074 0.17706751 0.0695418\n",
      " 0.0419936  0.12171033 0.08576855 0.38059043]\n"
     ]
    }
   ],
   "source": [
    "# Computing elementwise product\n",
    "print(textBoldH('v1*v2:'), v1*v2)"
   ]
  },
  {
   "cell_type": "code",
   "execution_count": 36,
   "metadata": {},
   "outputs": [
    {
     "name": "stdout",
     "output_type": "stream",
     "text": [
      "\u001b[1m\u001b[43mout:\u001b[0m [3.33712844e-01 3.35043316e-01 2.97389976e-01 3.40284824e-02\n",
      " 3.23343677e-01 8.35195196e-03 4.65999923e-01 2.64784014e-03\n",
      " 3.57781451e-02 8.65641121e-02 7.78026242e-02 6.59510128e-01\n",
      " 8.28004335e-02 5.46977129e-03 4.62164663e-03 2.23243998e-02\n",
      " 1.55387254e-01 3.87358426e-02 5.52355095e-02 3.38470418e-02\n",
      " 8.92428375e-02 2.54882336e-01 9.43515134e-01 6.27248860e-01\n",
      " 2.97633931e-02 6.44569231e-01 5.04232111e-01 8.20470759e-01\n",
      " 1.88969944e-01 7.51860125e-01 4.87330001e-01 7.45795551e-02\n",
      " 1.51925446e-01 7.03046345e-01 6.52399127e-01 6.02731826e-02\n",
      " 6.99354020e-01 8.94456439e-01 7.70479222e-01 1.45380560e-01\n",
      " 2.92856089e-01 7.15649408e-01 5.13229573e-01 5.02829816e-01\n",
      " 8.13683961e-02 3.73078949e-01 2.96601313e-03 8.82965771e-02\n",
      " 4.11233243e-02 1.49780281e-01 5.44982922e-01 6.78816793e-02\n",
      " 3.20106099e-02 7.09024079e-01 8.37404284e-01 1.99109251e-01\n",
      " 5.97791604e-02 6.36885484e-02 1.73205699e-01 6.43914668e-01\n",
      " 3.15261678e-01 3.33316796e-01 9.56791734e-01 6.03343621e-03\n",
      " 2.25637724e-01 2.29826561e-01 3.06887166e-01 2.82039233e-02\n",
      " 2.85346922e-02 1.72597507e-01 3.67499362e-01 9.16893692e-02\n",
      " 2.47525358e-01 9.73689918e-01 9.26046819e-04 2.17032328e-01\n",
      " 2.24585662e-01 4.78596079e-01 7.09690214e-02 6.39894512e-01\n",
      " 1.60795723e-01 9.05588097e-03 3.96976232e-01 6.96598071e-04\n",
      " 5.13805385e-01 1.47386830e-04 3.56015330e-01 7.58452840e-01\n",
      " 4.87774331e-01 3.89805124e-01 1.86443576e-01 1.13027426e-01\n",
      " 1.37118773e-01 1.40644816e-01 2.80776661e-01 2.05435121e-02\n",
      " 7.77715748e-01 3.91720197e-01 1.40202489e-01 9.64740735e-01]\n"
     ]
    }
   ],
   "source": [
    "# Squaring each element of v1\n",
    "print(textBoldH('out:'), np.power(v1,2))"
   ]
  },
  {
   "cell_type": "markdown",
   "metadata": {},
   "source": [
    "<div id='matplotlib' />\n",
    "\n",
    "# MatPlotLib, comprehensive 2-D plotting\n",
    "[Back to TOC](#toc)\n",
    "\n",
    "In this case, we will go straight to the examples. See https://matplotlib.org and https://github.com/matplotlib/cheatsheets#cheatsheets."
   ]
  },
  {
   "cell_type": "code",
   "execution_count": 37,
   "metadata": {},
   "outputs": [
    {
     "data": {
      "application/vnd.jupyter.widget-view+json": {
       "model_id": "cabfa0afa5404fdcb184f1705d96e1e6",
       "version_major": 2,
       "version_minor": 0
      },
      "text/plain": [
       "interactive(children=(IntSlider(value=5, description='n', max=1000, min=3), Output()), _dom_classes=('widget-i…"
      ]
     },
     "metadata": {},
     "output_type": "display_data"
    },
    {
     "data": {
      "text/plain": [
       "<function __main__.plot_trig_func(n=5)>"
      ]
     },
     "execution_count": 37,
     "metadata": {},
     "output_type": "execute_result"
    }
   ],
   "source": [
    "def plot_trig_func(n=5):\n",
    "    x = np.linspace(0,10,n) # Generates a linearly spaced set of n points from 0 to 10\n",
    "    y1 = np.sin(x) # Vectorization in action!\n",
    "    y2 = np.cos(x) # Vectorization in action!\n",
    "    plt.figure(figsize=(5,5)) # Creating the figure\n",
    "    plt.plot(x,y1,label=r'$\\sin(x)$') # Plotting sin\n",
    "    plt.plot(x,y2,'r.-',label=r'$\\cos(x)$') # Plotting cos\n",
    "    plt.grid(True) # Adding nice grid\n",
    "    plt.legend(loc='best') # Adding legend\n",
    "    plt.title('Plotting trigonometric functions') # Adding title\n",
    "    plt.xlabel(r'$x$') # Adding x-label\n",
    "    plt.ylabel(r'$y$') # Adding y-label\n",
    "    plt.show() # Showing the plot\n",
    "# The following is a iPython widget called interact, \n",
    "# it allows us to interact with the function that it is being called.\n",
    "interact(plot_trig_func,n=(3,1000,1)) # Making this 'tunable'!"
   ]
  },
  {
   "cell_type": "code",
   "execution_count": 38,
   "metadata": {},
   "outputs": [
    {
     "data": {
      "application/vnd.jupyter.widget-view+json": {
       "model_id": "f191f6e27a2d49aa922c356b50918844",
       "version_major": 2,
       "version_minor": 0
      },
      "text/plain": [
       "interactive(children=(FloatSlider(value=0.0, description='theta', max=6.283185307179586, step=0.12566370614359…"
      ]
     },
     "metadata": {},
     "output_type": "display_data"
    },
    {
     "data": {
      "text/plain": [
       "<function __main__.plot_funct_2_var(theta=0)>"
      ]
     },
     "execution_count": 38,
     "metadata": {},
     "output_type": "execute_result"
    }
   ],
   "source": [
    "def plot_funct_2_var(theta=0):\n",
    "    x = np.linspace(-2,2,20)\n",
    "    y = x # Recall this is just a 'view'\n",
    "\n",
    "    X, Y = np.meshgrid(x,y) # It generates two 2D arrays with with cartesian product of 'x' and 'y'.    \n",
    "\n",
    "    # 'lambda' definition help us to organize better the code\n",
    "    f = lambda x,y: np.sin(x*np.sin(theta)+y*np.cos(theta))*np.exp(-(x**2+y**2))\n",
    "    Z = f(X,Y) # Evaluation a function of two variables\n",
    "\n",
    "    fig, (ax1, ax2) = plt.subplots(1, 2, figsize=(10,5))\n",
    "    fig.suptitle('Comparison of two ways of plotting $f(x,y)$')\n",
    "\n",
    "    # This is useful for images.\n",
    "    ax1.imshow(Z, cmap='hot', interpolation='nearest')\n",
    "    ax1.set_ylabel('imshow')\n",
    "\n",
    "    # This is useful for functions in two variables, i.e. z=f(x,y)\n",
    "    ax2.pcolormesh(X,Y,Z,cmap='hot', shading='auto')\n",
    "    ax2.axis('equal')\n",
    "    ax2.set_ylabel('pcolormesh')\n",
    "    plt.show()\n",
    "interact(plot_funct_2_var,theta=(0,2*np.pi,2*np.pi/50))"
   ]
  },
  {
   "cell_type": "code",
   "execution_count": 39,
   "metadata": {},
   "outputs": [
    {
     "data": {
      "application/vnd.jupyter.widget-view+json": {
       "model_id": "ae1ba1198ae144c9a463985aa3cab855",
       "version_major": 2,
       "version_minor": 0
      },
      "text/plain": [
       "interactive(children=(FloatSlider(value=0.0, description='theta', max=6.283185307179586, step=0.12566370614359…"
      ]
     },
     "metadata": {},
     "output_type": "display_data"
    },
    {
     "data": {
      "text/plain": [
       "<function __main__.plot_funct_2_var_3D(theta=0)>"
      ]
     },
     "execution_count": 39,
     "metadata": {},
     "output_type": "execute_result"
    }
   ],
   "source": [
    "def plot_funct_2_var_3D(theta=0):\n",
    "    x = np.linspace(-2,2,40)\n",
    "    y = x # Recall this is just a 'view'\n",
    "\n",
    "    X, Y = np.meshgrid(x,y) # It generates two 2D arrays with with cartesian product of 'x' and 'y'.    \n",
    "\n",
    "    # 'lambda' definition help us to organize better the code\n",
    "    f = lambda x,y: np.sin(x*np.sin(theta)+y*np.cos(theta))*np.exp(-(x**2+y**2))\n",
    "    Z = f(X,Y) # Evaluation a function of two variables\n",
    "\n",
    "    fig, ax = plt.subplots(subplot_kw={\"projection\": \"3d\"},figsize=(10,10))\n",
    "\n",
    "    # Plot the surface.\n",
    "    surf = ax.plot_surface(X, Y, Z, cmap='hot', linewidth=2, antialiased=True)\n",
    "\n",
    "    # Add a color bar which maps values to colors.\n",
    "    fig.colorbar(surf, shrink=0.5, aspect=10)\n",
    "\n",
    "    plt.show()\n",
    "interact(plot_funct_2_var_3D,theta=(0,2*np.pi,2*np.pi/50))"
   ]
  },
  {
   "cell_type": "markdown",
   "metadata": {},
   "source": [
    "<div id='scipy' />\n",
    "\n",
    "# SciPy, fundamental library for scientific computing\n",
    "[Back to TOC](#toc)\n",
    "\n",
    "In this case, we will go straight to the examples. See https://www.scipy.org."
   ]
  },
  {
   "cell_type": "code",
   "execution_count": 40,
   "metadata": {},
   "outputs": [
    {
     "name": "stdout",
     "output_type": "stream",
     "text": [
      "(0.7468241328124271, 8.291413475940725e-15)\n",
      "(1.0, 1.1102230246251565e-14)\n"
     ]
    }
   ],
   "source": [
    "# Numerical Integration\n",
    "import scipy.integrate as integrate\n",
    "\n",
    "# Integrating $\\int_0^1 \\exp(-x^2)\\,dx$\n",
    "result = integrate.quad(lambda x: np.exp(-x**2), 0, 1)\n",
    "print(result)\n",
    "\n",
    "# Integrating $\\int_0^1 1\\,dx=1$\n",
    "result = integrate.quad(lambda x: 1, 0, 1)\n",
    "print(result)"
   ]
  },
  {
   "cell_type": "code",
   "execution_count": 41,
   "metadata": {},
   "outputs": [
    {
     "name": "stdout",
     "output_type": "stream",
     "text": [
      "Optimization terminated successfully.\n",
      "         Current function value: -2.000000\n",
      "         Iterations: 88\n",
      "         Function evaluations: 175\n",
      "[-1.57079632e+00 -1.44645246e-08]\n"
     ]
    }
   ],
   "source": [
    "# Minimization\n",
    "from scipy.optimize import minimize\n",
    "f = lambda x: np.sin(x[0])*(1+np.cos(x[1]))\n",
    "\n",
    "x0 = np.array([0, 0])\n",
    "res = minimize(f, x0, method='nelder-mead', options={'xatol': 1e-8, 'disp': True})\n",
    "print(res.x)"
   ]
  },
  {
   "cell_type": "code",
   "execution_count": 42,
   "metadata": {},
   "outputs": [
    {
     "data": {
      "image/png": "[encoded data removed]",
      "text/plain": [
       "<Figure size 800x800 with 2 Axes>"
      ]
     },
     "metadata": {},
     "output_type": "display_data"
    }
   ],
   "source": [
    "# Plotting the previous function\n",
    "x = np.linspace(-2*np.pi,2*np.pi)\n",
    "y = x\n",
    "X,Y = np.meshgrid(x,y)\n",
    "f = lambda x,y: np.sin(x)*(1+np.cos(y))\n",
    "Z = f(X,Y)\n",
    "plt.figure(figsize=(8,8))\n",
    "plt.pcolormesh(X,Y,Z,shading='auto')\n",
    "plt.plot(res.x[0],res.x[1],'r.')\n",
    "plt.colorbar()\n",
    "plt.title('The red dot is the minimum found numerically')\n",
    "plt.show()"
   ]
  },
  {
   "cell_type": "code",
   "execution_count": 43,
   "metadata": {},
   "outputs": [
    {
     "name": "stdout",
     "output_type": "stream",
     "text": [
      " message: The iteration is not making good progress, as measured by the \n",
      "            improvement from the last ten iterations.\n",
      " success: False\n",
      "  status: 5\n",
      "     fun: [-3.069e-01]\n",
      "       x: [ 6.937e-01]\n",
      "  method: hybr\n",
      "    nfev: 30\n",
      "    fjac: [[-1.000e+00]]\n",
      "       r: [-5.235e-05]\n",
      "     qtf: [ 3.069e-01]\n"
     ]
    }
   ],
   "source": [
    "# root finding\n",
    "from scipy.optimize import root\n",
    "f = lambda x: x - 0.5 * np.exp(x)\n",
    "sol = root(f, 0.3)\n",
    "print(sol)"
   ]
  },
  {
   "cell_type": "markdown",
   "metadata": {},
   "source": [
    "<div id='sympy' />\n",
    "\n",
    "# SymPy, symbolic mathematics\n",
    "[Back to TOC](#toc)\n",
    "\n",
    "In this case, we will go straight to the examples. See https://www.sympy.org/en/index.html."
   ]
  },
  {
   "cell_type": "code",
   "execution_count": 44,
   "metadata": {},
   "outputs": [
    {
     "data": {
      "text/plain": [
       "np.False_"
      ]
     },
     "execution_count": 44,
     "metadata": {},
     "output_type": "execute_result"
    }
   ],
   "source": [
    "# Working with algebraic expression versus 'numerical' expressions\n",
    "sym.sqrt(3)==np.sqrt(3)"
   ]
  },
  {
   "cell_type": "code",
   "execution_count": 45,
   "metadata": {},
   "outputs": [
    {
     "data": {
      "image/png": "[encoded data removed]",
      "text/latex": [
       "$\\displaystyle \\text{True}$"
      ],
      "text/plain": [
       "True"
      ]
     },
     "execution_count": 45,
     "metadata": {},
     "output_type": "execute_result"
    }
   ],
   "source": [
    "sym.sqrt(3)>np.sqrt(3)"
   ]
  },
  {
   "cell_type": "code",
   "execution_count": 46,
   "metadata": {},
   "outputs": [
    {
     "data": {
      "image/png": "[encoded data removed]",
      "text/latex": [
       "$\\displaystyle \\text{False}$"
      ],
      "text/plain": [
       "False"
      ]
     },
     "execution_count": 46,
     "metadata": {},
     "output_type": "execute_result"
    }
   ],
   "source": [
    "sym.sqrt(3)<np.sqrt(3)"
   ]
  },
  {
   "cell_type": "code",
   "execution_count": 47,
   "metadata": {},
   "outputs": [
    {
     "data": {
      "image/png": "[encoded data removed]",
      "text/latex": [
       "$\\displaystyle x$"
      ],
      "text/plain": [
       "x"
      ]
     },
     "execution_count": 47,
     "metadata": {},
     "output_type": "execute_result"
    }
   ],
   "source": [
    "# Defining symbolic variables\n",
    "x = sym.symbols('x')\n",
    "x"
   ]
  },
  {
   "cell_type": "code",
   "execution_count": 48,
   "metadata": {},
   "outputs": [
    {
     "data": {
      "image/png": "[encoded data removed]",
      "text/latex": [
       "$\\displaystyle x^{2} + \\left(x^{2} + 1\\right)^{2} + \\cos{\\left(x \\right)}$"
      ],
      "text/plain": [
       "             2         \n",
       " 2   ⎛ 2    ⎞          \n",
       "x  + ⎝x  + 1⎠  + cos(x)"
      ]
     },
     "execution_count": 48,
     "metadata": {},
     "output_type": "execute_result"
    }
   ],
   "source": [
    "y=x**2+sym.cos(x)+(x**2+1)**2\n",
    "y"
   ]
  },
  {
   "cell_type": "code",
   "execution_count": 49,
   "metadata": {},
   "outputs": [
    {
     "data": {
      "image/png": "[encoded data removed]",
      "text/latex": [
       "$\\displaystyle x^{4} + 3 x^{2} + \\cos{\\left(x \\right)} + 1$"
      ],
      "text/plain": [
       " 4      2             \n",
       "x  + 3⋅x  + cos(x) + 1"
      ]
     },
     "execution_count": 49,
     "metadata": {},
     "output_type": "execute_result"
    }
   ],
   "source": [
    "# Expanding the terms\n",
    "sym.expand(y)"
   ]
  },
  {
   "cell_type": "code",
   "execution_count": 50,
   "metadata": {},
   "outputs": [
    {
     "data": {
      "image/png": "[encoded data removed]",
      "text/latex": [
       "$\\displaystyle 4 x \\left(x^{2} + 1\\right) + 2 x - \\sin{\\left(x \\right)}$"
      ],
      "text/plain": [
       "    ⎛ 2    ⎞               \n",
       "4⋅x⋅⎝x  + 1⎠ + 2⋅x - sin(x)"
      ]
     },
     "execution_count": 50,
     "metadata": {},
     "output_type": "execute_result"
    }
   ],
   "source": [
    "# Computing derivatives\n",
    "yp=sym.diff(y)\n",
    "yp"
   ]
  },
  {
   "cell_type": "code",
   "execution_count": 51,
   "metadata": {},
   "outputs": [
    {
     "data": {
      "image/png": "[encoded data removed]",
      "text/latex": [
       "$\\displaystyle 4 x^{3} + 6 x - \\sin{\\left(x \\right)}$"
      ],
      "text/plain": [
       "   3               \n",
       "4⋅x  + 6⋅x - sin(x)"
      ]
     },
     "execution_count": 51,
     "metadata": {},
     "output_type": "execute_result"
    }
   ],
   "source": [
    "# Factorization of expression\n",
    "sym.factor(yp)"
   ]
  },
  {
   "cell_type": "code",
   "execution_count": 52,
   "metadata": {},
   "outputs": [
    {
     "data": {
      "image/png": "[encoded data removed]",
      "text/latex": [
       "$\\displaystyle 0$"
      ],
      "text/plain": [
       "0"
      ]
     },
     "execution_count": 52,
     "metadata": {},
     "output_type": "execute_result"
    }
   ],
   "source": [
    "# Computing limits\n",
    "sym.limit((1-sym.cos(x))/x, x, 0)"
   ]
  },
  {
   "cell_type": "code",
   "execution_count": 53,
   "metadata": {},
   "outputs": [
    {
     "data": {
      "image/png": "[encoded data removed]",
      "text/latex": [
       "$\\displaystyle 1$"
      ],
      "text/plain": [
       "1"
      ]
     },
     "execution_count": 53,
     "metadata": {},
     "output_type": "execute_result"
    }
   ],
   "source": [
    "sym.limit((sym.sin(x))/x, x, 0)"
   ]
  },
  {
   "cell_type": "code",
   "execution_count": 54,
   "metadata": {},
   "outputs": [
    {
     "data": {
      "image/png": "[encoded data removed]",
      "text/latex": [
       "$\\displaystyle \\left[ \\frac{1}{2} - \\frac{\\sqrt{3} i}{2}, \\  \\frac{1}{2} + \\frac{\\sqrt{3} i}{2}\\right]$"
      ],
      "text/plain": [
       "⎡1   √3⋅ⅈ  1   √3⋅ⅈ⎤\n",
       "⎢─ - ────, ─ + ────⎥\n",
       "⎣2    2    2    2  ⎦"
      ]
     },
     "execution_count": 54,
     "metadata": {},
     "output_type": "execute_result"
    }
   ],
   "source": [
    "# Solving algebraic equations\n",
    "sym.solve(x**2-x+1,x)"
   ]
  },
  {
   "cell_type": "markdown",
   "metadata": {},
   "source": [
    "<div id='libraries' />\n",
    "\n",
    "# Libraries\n",
    "[Back to TOC](#toc)\n",
    "\n",
    "### Please make sure you make all of them your BFF!!\n",
    "\n",
    "* NumPy: https://www.nature.com/articles/s41586-020-2649-2\n",
    "* Matplotlib: http://matplotlib.org/examples/pylab_examples/simple_plot.html\n",
    "* Scipy.org: https://www.scipy.org\n",
    "* SymPy: https://www.sympy.org/en/index.html\n",
    "* IEEE 754 Floating Point Special Values: https://docs.scipy.org/doc/numpy-1.10.0/user/misc.html"
   ]
  },
  {
   "cell_type": "markdown",
   "metadata": {
    "collapsed": true
   },
   "source": [
    "<div id='acknowledgements' />\n",
    "\n",
    "# Acknowledgements\n",
    "[Back to TOC](#toc)\n",
    "\n",
    "* _Material originally created by professor Claudio Torres_ (`ctorres@inf.utfsm.cl`). v.1.0. DI UTFSM. August 2021._\n",
    "* _Update August 2021 - v1.01 - C.Torres_ : Extending jupyter notebook.\n",
    "* _Update September 2021 - v1.02 - C.Torres_ : Adding missing titles references and reordering libaries section.\n",
    "* _Update March 2022 - v1.03 - C.Torres_ : Replacing pip by conda in instalation of bitstring, now it is available in conda."
   ]
  },
  {
   "cell_type": "code",
   "execution_count": null,
   "metadata": {},
   "outputs": [],
   "source": []
  }
 ],
 "metadata": {
  "anaconda-cloud": {},
  "kernelspec": {
   "display_name": "Python 3.9.12 ('base')",
   "language": "python",
   "name": "python3"
  },
  "language_info": {
   "codemirror_mode": {
    "name": "ipython",
    "version": 3
   },
   "file_extension": ".py",
   "mimetype": "text/x-python",
   "name": "python",
   "nbconvert_exporter": "python",
   "pygments_lexer": "ipython3",
   "version": "3.12.4"
  },
  "vscode": {
   "interpreter": {
    "hash": "3d597f4c481aa0f25dceb95d2a0067e73c0966dcbd003d741d821a7208527ecf"
   }
  }
 },
 "nbformat": 4,
 "nbformat_minor": 1
}

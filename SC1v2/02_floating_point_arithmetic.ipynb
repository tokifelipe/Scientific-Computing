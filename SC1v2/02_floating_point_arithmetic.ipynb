{
 "cells": [
  {
   "attachments": {},
   "cell_type": "markdown",
   "metadata": {},
   "source": [
    "<center>\n",
    "    <img src=\"http://sct.inf.utfsm.cl/wp-content/uploads/2020/04/logo_di.png\" style=\"width:60%\">\n",
    "    <h1> INF-285 - Computación Científica </h1>\n",
    "    <h2> Floating Point Arithmetic </h2>\n",
    "    <h2> <a href=\"#acknowledgements\"> [S]cientific [C]omputing [T]eam </a> </h2>\n",
    "    <h2> Version: 1.22 </h2>\n",
    "</center>\n"
   ]
  },
  {
   "cell_type": "markdown",
   "metadata": {},
   "source": [
    "<div id='toc' />\n",
    "\n",
    "## Table of Contents\n",
    "* [Introduction](#intro)\n",
    "* [The nature of floating point numbers](#nature)\n",
    "* [Visualization of floating point numbers](#visualization)\n",
    "* [What is the first integer that is not representable in double precision?](#firstinteger)\n",
    "* [Loss of significance](#loss)\n",
    "* [Loss of significance in funcion evaluation](#func)\n",
    "* [Another analysis (example from textbook)](#another)\n",
    "* [Acknowledgements](#acknowledgements)"
   ]
  },
  {
   "cell_type": "code",
   "execution_count": 10,
   "metadata": {},
   "outputs": [],
   "source": [
    "import numpy as np\n",
    "import matplotlib.pyplot as plt\n",
    "%matplotlib inline"
   ]
  },
  {
   "cell_type": "markdown",
   "metadata": {},
   "source": [
    "<div id='intro' />\n",
    "\n",
    "## Introduction\n",
    "[Back to TOC](#toc)\n",
    "\n",
    "Hello! This notebook is an introduction to how our computers handle the representation of real numbers using double-precision floating-point standard IEEE 754. \n",
    "To understand the contents of this notebook you should have at least a basic notion of how binary numbers work.\n",
    "\n",
    "The double-precision floating-point format occupies 64 bits which are divided as follows:\n",
    "\n",
    "* 1 bit for the sign\n",
    "* 11 bits for the exponent\n",
    "* 52 bits for the mantissa\n",
    "\n",
    "This means that the very next representable number after $1$ is $1 + 2^{-52}$, and their difference, $2^{-52}$, is the called $\\epsilon_{mach}$.\n",
    "\n",
    "Additionally, if you'd like to quickly go from a base-2 integer to a base-10 integer and viceversa, Python has some functions that can help you with that."
   ]
  },
  {
   "cell_type": "code",
   "execution_count": 3,
   "metadata": {},
   "outputs": [
    {
     "data": {
      "text/plain": [
       "3"
      ]
     },
     "execution_count": 3,
     "metadata": {},
     "output_type": "execute_result"
    }
   ],
   "source": [
    "# This code translate from a binary number using the prefix \"0b\" to a base 10 number.\n",
    "int('0b11', 2)"
   ]
  },
  {
   "cell_type": "code",
   "execution_count": 82,
   "metadata": {},
   "outputs": [
    {
     "data": {
      "text/plain": [
       "'0b10000000000'"
      ]
     },
     "execution_count": 82,
     "metadata": {},
     "output_type": "execute_result"
    }
   ],
   "source": [
    "# This code translate from base 10 to base 2.\n",
    "bin(1024)"
   ]
  },
  {
   "cell_type": "code",
   "execution_count": 5,
   "metadata": {},
   "outputs": [
    {
     "data": {
      "text/plain": [
       "'0b100000000000000000000000000000000000000000000000000000'"
      ]
     },
     "execution_count": 5,
     "metadata": {},
     "output_type": "execute_result"
    }
   ],
   "source": [
    "# Just looking a large binary number\n",
    "bin()"
   ]
  },
  {
   "cell_type": "markdown",
   "metadata": {},
   "source": [
    "<div id='nature' />\n",
    "\n",
    "## The nature of floating point numbers\n",
    "[Back to TOC](#toc)"
   ]
  },
  {
   "cell_type": "markdown",
   "metadata": {},
   "source": [
    "Como sabemos hasta ahora, las representaciones en punto flotante de los números reales son solo una representación finita y limitada de ellos. \n",
    "Pero otra cosa interesante es que estos números en punto flotante no están distribuidos uniformemente a lo largo de los números reales.\n",
    "\n",
    "Para ver eso, es muy importante tener en cuenta la siguiente propiedad de los números en punto flotante:\n",
    "$$\n",
    "\\begin{equation*} \n",
    "    \\left|\\frac{\\text{fl}(x)-x}{x}\\right| \\leq \\frac{1}{2} \\epsilon_{\\text{mach}}, \n",
    "\\end{equation*}\n",
    "$$\n",
    "donde $\\text{fl}(x)$ significa la representación en punto flotante de $x \\in \\mathbb{R}$, esto significa que $\\text{fl}(x)$ es el número real que se almacena en memoria cuando intentamos almacenar el número $x$. \n",
    "Lo que dice es que **el error relativo al representar cualquier número real distinto de cero está acotado por una cantidad que depende de la precisión utilizada**, es decir, ($\\epsilon_{\\text{mach}}$).\n",
    "\n",
    "Tal vez ahora estés pensando: ¿Qué tiene que ver esta relación con la distribución de los números en punto flotante? \n",
    "Entonces, si reescribimos lo anterior de la siguiente manera obtenemos:\n",
    "$$\n",
    "\\begin{equation} \n",
    "    |\\text{fl}(x)-x| \\leq \\frac{1}{2} \\epsilon_{\\text{mach}}\\,|x|.\n",
    "\\end{equation}\n",
    "$$\n",
    "Está claro entonces: **El error absoluto (distancia) entre un número real y su representación en punto flotante es proporcional a la magnitud del número real.**\n",
    "\n",
    "Hablando intuitivamente, el error de representación de un número aumenta a medida que aumenta su magnitud, esto implica que **la distancia entre un número en punto flotante y el siguiente número representable en punto flotante aumentará a medida que aumente la magnitud de dicho número (y viceversa)**. \n",
    "¿Podrías probar eso?  \n",
    "Por ahora, lo probaremos numéricamente.\n",
    "\n",
    "Usaremos una biblioteca llamada **bitstring** para visualizar lo que se almacena en doble precisión. \n",
    "Puedes instalarla con:\n",
    "```\n",
    "pip install bitstring\n",
    "```"
   ]
  },
  {
   "cell_type": "code",
   "execution_count": 1,
   "metadata": {},
   "outputs": [],
   "source": [
    "import bitstring as bs"
   ]
  },
  {
   "cell_type": "markdown",
   "metadata": {},
   "source": [
    "The next two functions are self-explanatory:\n",
    "\n",
    "1. `next_float(f)` computes the next representable float number right after $f$.\n",
    "2. `gap(f)` computes the difference between $f$ and the next representable float number.\n",
    "\n",
    "Notice that here we are considering that we are using double-precision."
   ]
  },
  {
   "cell_type": "markdown",
   "metadata": {},
   "source": [
    "Las siguientes dos funciones son autoexplicativas:\n",
    "\n",
    "1. `next_float(f)` calcula el siguiente número en punto flotante representable justo después de $f$.\n",
    "2. `gap(f)` calcula la diferencia entre $f$ y el siguiente número en punto flotante representable.\n",
    "\n",
    "Nota que aquí estamos considerando que estamos usando doble precisión."
   ]
  },
  {
   "cell_type": "code",
   "execution_count": 2,
   "metadata": {},
   "outputs": [],
   "source": [
    "def next_float(f):\n",
    "    #packing double-precision foat\n",
    "    b = bs.pack('>d', f)\n",
    "    \n",
    "    #extracting mantisa as unsigned int and adding up 1.\n",
    "    # There are two cases, (1) if the bits of the mantissa are all 1,\n",
    "    # (2) all the other cases.\n",
    "    m = b[12:].uint\n",
    "    if m==4503599627370495:\n",
    "        # Case (1)\n",
    "        m=0\n",
    "        b[12:] = m\n",
    "        exp=b[1:12].uint\n",
    "        exp +=1\n",
    "        b[1:12] = exp\n",
    "        \n",
    "    else:\n",
    "        # Case (2)\n",
    "        m += 1\n",
    "        # putting the result in his place\n",
    "        b[12:] = m\n",
    "    \n",
    "    return b.float\n",
    "\n",
    "def gap(f):\n",
    "    next_f = next_float(f)\n",
    "    return next_f - f"
   ]
  },
  {
   "cell_type": "markdown",
   "metadata": {},
   "source": [
    "So if we compute `gap(1)` we should get machine epsilon. \n",
    "Let's try it:"
   ]
  },
  {
   "cell_type": "code",
   "execution_count": 8,
   "metadata": {},
   "outputs": [
    {
     "data": {
      "text/plain": [
       "2.220446049250313e-16"
      ]
     },
     "execution_count": 8,
     "metadata": {},
     "output_type": "execute_result"
    }
   ],
   "source": [
    "gap(1)"
   ]
  },
  {
   "cell_type": "code",
   "execution_count": 9,
   "metadata": {},
   "outputs": [
    {
     "data": {
      "text/plain": [
       "0.000244140625"
      ]
     },
     "execution_count": 9,
     "metadata": {},
     "output_type": "execute_result"
    }
   ],
   "source": [
    "# What happens when we increase the value?\n",
    "#La diferencia se va haciendo más grande\n",
    "gap(2**40)"
   ]
  },
  {
   "cell_type": "code",
   "execution_count": 8,
   "metadata": {},
   "outputs": [
    {
     "name": "stdout",
     "output_type": "stream",
     "text": [
      "1.0\n",
      "2.0\n"
     ]
    }
   ],
   "source": [
    "# When will the gap be greater that 1?\n",
    "print(gap(2.**52))\n",
    "print(gap(2.**53))\n",
    "# What does it mean to have a gap larger than 1?"
   ]
  },
  {
   "cell_type": "markdown",
   "metadata": {},
   "source": [
    "In order to prove our hypothesis (that floating point numbers are not uniformly distributed), we will create an array of values: $[2^{-5},...,2^{60}]$ and compute their corresponding gaps."
   ]
  },
  {
   "cell_type": "code",
   "execution_count": 18,
   "metadata": {},
   "outputs": [
    {
     "name": "stdout",
     "output_type": "stream",
     "text": [
      "[6.93889390e-18 1.38777878e-17 2.77555756e-17 5.55111512e-17\n",
      " 1.11022302e-16 2.22044605e-16 4.44089210e-16 8.88178420e-16\n",
      " 1.77635684e-15 3.55271368e-15 7.10542736e-15 1.42108547e-14\n",
      " 2.84217094e-14 5.68434189e-14 1.13686838e-13 2.27373675e-13\n",
      " 4.54747351e-13 9.09494702e-13 1.81898940e-12 3.63797881e-12\n",
      " 7.27595761e-12 1.45519152e-11 2.91038305e-11 5.82076609e-11\n",
      " 1.16415322e-10 2.32830644e-10 4.65661287e-10 9.31322575e-10\n",
      " 1.86264515e-09 3.72529030e-09 7.45058060e-09 1.49011612e-08\n",
      " 2.98023224e-08 5.96046448e-08 1.19209290e-07 2.38418579e-07\n",
      " 4.76837158e-07 9.53674316e-07 1.90734863e-06 3.81469727e-06\n",
      " 7.62939453e-06 1.52587891e-05 3.05175781e-05 6.10351562e-05\n",
      " 1.22070312e-04 2.44140625e-04 4.88281250e-04 9.76562500e-04\n",
      " 1.95312500e-03 3.90625000e-03 7.81250000e-03 1.56250000e-02\n",
      " 3.12500000e-02 6.25000000e-02 1.25000000e-01 2.50000000e-01\n",
      " 5.00000000e-01 1.00000000e+00 2.00000000e+00 4.00000000e+00\n",
      " 8.00000000e+00 1.60000000e+01 3.20000000e+01 6.40000000e+01\n",
      " 1.28000000e+02]\n"
     ]
    }
   ],
   "source": [
    "values = np.array([2**i for i in range(-5,60)]).astype(float)\n",
    "\n",
    "# Corresponding gaps:\n",
    "# The Numpy function \"vectorize\" is very useful to be use one wants to apply\n",
    "# a scalar function to each element of an array.\n",
    "vgap = np.vectorize(gap)\n",
    "gaps = vgap(values)\n",
    "print(gaps)\n"
   ]
  },
  {
   "cell_type": "markdown",
   "metadata": {},
   "source": [
    "We include now a comparison between a linear scale plot and a loglog scale plot. Which one is more useful here?"
   ]
  },
  {
   "cell_type": "code",
   "execution_count": 12,
   "metadata": {},
   "outputs": [
    {
     "data": {
      "image/png": "[encoded data removed]",
      "text/plain": [
       "<Figure size 1000x500 with 2 Axes>"
      ]
     },
     "metadata": {},
     "output_type": "display_data"
    }
   ],
   "source": [
    "fig = plt.figure(figsize=(10,5))\n",
    "\n",
    "plt.subplot(121)\n",
    "plt.plot(values, gaps,'.',markersize=20)\n",
    "plt.xlabel('float(x)')\n",
    "plt.ylabel('Gap between next representable number')\n",
    "plt.title('Linear scale')\n",
    "plt.grid(True)\n",
    "\n",
    "plt.subplot(122)\n",
    "plt.loglog(values, gaps,'.')\n",
    "plt.xlabel('float(x)')\n",
    "plt.ylabel('Gap between next representable number')\n",
    "plt.title('Log scale')\n",
    "plt.grid(True)\n",
    "\n",
    "fig.tight_layout()\n",
    "plt.show()"
   ]
  },
  {
   "cell_type": "markdown",
   "metadata": {},
   "source": [
    "As you can see, the hypothesis was right. In other words: Floating point numbers are not uniformly distributed across the real numbers, and the distance between them is proportional to their magnitude. \n",
    "**Tiny numbers (~ 0) are closer between each other than larger numbers are.**\n",
    "\n",
    "Moreover, we can conclude that for large values the gap is larger that $1$, **which means that there will be integers that will not be stored!!**."
   ]
  },
  {
   "cell_type": "markdown",
   "metadata": {},
   "source": [
    "Como puedes ver, la hipótesis era correcta. En otras palabras: Los números de punto flotante no están distribuidos uniformemente a lo largo de los números reales, y la distancia entre ellos es proporcional a su magnitud.\n",
    "**Los números pequeños (~ 0) están más cerca entre sí que los números más grandes.**\n",
    "\n",
    "Además, podemos concluir que para valores grandes la brecha es mayor que $1$, **lo que significa que habrá enteros que no se podrán almacenar**."
   ]
  },
  {
   "cell_type": "markdown",
   "metadata": {},
   "source": [
    "<div id='visualization' />\n",
    "\n",
    "## Visualization of floating point numbers\n",
    "[Back to TOC](#toc)\n",
    "\n",
    "With the help of `bitstring` library we could write a function to visualize floating point numbers in its binary representation."
   ]
  },
  {
   "cell_type": "code",
   "execution_count": 19,
   "metadata": {},
   "outputs": [],
   "source": [
    "# This function shows the bits used for the sign, exponent and mantissa for a 64-bit double presision number.\n",
    "# fps: Floating Point Standard\n",
    "# Double: Double precision IEEE 754\n",
    "def to_fps_double(f):\n",
    "    b = bs.pack('>d', f)\n",
    "    b = b.bin\n",
    "    #show sign + exponent + mantisa\n",
    "    print(b[0]+' '+b[1:12]+ ' '+b[12:])"
   ]
  },
  {
   "cell_type": "markdown",
   "metadata": {},
   "source": [
    "Let's see some intereseting examples"
   ]
  },
  {
   "cell_type": "code",
   "execution_count": 22,
   "metadata": {},
   "outputs": [
    {
     "name": "stdout",
     "output_type": "stream",
     "text": [
      "Representacion IEEE 754 de 1.0\n",
      "0 01111111111 0000000000000000000000000000000000000000000000000000\n",
      "Exponente real: 0b0\n"
     ]
    }
   ],
   "source": [
    "\n",
    "print(\"Representacion IEEE 754 de 1.0\")\n",
    "to_fps_double(1.)\n",
    "\n",
    "print(\"Exponente real:\",bin(int('01111111111', 2)-1023))"
   ]
  },
  {
   "cell_type": "code",
   "execution_count": 23,
   "metadata": {},
   "outputs": [
    {
     "data": {
      "text/plain": [
       "1023"
      ]
     },
     "execution_count": 23,
     "metadata": {},
     "output_type": "execute_result"
    }
   ],
   "source": [
    "int('0b01111111111', 2)"
   ]
  },
  {
   "cell_type": "code",
   "execution_count": 16,
   "metadata": {},
   "outputs": [
    {
     "name": "stdout",
     "output_type": "stream",
     "text": [
      "0 01111111111 0000000000000000000000000000000000000000000000000001\n"
     ]
    }
   ],
   "source": [
    "to_fps_double(1.+gap(1.))"
   ]
  },
  {
   "cell_type": "code",
   "execution_count": 27,
   "metadata": {},
   "outputs": [
    {
     "name": "stdout",
     "output_type": "stream",
     "text": [
      "0 00000000000 0000000000000000000000000000000000000000000000000000\n",
      "Exponente real: -0b1111111111\n",
      "Exponente real: 0\n"
     ]
    }
   ],
   "source": [
    "to_fps_double(+0.)\n",
    "print(\"Exponente real:\",bin(int('00000000000', 2)-1023))\n",
    "print(\"Exponente real:\",int('00000000000 ', 2))"
   ]
  },
  {
   "cell_type": "code",
   "execution_count": 28,
   "metadata": {},
   "outputs": [
    {
     "name": "stdout",
     "output_type": "stream",
     "text": [
      "1 00000000000 0000000000000000000000000000000000000000000000000000\n"
     ]
    }
   ],
   "source": [
    "to_fps_double(-0.)"
   ]
  },
  {
   "cell_type": "code",
   "execution_count": 29,
   "metadata": {},
   "outputs": [
    {
     "name": "stdout",
     "output_type": "stream",
     "text": [
      "0 11111111111 0000000000000000000000000000000000000000000000000000\n",
      "Exponente real: 0b10000000000\n",
      "Exponente real: 1024\n"
     ]
    }
   ],
   "source": [
    "to_fps_double(np.inf)\n",
    "print(\"Exponente real:\",bin(int('11111111111', 2)-1023))\n",
    "print(\"Exponente real:\",int('10000000000', 2))"
   ]
  },
  {
   "cell_type": "code",
   "execution_count": 20,
   "metadata": {},
   "outputs": [
    {
     "name": "stdout",
     "output_type": "stream",
     "text": [
      "1 11111111111 0000000000000000000000000000000000000000000000000000\n"
     ]
    }
   ],
   "source": [
    "to_fps_double(-np.inf)"
   ]
  },
  {
   "cell_type": "code",
   "execution_count": 21,
   "metadata": {},
   "outputs": [
    {
     "name": "stdout",
     "output_type": "stream",
     "text": [
      "0 11111111111 1000000000000000000000000000000000000000000000000000\n"
     ]
    }
   ],
   "source": [
    "to_fps_double(np.nan)"
   ]
  },
  {
   "cell_type": "code",
   "execution_count": 22,
   "metadata": {},
   "outputs": [
    {
     "name": "stdout",
     "output_type": "stream",
     "text": [
      "1 11111111111 1000000000000000000000000000000000000000000000000000\n"
     ]
    }
   ],
   "source": [
    "to_fps_double(-np.nan)"
   ]
  },
  {
   "cell_type": "code",
   "execution_count": 30,
   "metadata": {},
   "outputs": [
    {
     "name": "stdout",
     "output_type": "stream",
     "text": [
      "0 00000000000 0000000000000000000000000000000000000000000000000001\n"
     ]
    }
   ],
   "source": [
    "to_fps_double(2.**-1074)"
   ]
  },
  {
   "cell_type": "code",
   "execution_count": 24,
   "metadata": {},
   "outputs": [
    {
     "name": "stdout",
     "output_type": "stream",
     "text": [
      "5e-324\n"
     ]
    }
   ],
   "source": [
    "print(2.**-1074)"
   ]
  },
  {
   "cell_type": "code",
   "execution_count": 25,
   "metadata": {},
   "outputs": [
    {
     "name": "stdout",
     "output_type": "stream",
     "text": [
      "0 00000000000 0000000000000000000000000000000000000000000000000001\n"
     ]
    }
   ],
   "source": [
    "to_fps_double(2.**-1075)"
   ]
  },
  {
   "cell_type": "code",
   "execution_count": 26,
   "metadata": {},
   "outputs": [
    {
     "name": "stdout",
     "output_type": "stream",
     "text": [
      "5e-324\n"
     ]
    }
   ],
   "source": [
    "print(2.**-1075)"
   ]
  },
  {
   "cell_type": "code",
   "execution_count": 27,
   "metadata": {},
   "outputs": [
    {
     "name": "stdout",
     "output_type": "stream",
     "text": [
      "0 10000000010 0010110011001100110011001100110011001100110011001101\n"
     ]
    }
   ],
   "source": [
    "to_fps_double(9.4)"
   ]
  },
  {
   "cell_type": "markdown",
   "metadata": {},
   "source": [
    "<div id='firstinteger' />\n",
    "\n",
    "## What is the first integer that is not representable in double precision?\n",
    "[Back to TOC](#toc)"
   ]
  },
  {
   "cell_type": "markdown",
   "metadata": {},
   "source": [
    "Recall that $\\epsilon_{\\text{mach}}=2^{-52}$ in double precision."
   ]
  },
  {
   "cell_type": "code",
   "execution_count": 31,
   "metadata": {},
   "outputs": [
    {
     "name": "stdout",
     "output_type": "stream",
     "text": [
      "0 01111111111 0000000000000000000000000000000000000000000000000000\n",
      "0 01111111111 0000000000000000000000000000000000000000000000000001\n"
     ]
    }
   ],
   "source": [
    "to_fps_double(1)\n",
    "to_fps_double(1+2**-52)"
   ]
  },
  {
   "cell_type": "markdown",
   "metadata": {},
   "source": [
    "This means that if we want to store any number in the interval $[1,1+\\epsilon_{\\text{mach}}]$, only the numbers $1$ and $1+\\epsilon_{\\text{mach}}$ will be stored. For example, compare the exponent and the mantissa in the previous cell with the following outputs:"
   ]
  },
  {
   "cell_type": "markdown",
   "metadata": {},
   "source": [
    "Esto significa que si queremos almacenar cualquier número en el intervalo $[1,1+\\epsilon_{\\text{mach}}]$, solo se almacenarán los números $1$ y $1+\\epsilon_{\\text{mach}}$. Por ejemplo, compara el exponente y la mantisa en la celda anterior con las siguientes salidas:"
   ]
  },
  {
   "cell_type": "code",
   "execution_count": 29,
   "metadata": {},
   "outputs": [
    {
     "name": "stdout",
     "output_type": "stream",
     "text": [
      "0 01111111111 0000000000000000000000000000000000000000000000000000\n",
      "0 01111111111 0000000000000000000000000000000000000000000000000000\n",
      "0 01111111111 0000000000000000000000000000000000000000000000000000\n",
      "0 01111111111 0000000000000000000000000000000000000000000000000000\n",
      "0 01111111111 0000000000000000000000000000000000000000000000000001\n",
      "0 01111111111 0000000000000000000000000000000000000000000000000001\n",
      "0 01111111111 0000000000000000000000000000000000000000000000000001\n",
      "0 01111111111 0000000000000000000000000000000000000000000000000001\n",
      "0 01111111111 0000000000000000000000000000000000000000000000000001\n",
      "0 01111111111 0000000000000000000000000000000000000000000000000001\n"
     ]
    }
   ],
   "source": [
    "for i in np.arange(1,11):\n",
    "    to_fps_double(1+i*2**-55)"
   ]
  },
  {
   "cell_type": "markdown",
   "metadata": {},
   "source": [
    "Now, we can scale this difference such that the scaling factor multiplied but $\\epsilon_{\\text{mach}}$ is one. The factor will be $2^{52}$. This means $2^{52}\\,\\epsilon_{\\text{mach}}=1$. Repeating the same example as before but with the scaling factor we obtain:"
   ]
  },
  {
   "cell_type": "markdown",
   "metadata": {},
   "source": [
    "Ahora, podemos escalar esta diferencia de manera que el factor de escala multiplicado por $\\epsilon_{\\text{mach}}$ sea uno. El factor será $2^{52}$. Esto significa que $2^{52}\\,\\epsilon_{\\text{mach}}=1$. Repitiendo el mismo ejemplo que antes pero con el factor de escala obtenemos:"
   ]
  },
  {
   "cell_type": "markdown",
   "metadata": {},
   "source": []
  },
  {
   "cell_type": "code",
   "execution_count": 30,
   "metadata": {},
   "outputs": [
    {
     "name": "stdout",
     "output_type": "stream",
     "text": [
      "0 10000110011 0000000000000000000000000000000000000000000000000000\n",
      "0 10000110011 0000000000000000000000000000000000000000000000000000\n",
      "0 10000110011 0000000000000000000000000000000000000000000000000000\n",
      "0 10000110011 0000000000000000000000000000000000000000000000000000\n",
      "0 10000110011 0000000000000000000000000000000000000000000000000000\n",
      "0 10000110011 0000000000000000000000000000000000000000000000000001\n",
      "0 10000110011 0000000000000000000000000000000000000000000000000001\n",
      "0 10000110011 0000000000000000000000000000000000000000000000000001\n",
      "0 10000110011 0000000000000000000000000000000000000000000000000001\n",
      "0 10000110011 0000000000000000000000000000000000000000000000000001\n",
      "0 10000110011 0000000000000000000000000000000000000000000000000001\n"
     ]
    }
   ],
   "source": [
    "for i in np.arange(11):\n",
    "    to_fps_double((1+i*2**-55)*2**52)"
   ]
  },
  {
   "cell_type": "markdown",
   "metadata": {},
   "source": [
    "Which means we can only store exactly the numbers:"
   ]
  },
  {
   "cell_type": "code",
   "execution_count": 87,
   "metadata": {},
   "outputs": [
    {
     "name": "stdout",
     "output_type": "stream",
     "text": [
      "0 01111001011 0000000000000000000000000000000000000000000000000000\n",
      "0 10000110011 0000000000000000000000000000000000000000000000000001\n"
     ]
    }
   ],
   "source": [
    "to_fps_double(2**-52)\n",
    "to_fps_double(2**52+1)"
   ]
  },
  {
   "cell_type": "markdown",
   "metadata": {},
   "source": [
    "This means, the distance now from $2^{52}$ and the following number representable is $1$ !!!! So, what would happend if I can to store $2^{53}+1$?"
   ]
  },
  {
   "cell_type": "code",
   "execution_count": 84,
   "metadata": {},
   "outputs": [
    {
     "name": "stdout",
     "output_type": "stream",
     "text": [
      "0 10000000000 1000000000000000000000000000000000000000000000000000\n",
      "0 10000000000 0000000000000000000000000000000000000000000000000000\n",
      "0 01111111111 0000000000000000000000000000000000000000000000000000\n"
     ]
    }
   ],
   "source": [
    "to_fps_double(3)\n",
    "to_fps_double(2**1)\n",
    "to_fps_double(2**0)\n",
    "\n"
   ]
  },
  {
   "cell_type": "code",
   "execution_count": null,
   "metadata": {},
   "outputs": [],
   "source": []
  },
  {
   "cell_type": "markdown",
   "metadata": {},
   "source": [
    "I can't stored the **Integer** $2^{53}+1$! Thus, the first integer not representable is $2^{53}+1$."
   ]
  },
  {
   "cell_type": "markdown",
   "metadata": {},
   "source": [
    "<div id='error_bound' />\n",
    "\n",
    "## Understanding the error bound between |fl(x)-x|\n",
    "[Back to TOC](#toc)\n",
    "\n",
    "The following code shows a plot of the upper bound of the absolute error we are making when storing the value $x$ as a floating point in double precision, i.e. fl $(x)$.\n",
    "This means:\n",
    "$$\n",
    "    \\begin{equation*} \n",
    "        |\\text{fl}(x)-x| \\leq \\frac{1}{2} \\epsilon_{\\text{mach}} |x| \n",
    "    \\end{equation*}.\n",
    "$$"
   ]
  },
  {
   "cell_type": "markdown",
   "metadata": {},
   "source": [
    "<div id='error_bound' />\n",
    "\n",
    "## Entendiendo el límite de error entre |fl(x)-x|\n",
    "[Volver al índice](#toc)\n",
    "\n",
    "El siguiente código muestra un gráfico del límite superior del error absoluto que estamos cometiendo al almacenar el valor $x$ como un número de punto flotante en doble precisión, es decir, fl $(x)$.\n",
    "Esto significa:\n",
    "$$\n",
    "    \\begin{equation*} \n",
    "        |\\text{fl}(x)-x| \\leq \\frac{1}{2} \\epsilon_{\\text{mach}} |x| \n",
    "    \\end{equation*}.\n",
    "$$"
   ]
  },
  {
   "cell_type": "code",
   "execution_count": 33,
   "metadata": {},
   "outputs": [
    {
     "data": {
      "image/png": "[encoded data removed]",
      "text/plain": [
       "<Figure size 640x480 with 1 Axes>"
      ]
     },
     "metadata": {},
     "output_type": "display_data"
    }
   ],
   "source": [
    "x = np.logspace(-200,800,1000, base=2, dtype=np.dtype(float))\n",
    "plt.figure()\n",
    "plt.loglog(x,x,'b',label='fl$(x)$: value stored')\n",
    "plt.loglog(x,np.power(2.,-52)*np.abs(x)/2,'r',label='Upper bound of $|$fl$(x)-x|$ estimated')\n",
    "plt.legend(loc='best')\n",
    "plt.grid(True)\n",
    "plt.show()"
   ]
  },
  {
   "cell_type": "markdown",
   "metadata": {},
   "source": [
    "Como habrás esperado, el error crece proporcionalmente con el valor de $x$.\n",
    "Es importante, sin embargo, que no te confundas con la aparentemente pequeña diferencia entre las líneas azul y roja, ¡en realidad esa diferencia es de aproximadamente 16 órdenes de magnitud!\n",
    "Solo mira la escala del eje $y$, es una escala logarítmica.\n",
    "\n",
    "El resultado de este ejemplo es que nos dice que el error absoluto que estamos cometiendo cuando almacenamos el valor $x$ como un punto flotante de doble precisión fl $(x)$ es proporcional a $x$, esto es lo que es.\n",
    "El punto clave es que siempre debemos recordar esto."
   ]
  },
  {
   "cell_type": "markdown",
   "metadata": {},
   "source": [
    "<div id='loss' />\n",
    "\n",
    "## Loss of significance\n",
    "[Back to TOC](#toc)"
   ]
  },
  {
   "cell_type": "markdown",
   "metadata": {},
   "source": [
    "As we mentioned, there's a small gap between 1 and the next representable number, which means that if you want to represent a number between those two, you won't be able to do so; what you would need to do is to round it to a representable number before storing it in memory."
   ]
  },
  {
   "cell_type": "markdown",
   "metadata": {},
   "source": [
    "Como mencionamos, hay una pequeña brecha entre 1 y el siguiente número representable, lo que significa que si deseas representar un número entre esos dos, no podrás hacerlo; lo que necesitarías hacer es redondearlo a un número representable antes de almacenarlo en la memoria."
   ]
  },
  {
   "cell_type": "code",
   "execution_count": 90,
   "metadata": {},
   "outputs": [
    {
     "name": "stdout",
     "output_type": "stream",
     "text": [
      "1.0000000000000002220446049250313080847263336181640625\n",
      "2.220446049250313e-16\n",
      "2.220446049250313e-16\n"
     ]
    }
   ],
   "source": [
    "a = 1.\n",
    "b = 2.**(-52) #emach\n",
    "result_1 = a + b     # arithmetic result is 1.0000000000000002220446049250313080847263336181640625\n",
    "result_1b = result_1-1.0\n",
    "print(\"{0:.1000}\".format(result_1))\n",
    "print(result_1b)\n",
    "print(b)"
   ]
  },
  {
   "cell_type": "code",
   "execution_count": 91,
   "metadata": {},
   "outputs": [
    {
     "name": "stdout",
     "output_type": "stream",
     "text": [
      "1.0\n",
      "0.0\n"
     ]
    }
   ],
   "source": [
    "c = 2.**(-53)\n",
    "result_2 = a + c     # arithmetic result is 1.00000000000000011102230246251565404236316680908203125\n",
    "np.set_printoptions(precision=16)\n",
    "print(\"{0:.1000}\".format(result_2))\n",
    "print(result_2-a)"
   ]
  },
  {
   "cell_type": "code",
   "execution_count": 36,
   "metadata": {},
   "outputs": [
    {
     "name": "stdout",
     "output_type": "stream",
     "text": [
      "0 01111111111 0000000000000000000000000000000000000000000000000000\n",
      "0 00000000000 0000000000000000000000000000000000000000000000000000\n"
     ]
    }
   ],
   "source": [
    "to_fps_double(result_2)\n",
    "to_fps_double(result_2-a)"
   ]
  },
  {
   "cell_type": "code",
   "execution_count": 37,
   "metadata": {},
   "outputs": [
    {
     "name": "stdout",
     "output_type": "stream",
     "text": [
      "1.0000000000000002220446049250313080847263336181640625\n",
      "0 01111111111 0000000000000000000000000000000000000000000000000001\n",
      "0 01111001010 1000000000000000000000000000000000000000000000000000\n"
     ]
    }
   ],
   "source": [
    "d = 2.**(-53) + 2.**(-54)\n",
    "\n",
    "result_3 = a + d     # arithmetic result is 1.000000000000000166533453693773481063544750213623046875\n",
    "print(\"{0:.1000}\".format(result_3))\n",
    "to_fps_double(result_3)\n",
    "to_fps_double(d)"
   ]
  },
  {
   "cell_type": "markdown",
   "metadata": {},
   "source": [
    "As you can see, if you try to save a number between $1$ and $1 + \\epsilon _{mach}$, it will have to be rounded (according to IEEE rounding criteria) to a representable number before being stored, thus creating a difference between the _real_ number and the _stored_ number. \n",
    "This situation is an example of loss of significance.\n",
    "\n",
    "Does that mean that the _gap_ between representable numbers is _always_ going to be $\\epsilon _{mach}$? Of course not! Some numbers will have smaller gaps, and some others will require larger gaps, as studied before. \n",
    "\n",
    "In any interval of the form $[2^n,2^{n+1}]$ for representable $n\\in \\mathbb{Z}$, the gap is constant. \n",
    "For example, all the numbers between $2^{-1}$ and $2^0$ have a distance of $\\epsilon _{mach}/2$ between them. \n",
    "All the numbers between $2^0$ and $2^1$ have a distance of $\\epsilon _{mach}$ between them. \n",
    "Those between $2^1$ and $2^2$ have a distance of $2\\,\\epsilon _{mach}$ between them, and so on."
   ]
  },
  {
   "cell_type": "markdown",
   "metadata": {},
   "source": [
    "Como puedes ver, si intentas guardar un número entre $1$ y $1 + \\epsilon _{mach}$, tendrá que ser redondeado (según los criterios de redondeo de IEEE) a un número representable antes de ser almacenado, creando así una diferencia entre el número _real_ y el número _almacenado_. \n",
    "Esta situación es un ejemplo de pérdida de significancia.\n",
    "\n",
    "¿Significa eso que la _brecha_ entre números representables _siempre_ va a ser $\\epsilon _{mach}$? ¡Por supuesto que no! Algunos números tendrán brechas más pequeñas, y otros requerirán brechas más grandes, como se estudió anteriormente.\n",
    "\n",
    "En cualquier intervalo de la forma $[2^n,2^{n+1}]$ para $n$ representable $\\in \\mathbb{Z}$, la brecha es constante.\n",
    "Por ejemplo, todos los números entre $2^{-1}$ y $2^0$ tienen una distancia de $\\epsilon _{mach}/2$ entre ellos.\n",
    "Todos los números entre $2^0$ y $2^1$ tienen una distancia de $\\epsilon _{mach}$ entre ellos.\n",
    "Aquellos entre $2^1$ y $2^2$ tienen una distancia de $2\\,\\epsilon _{mach}$ entre ellos, y así sucesivamente."
   ]
  },
  {
   "cell_type": "code",
   "execution_count": 92,
   "metadata": {},
   "outputs": [
    {
     "name": "stdout",
     "output_type": "stream",
     "text": [
      "0.50000000000000011102230246251565404236316680908203125\n",
      "0.5000000000000002220446049250313080847263336181640625\n"
     ]
    }
   ],
   "source": [
    "# What does it mean to store 0.5+delta?\n",
    "e = 2.**(-1)\n",
    "f = b/2. # emach/2\n",
    "\n",
    "result_4 = e + f     # 0.50000000000000011102230246251565404236316680908203125\n",
    "print(\"{0:.100}\".format(result_4))\n",
    "\n",
    "result_5 = e + b     # 0.5000000000000002220446049250313080847263336181640625\n",
    "print(\"{0:.100}\".format(result_5))"
   ]
  },
  {
   "cell_type": "code",
   "execution_count": 39,
   "metadata": {},
   "outputs": [
    {
     "name": "stdout",
     "output_type": "stream",
     "text": [
      "0.5\n"
     ]
    }
   ],
   "source": [
    "g = b/4.\n",
    "\n",
    "result_5 = e + g     # 0.500000000000000055511151231257827021181583404541015625\n",
    "print(\"{0:.100}\".format(result_5))"
   ]
  },
  {
   "cell_type": "markdown",
   "metadata": {},
   "source": [
    "We'll let the students find some representable numbers and some non-representable numbers."
   ]
  },
  {
   "cell_type": "code",
   "execution_count": 40,
   "metadata": {},
   "outputs": [
    {
     "name": "stdout",
     "output_type": "stream",
     "text": [
      "1.0000000000000002220446049250313080847263336181640625\n"
     ]
    }
   ],
   "source": [
    "num_1 = a\n",
    "num_2 = b\n",
    "result = a + b\n",
    "print(\"{0:.100}\".format(result))"
   ]
  },
  {
   "cell_type": "markdown",
   "metadata": {},
   "source": [
    "<div id='func' />\n",
    "\n",
    "## Loss of significance in function evaluation\n",
    "[Back to TOC](#toc)"
   ]
  },
  {
   "cell_type": "markdown",
   "metadata": {},
   "source": [
    "Loss of Significance is present too in the representation of **functions**. A classical example (which you can see in the guide book), is the next function: \n",
    "\n",
    "$$\n",
    "\\begin{equation}\n",
    "    f_1(x)= \\frac{1 - \\cos x}{\\sin^{2}x} \n",
    "\\end{equation}\n",
    "$$\n",
    "\n",
    "Applying trigonometric identities, we can obtain the 'equivalent' function:\n",
    "$$\n",
    "\\begin{equation}\n",
    "    f_2(x)= \\frac{1}{1 + \\cos x} \n",
    "\\end{equation}\n",
    "$$\n",
    "\n",
    "Both of these functions are apparently equals in exact arithmetic. Nevertheless, its graphics say to us another thing when $x$ is equal to zero.\n",
    "\n",
    "Before we analize the behaviour about $x=0$, let's take a look at them in the range $x\\in[-10,10]$."
   ]
  },
  {
   "cell_type": "code",
   "execution_count": 41,
   "metadata": {},
   "outputs": [],
   "source": [
    "f1 = lambda x: (1.-np.cos(x))/(np.power(np.sin(x),2))\n",
    "f2 = lambda x: 1./(1+np.cos(x))"
   ]
  },
  {
   "cell_type": "code",
   "execution_count": 42,
   "metadata": {
    "scrolled": true
   },
   "outputs": [
    {
     "data": {
      "image/png": "[encoded data removed]",
      "text/plain": [
       "<Figure size 640x480 with 1 Axes>"
      ]
     },
     "metadata": {},
     "output_type": "display_data"
    }
   ],
   "source": [
    "x = np.arange(-10,10,0.1)\n",
    "plt.figure()\n",
    "plt.plot(x,f1(x),'-')\n",
    "plt.grid(True)\n",
    "plt.show()"
   ]
  },
  {
   "cell_type": "markdown",
   "metadata": {},
   "source": [
    "The first plot shows some spikes, are these expected? or is it an artifact?\n",
    "Notice that we mean that something it is an artifact when it only appears due to a numerical computation but it should not be there theoretically.\n",
    "Are these spikes real or not?"
   ]
  },
  {
   "cell_type": "code",
   "execution_count": 43,
   "metadata": {},
   "outputs": [
    {
     "data": {
      "image/png": "[encoded data removed]",
      "text/plain": [
       "<Figure size 640x480 with 1 Axes>"
      ]
     },
     "metadata": {},
     "output_type": "display_data"
    }
   ],
   "source": [
    "plt.figure()\n",
    "plt.plot(x,f2(x),'-')\n",
    "plt.grid(True)\n",
    "plt.show()"
   ]
  },
  {
   "cell_type": "markdown",
   "metadata": {},
   "source": [
    "The second function also shows the spikes! It seems they are real.\n",
    "Actually, they are real!\n",
    "At which points do we expect them?\n",
    "Do we expect them at $x=0$?\n",
    "\n",
    "To answer the last question, we will plot the functions in the range $x\\in[-1,1]$."
   ]
  },
  {
   "cell_type": "code",
   "execution_count": 44,
   "metadata": {},
   "outputs": [
    {
     "data": {
      "image/png": "[encoded data removed]",
      "text/plain": [
       "<Figure size 640x480 with 1 Axes>"
      ]
     },
     "metadata": {},
     "output_type": "display_data"
    }
   ],
   "source": [
    "x = np.arange(-1,1,0.01)\n",
    "plt.figure()\n",
    "plt.plot(x,f1(x),'.',markersize=10)\n",
    "plt.grid(True)\n",
    "plt.show()"
   ]
  },
  {
   "cell_type": "markdown",
   "metadata": {},
   "source": [
    "In the previous function, we see an _outlier_ at $x=0$, this point is telling us that $f_1(x)$ at $x=0$ seems to be $0$.\n",
    "Is this real or it is an artifact?\n",
    "\n",
    "Let's look at the plot of $f_2(x)$ in the same range."
   ]
  },
  {
   "cell_type": "code",
   "execution_count": 45,
   "metadata": {},
   "outputs": [
    {
     "data": {
      "image/png": "[encoded data removed]",
      "text/plain": [
       "<Figure size 640x480 with 1 Axes>"
      ]
     },
     "metadata": {},
     "output_type": "display_data"
    }
   ],
   "source": [
    "plt.figure()\n",
    "plt.plot(x,f2(x),'.',markersize=10)\n",
    "plt.grid(True)\n",
    "plt.show()"
   ]
  },
  {
   "cell_type": "markdown",
   "metadata": {},
   "source": [
    "In this case we see a different behavior. Is this the correct one?\n",
    "Yes!\n",
    "\n",
    "This happens because when $x$ is equal to zero, the first function has an indetermination, but previously, the computer makes a subtraction between numbers that are almost equals. This generates a loss of significance, turning the expression close to this point to be zero. \n",
    "However, modifying this expression to make the second function, eliminates this substraction, fixing the error in its calculation when $x=0$.\n",
    "\n",
    "In conclusion, for us, two representations of a function can be equals in exact arithmetic, but for the computer they can be different!"
   ]
  },
  {
   "cell_type": "markdown",
   "metadata": {},
   "source": [
    "<div id='another' />\n",
    "\n",
    "## Another analysis (example from textbook)\n",
    "[Back to TOC](#toc)\n",
    "\n",
    "The following code tries to explain why $f_1(x)$ gives $0$ near $x=0$."
   ]
  },
  {
   "cell_type": "code",
   "execution_count": 46,
   "metadata": {
    "scrolled": true
   },
   "outputs": [
    {
     "name": "stdout",
     "output_type": "stream",
     "text": [
      "x,            f1(x),        f2(x),        f3(x),                       f4(x)\n",
      "1.0000000000, 0.6492232052, 0.6492232052, 0.4596976941318602349895173, 0.7080734182735711756961905\n",
      "0.1000000000, 0.5012520863, 0.5012520863, 0.0049958347219741794376091, 0.0099667110793791851425238\n",
      "0.0100000000, 0.5000125002, 0.5000125002, 0.0000499995833347366414046, 0.0000999966667111107946004\n",
      "0.0010000000, 0.5000001250, 0.5000001250, 0.0000004999999583255032576, 0.0000009999996666667110814\n",
      "0.0001000000, 0.4999999986, 0.5000000012, 0.0000000049999999696126451, 0.0000000099999999666666680\n",
      "0.0000100000, 0.5000000414, 0.5000000000, 0.0000000000500000041370185, 0.0000000000999999999966667\n",
      "0.0000010000, 0.5000444503, 0.5000000000, 0.0000000000005000444502912, 0.0000000000009999999999997\n",
      "0.0000001000, 0.4996003611, 0.5000000000, 0.0000000000000049960036108, 0.0000000000000100000000000\n",
      "0.0000000100, 0.0000000000, 0.5000000000, 0.0000000000000000000000000, 0.0000000000000001000000000\n",
      "0.0000000010, 0.0000000000, 0.5000000000, 0.0000000000000000000000000, 0.0000000000000000010000000\n",
      "0.0000000001, 0.0000000000, 0.5000000000, 0.0000000000000000000000000, 0.0000000000000000000100000\n",
      "0.0000000000, 0.0000000000, 0.5000000000, 0.0000000000000000000000000, 0.0000000000000000000001000\n",
      "0.0000000000, 0.0000000000, 0.5000000000, 0.0000000000000000000000000, 0.0000000000000000000000010\n",
      "0.0000000000, 0.0000000000, 0.5000000000, 0.0000000000000000000000000, 0.0000000000000000000000000\n",
      "0.0000000000, 0.0000000000, 0.5000000000, 0.0000000000000000000000000, 0.0000000000000000000000000\n",
      "0.0000000000, 0.0000000000, 0.5000000000, 0.0000000000000000000000000, 0.0000000000000000000000000\n",
      "0.0000000000, 0.0000000000, 0.5000000000, 0.0000000000000000000000000, 0.0000000000000000000000000\n",
      "0.0000000000, 0.0000000000, 0.5000000000, 0.0000000000000000000000000, 0.0000000000000000000000000\n",
      "0.0000000000, 0.0000000000, 0.5000000000, 0.0000000000000000000000000, 0.0000000000000000000000000\n",
      "0.0000000000, 0.0000000000, 0.5000000000, 0.0000000000000000000000000, 0.0000000000000000000000000\n"
     ]
    }
   ],
   "source": [
    "# This function corresponds to the numerator of f1(x)\n",
    "f3 = lambda x: (1.-np.cos(x))\n",
    "# This function corresponds to the denominator of f2(x)\n",
    "f4 = lambda x: np.power(np.sin(x),2)\n",
    "x = np.flip(np.logspace(-19,0,20))\n",
    "o1 = f1(x)\n",
    "o2 = f2(x)\n",
    "o3 = f3(x)\n",
    "o4 = f4(x)\n",
    "\n",
    "print(\"x,            f1(x),        f2(x),        f3(x),                       f4(x)\")\n",
    "for i in np.arange(len(x)):\n",
    "    print(\"%1.10f, %1.10f, %1.10f, %1.25f, %1.25f\" % (x[i],o1[i],o2[i],o3[i],o4[i]))"
   ]
  },
  {
   "cell_type": "markdown",
   "metadata": {},
   "source": [
    "From teh previous table, we see that the numerator of $f_1(x)$ becomes $0$. What is happening with $1-\\cos(x)$ about $x=0$?\n",
    "\n",
    "In the following code we study numerically what happens with $1-\\cos(x)$ as $x$ tends to $0^+$."
   ]
  },
  {
   "cell_type": "code",
   "execution_count": 47,
   "metadata": {},
   "outputs": [
    {
     "name": "stderr",
     "output_type": "stream",
     "text": [
      "<>:3: SyntaxWarning: invalid escape sequence '\\c'\n",
      "<>:3: SyntaxWarning: invalid escape sequence '\\c'\n",
      "C:\\Users\\felip\\AppData\\Local\\Temp\\ipykernel_4024\\11040650.py:3: SyntaxWarning: invalid escape sequence '\\c'\n",
      "  plt.loglog(x,1-np.cos(x),'.',label='$1-\\cos(x)$')\n"
     ]
    },
    {
     "data": {
      "image/png": "[encoded data removed]",
      "text/plain": [
       "<Figure size 640x480 with 1 Axes>"
      ]
     },
     "metadata": {},
     "output_type": "display_data"
    }
   ],
   "source": [
    "x = np.logspace(-20,0,40)\n",
    "plt.figure()\n",
    "plt.loglog(x,1-np.cos(x),'.',label='$1-\\cos(x)$')\n",
    "plt.loglog(x,0*x+1e-20,'.', label='$10^{-20}$')\n",
    "plt.grid(True)\n",
    "plt.xlabel('$x$')\n",
    "plt.legend(loc='best')\n",
    "plt.show()"
   ]
  },
  {
   "cell_type": "code",
   "execution_count": 48,
   "metadata": {},
   "outputs": [
    {
     "name": "stdout",
     "output_type": "stream",
     "text": [
      "0 01111001111 0110100000000000000000000000000000000000000000000000\n",
      "0 00000000000 0000000000000000000000000000000000000000000000000000\n"
     ]
    }
   ],
   "source": [
    "# For this value of x=1e-7 we obtain an outcome greater than 0\n",
    "to_fps_double(1-np.cos(1.e-7))\n",
    "# But for x=1e-8 we actually get 0. This explains why in the previous plot the blue dots stop appearing for values less or equal than 1e-8 approximately.\n",
    "to_fps_double(1-np.cos(1.e-8))"
   ]
  },
  {
   "cell_type": "markdown",
   "metadata": {},
   "source": [
    "## Another example: quadratic formula\n",
    "\n",
    "Find the _positive_ root from the quadratic formula of:\n",
    "$$\n",
    "x^2+10^{10}\\,x-1=0.\n",
    "$$\n",
    "The positive root is:\n",
    "$$\n",
    "x_+ = \\dfrac{-10^{10}+\\sqrt{(10^{10})^2+4}}{2}\n",
    "$$\n"
   ]
  },
  {
   "cell_type": "code",
   "execution_count": 49,
   "metadata": {},
   "outputs": [
    {
     "name": "stdout",
     "output_type": "stream",
     "text": [
      "0.0\n"
     ]
    }
   ],
   "source": [
    "xp = lambda a,b,c: (-b+np.sqrt((b**2)-4*a*c))/(2*a)\n",
    "print(xp(1,np.power(10.,10),-1))"
   ]
  },
  {
   "cell_type": "markdown",
   "metadata": {},
   "source": [
    "Is the root found a root of the quadratic equation? \n",
    "If so, evaluate the solution and make sure it satisfies the previous equation.\n",
    "\n",
    "Recall that the computation must be done using double precision all the way along, otherwise the outcome could be different.\n",
    "\n",
    "**We strongly suggest you to look at the bonus Jupyter Notebook called _\"Bonus - 02 - Quadratic formula.ipynb\"_ to review this problem with more detail.**"
   ]
  },
  {
   "cell_type": "markdown",
   "metadata": {},
   "source": [
    "## Libraries\n",
    "### Please make sure you make all of them your BFF!!\n",
    "\n",
    "* Numpy - IEEE 754 Floating Point Special Values: https://docs.scipy.org/doc/numpy-1.10.0/user/misc.html\n",
    "* Matplotlib: http://matplotlib.org/examples/pylab_examples/simple_plot.html\n",
    "* Nice Trick: https://www.dataquest.io/blog/jupyter-notebook-tips-tricks-shortcuts/"
   ]
  },
  {
   "attachments": {},
   "cell_type": "markdown",
   "metadata": {
    "collapsed": true
   },
   "source": [
    "<div id='acknowledgements' />\n",
    "\n",
    "# Acknowledgements\n",
    "[Back to TOC](#toc)\n",
    "\n",
    "* _Material originally created by professor Claudio Torres_ (`ctorres@inf.utfsm.cl`) _and assistants: Laura Bermeo, Alvaro Salinas, Axel Simonsen and Martín Villanueva. v.1.1. DI UTFSM. March 2016._\n",
    "* _Update April 2020 - v1.14 - C.Torres_ : Fixing some issues.\n",
    "* _Update April 2020 - v1.15 - C.Torres_ : Adding subplot.\n",
    "* _Update April 2020 - v1.16 - C.Torres_ : Adding value of numerator and denominator in example of f1 = lambda x: (1.-np.cos(x))/(np.sin(x)** 2).\n",
    "* _Update April 2020 - v1.17 - C.Torres_ : Adding section \"What is the first integer that is not representable in double precision?\"\n",
    "* _Update April 2021 - v1.18 - C.Torres_ : Function \"epsilon\" renamed to function \"gap\" and fixed special case for function \"next_float\".\n",
    "* _Update June 2021 - v1.19 - C.Torres_ : Removing last call to function 'epsilon' that was replaced by 'gap' in the current version, this was generating a bud in the execution of the notebook. Thanks Nicolás Cerpa for pointing this out!\n",
    "* _Update September 2021 - v1.20 - C.Torres_ : Adding back to Table of Content (TOC) link on each other section. Fixing to typos. Adding \\$\\$ before each LaTeX equation staring with begin-equation and begin-align, for instance. Few changes of text in several sections.\n",
    "* _Update March 2022 - v1.21 - C.Torres_ : Adding missing \\$\\$ and adding an example with the quadratic formula. Replacing to_binary by to_fps_double. General improvements in the explanation. Updating suggested command to install bitstring. Fixing more \\$\\$ issues. Fixing the text.\n",
    "* _Update March 2023 - v1.22 - C.Torres_ : Updating bitstring installing reference, now we are back to pip."
   ]
  },
  {
   "cell_type": "code",
   "execution_count": 89,
   "metadata": {},
   "outputs": [
    {
     "name": "stdout",
     "output_type": "stream",
     "text": [
      "[0. 0. 0.]\n"
     ]
    }
   ],
   "source": [
    "mat=np.zeros((3))\n",
    "print(mat)"
   ]
  }
 ],
 "metadata": {
  "anaconda-cloud": {},
  "kernelspec": {
   "display_name": "Python 3 (ipykernel)",
   "language": "python",
   "name": "python3"
  },
  "language_info": {
   "codemirror_mode": {
    "name": "ipython",
    "version": 3
   },
   "file_extension": ".py",
   "mimetype": "text/x-python",
   "name": "python",
   "nbconvert_exporter": "python",
   "pygments_lexer": "ipython3",
   "version": "3.12.4"
  },
  "vscode": {
   "interpreter": {
    "hash": "3d597f4c481aa0f25dceb95d2a0067e73c0966dcbd003d741d821a7208527ecf"
   }
  }
 },
 "nbformat": 4,
 "nbformat_minor": 1
}

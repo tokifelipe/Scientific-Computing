{
 "cells": [
  {
   "cell_type": "markdown",
   "id": "d9c1e561-08eb-43d6-ae4b-a4c488b6aa87",
   "metadata": {},
   "source": [
    "Considere:\n",
    "\n",
    "$$\n",
    "\\begin{align*}\n",
    "    \\begin{bmatrix}\n",
    "        1 & 2 & 3\\\\\n",
    "        3 & 2 & 1\\\\\n",
    "        1 & 1 & -1\n",
    "    \\end{bmatrix}\n",
    "    \\mathbf{x} &=\n",
    "    \\begin{bmatrix}\n",
    "        1\\\\\n",
    "        1\\\\\n",
    "        1\n",
    "    \\end{bmatrix}.\n",
    "\\end{align*}\n",
    "$$\n",
    "\n",
    "1. Construya el sub-espacio de Krylov *no-ortonormalizado* asociado.\n",
    "2. Construya el sub-espacio de Krylov *ortonormalizado* asociado.\n",
    "3. Construya la descomposición de Hessemberg asociada.\n",
    "4. Determine el sistema de ecuaciones *equivalente* a resolver con GMRes."
   ]
  },
  {
   "cell_type": "code",
   "execution_count": 1,
   "id": "6deb4170-a792-4a38-b604-1b4558454c60",
   "metadata": {},
   "outputs": [],
   "source": [
    "import numpy as np"
   ]
  },
  {
   "cell_type": "code",
   "execution_count": 13,
   "id": "b296a663-3ecc-4a96-89d3-414c9a3c0171",
   "metadata": {},
   "outputs": [
    {
     "data": {
      "text/plain": [
       "array([[ 1.,  2.,  3.],\n",
       "       [ 3.,  2.,  1.],\n",
       "       [ 1.,  1., -1.]])"
      ]
     },
     "execution_count": 13,
     "metadata": {},
     "output_type": "execute_result"
    }
   ],
   "source": [
    "A = np.array([[1.,2.,3.],[3.,2.,1.],[1.,1.,-1.]])\n",
    "b = np.array([1.,1.,1.])\n",
    "A\n"
   ]
  },
  {
   "cell_type": "markdown",
   "id": "a7bda556-9383-49ad-93f6-b481c5ec390b",
   "metadata": {},
   "source": [
    "sub-espacio de Krylov\n",
    "\n",
    "$b_1 = b, \\ b_2 = A\\,b, \\ b_3 = A^2b = A(A\\,b) = A\\,b_2$"
   ]
  },
  {
   "cell_type": "code",
   "execution_count": 3,
   "id": "7b29602a-b6bc-493e-99d9-d7bff2bb8eb9",
   "metadata": {},
   "outputs": [
    {
     "name": "stdout",
     "output_type": "stream",
     "text": [
      "[1. 1. 1.] [6. 6. 1.] [21. 31. 11.]\n"
     ]
    }
   ],
   "source": [
    "b1 = b\n",
    "b2 = np.dot(A,b1)\n",
    "b3 = np.dot(A,b2)\n",
    "print(b1,b2,b3)"
   ]
  },
  {
   "cell_type": "markdown",
   "id": "5718e8d5-cbd7-4ef0-ad51-2c35d094db86",
   "metadata": {},
   "source": [
    "$q_1 = b / \\lVert b \\rVert$"
   ]
  },
  {
   "cell_type": "code",
   "execution_count": 4,
   "id": "72cb7575-d7c2-4138-ac29-d08cb6c9229e",
   "metadata": {},
   "outputs": [
    {
     "data": {
      "text/plain": [
       "array([0.57735027, 0.57735027, 0.57735027])"
      ]
     },
     "execution_count": 4,
     "metadata": {},
     "output_type": "execute_result"
    }
   ],
   "source": [
    "q1 = b / np.linalg.norm(b)\n",
    "q1"
   ]
  },
  {
   "cell_type": "markdown",
   "id": "3d267a88-1ca8-479e-bbdf-1aaa0bd5157f",
   "metadata": {},
   "source": [
    "La ecuación para $A\\,q_1$ es:\n",
    "\n",
    "$A\\,q_1 = h_{11}\\,q_1 + h_{21}\\,q_2$\n",
    "\n",
    "Multiplicamos $q_1^*$ a la ecuación:\n",
    "\n",
    "$q_1^*(A\\,q_1) = h_{11}$\n",
    "\n",
    "Restamos $h_{11}\\,q_1$:\n",
    "\n",
    "$A\\,q_1 - h_{11}\\,q_1 = h_{21}\\,q_2$\n",
    "\n",
    "Aplicamos norma:\n",
    "\n",
    "$\\lVert A\\,q_1 - h_{11}\\,q_1 \\rVert = h_{21}$\n",
    "\n",
    "Obtenemos $q_2$:\n",
    "\n",
    "$q_2 = (A\\,q_1 - h_{11}\\,q_1) / h_{21}$"
   ]
  },
  {
   "cell_type": "code",
   "execution_count": 5,
   "id": "d0f80fb0-df43-484b-8018-406abd8d68f3",
   "metadata": {},
   "outputs": [],
   "source": [
    "y = np.dot(A,q1)\n",
    "h11 = np.dot(q1,y)\n",
    "y = y - h11*q1\n",
    "h21 = np.linalg.norm(y)\n",
    "q2 = y / h21"
   ]
  },
  {
   "cell_type": "markdown",
   "id": "4c30c3a5-72c0-43ac-8797-90c22c97067a",
   "metadata": {},
   "source": [
    "La ecuación para $A\\,q_2$ es:\n",
    "\n",
    "$A\\,q_2 = h_{12}\\,q_1 + h_{22}\\,q_2 + h_{32}\\,q_3$\n",
    "\n",
    "Multiplicamos $q_1^*$ a la ecuación:\n",
    "\n",
    "$q_1^*(A\\,q_2) = h_{12}$\n",
    "\n",
    "Multiplicamos $q_2^*$ a la ecuación:\n",
    "\n",
    "$q_2^*(A\\,q_2 - h_{12}\\,q_1) = h_{22}$\n",
    "\n",
    "Restamos $h_{12}\\,q_1 + h_{22}\\,q_2$:\n",
    "\n",
    "$A\\,q_2 - h_{12}\\,q_1 - h_{22}\\,q_2 = h_{32}\\,q_3$\n",
    "\n",
    "Aplicamos norma:\n",
    "\n",
    "$\\lVert A\\,q_2 - h_{12}\\,q_1 - h_{22}\\,q_2 \\rVert = h_{32}$\n",
    "\n",
    "Obtenemos $q_3$:\n",
    "\n",
    "$q_3 = (A\\,q_2 - h_{12}\\,q_1 - h_{22}\\,q_2) / h_{32}$"
   ]
  },
  {
   "cell_type": "code",
   "execution_count": 6,
   "id": "83f79bfd-db20-461e-8a83-f618ea0d0996",
   "metadata": {},
   "outputs": [],
   "source": [
    "y = np.dot(A,q2)\n",
    "h12 = np.dot(q1,y)\n",
    "y = y - h12*q1\n",
    "h22 = np.dot(q2,y)\n",
    "y = y - h22*q2\n",
    "h32 = np.linalg.norm(y)\n",
    "q3 = y / h32"
   ]
  },
  {
   "cell_type": "markdown",
   "id": "a30e524d-70d2-4677-b6f1-d0d9f391a998",
   "metadata": {},
   "source": [
    "La descomposición quedaría:\n",
    "\n",
    "$A\\,Q_2 = Q_3\\,H_2$"
   ]
  },
  {
   "cell_type": "code",
   "execution_count": 7,
   "id": "3a32960c-83d0-4a07-8e54-a9b5173ab0e5",
   "metadata": {},
   "outputs": [],
   "source": [
    "Q = np.zeros((3,3))\n",
    "Q[:,0] = q1\n",
    "Q[:,1] = q2\n",
    "Q[:,2] = q3\n",
    "\n",
    "H = np.array([[h11,h12],[h21,h22],[0.,h32]])\n",
    "\n",
    "L = A@Q[:,:2]\n",
    "R = Q@H\n",
    "\n",
    "#print(L)\n",
    "#print(R)"
   ]
  },
  {
   "cell_type": "markdown",
   "id": "f5d0ac44-cc22-46c1-8d87-99af1292dd8f",
   "metadata": {},
   "source": [
    "El sistema equivalente es:\n",
    "\n",
    "$H\\,c = b_e$\n",
    "\n",
    "$H\\,\\begin{bmatrix}c_1 \\\\ c_2\\end{bmatrix} = \\begin{bmatrix}\\lVert b \\rVert \\\\ 0 \\\\ 0\\end{bmatrix}$\n",
    "\n",
    "$Qh,Rh = qr(H)$\n",
    "\n",
    "$Rh\\,c = Qh^*\\,b_e$"
   ]
  },
  {
   "cell_type": "code",
   "execution_count": 8,
   "id": "6238d4f5-a2cb-4150-a9da-e635dce6894e",
   "metadata": {},
   "outputs": [
    {
     "data": {
      "text/plain": [
       "array([0.29921072, 0.23839316])"
      ]
     },
     "execution_count": 8,
     "metadata": {},
     "output_type": "execute_result"
    }
   ],
   "source": [
    "be = np.array([np.linalg.norm(b),0.,0.])\n",
    "Qh,Rh = np.linalg.qr(H,mode=\"reduced\")\n",
    "bh = np.dot(Qh.T,be)\n",
    "c = np.linalg.solve(Rh,bh)\n",
    "c"
   ]
  },
  {
   "cell_type": "code",
   "execution_count": 9,
   "id": "5cb336bb-1832-47c3-a7ad-b0efdbb96455",
   "metadata": {},
   "outputs": [
    {
     "data": {
      "text/plain": [
       "0.6041220933301769"
      ]
     },
     "execution_count": 9,
     "metadata": {},
     "output_type": "execute_result"
    }
   ],
   "source": [
    "xa = c[0]*q1 + c[1]*q2\n",
    "\n",
    "np.linalg.norm(b - np.dot(A,xa))"
   ]
  }
 ],
 "metadata": {
  "kernelspec": {
   "display_name": "Python 3 (ipykernel)",
   "language": "python",
   "name": "python3"
  },
  "language_info": {
   "codemirror_mode": {
    "name": "ipython",
    "version": 3
   },
   "file_extension": ".py",
   "mimetype": "text/x-python",
   "name": "python",
   "nbconvert_exporter": "python",
   "pygments_lexer": "ipython3",
   "version": "3.12.4"
  }
 },
 "nbformat": 4,
 "nbformat_minor": 5
}

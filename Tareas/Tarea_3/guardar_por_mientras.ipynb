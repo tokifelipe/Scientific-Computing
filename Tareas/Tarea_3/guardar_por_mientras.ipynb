{
 "cells": [
  {
   "cell_type": "code",
   "execution_count": null,
   "metadata": {},
   "outputs": [],
   "source": [
    "def piecewise_lin(f,a,b,d,m):\n",
    "    \"\"\"\n",
    "    input:\n",
    "    f   : (callable) function to evaluate.\n",
    "    a   : (double)   initial value of interval.\n",
    "    b   : (double)   final value of interval.\n",
    "    d   : (int)      number of linear polynomials.\n",
    "    m   : (int)      number of points to evaluate.\n",
    "     \n",
    "    output:\n",
    "    x_a : (ndarray) array with the x values for evaluation. \n",
    "    y_a : (ndarray) array with the evaluation of linear polynomials at x_a.\n",
    "    \"\"\"\n",
    "    #acá va su codigo\n",
    "    #--------------------------------\n",
    "    #Se genera un arreglo con las cotas inferiores y superiores de los d intervalos.\n",
    "    puntos_x=np.linspace(a,b,d+1)\n",
    "    #Se vectoriza nuestro interpolador \"lin_pol_interval\" para que nos de un interpolador por cada par (x_i y x_f) que le entreguemos.\n",
    "    interpolador_vectorizado=np.vectorize(lambda xi,xf:lin_pol_interval(f,xi,xf))\n",
    "    #arreglo que guardará d interpoladores correspondiente a los d intervalos ingresados.\n",
    "    arr_interpol=interpolador_vectorizado(puntos_x[:-1],puntos_x[1:])\n",
    "\n",
    "    #--------------------------------\n",
    "    return x_a,y_a"
   ]
  },
  {
   "cell_type": "code",
   "execution_count": null,
   "metadata": {},
   "outputs": [],
   "source": [
    " # Arreglo que contiene los puntos de Chebyshev para los d intervalos considerando n.\n",
    "    chev_x = [Chebyshev_points(arr_d[i], arr_d[i+1],n) for i in range(d)]\n",
    "    #Se evalua,de forma vectorizada, los puntos que están en chev_x\n",
    "    chev_y=f(chev_x)\n",
    "    # Arreglo que contiene los polinomios de Lagrange para los d intervalos considerando los puntos de Chebyshev.\n",
    "    polinomios_Lagrange = [Lagrange(chev_x[i], chev_y[i]) for i in range(d)]"
   ]
  }
 ],
 "metadata": {
  "language_info": {
   "name": "python"
  }
 },
 "nbformat": 4,
 "nbformat_minor": 2
}

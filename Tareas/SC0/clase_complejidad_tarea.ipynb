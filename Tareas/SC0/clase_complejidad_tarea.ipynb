{
  "cells": [
    {
      "cell_type": "markdown",
      "metadata": {
        "id": "o6nYa9r4xrmI"
      },
      "source": [
        "<img src=\"http://sct.inf.utfsm.cl/wp-content/uploads/2020/04/logo_di.png\" style=\"width:60\">\n",
        "<center>\n",
        "    <h1>T0 </h1>\n",
        "    <h2> Parte 1</h2>\n",
        "    <h2> Version: 1.00</h2>\n",
        "</center>"
      ]
    },
    {
      "cell_type": "markdown",
      "metadata": {
        "id": "JHhJ-xo8xrmO"
      },
      "source": [
        "<div id='tabla' />\n",
        "\n",
        "# Tabla de contenido\n",
        "* [Paquetes y librerias requeridas](#conda)\n",
        "* [Objetivo de la actividad](#objetivo)\n",
        "* [Complejidad Computacional](#complejidad_computacional)\n",
        "* [big O](#big_O)\n",
        "* [Breve introducción de la tarea](#intro_tarea)\n",
        "* [**TAREA**](#tarea)\n",
        "* [Código final entregado para visualizar la comparación](#codigo_final)"
      ]
    },
    {
      "cell_type": "code",
      "execution_count": 1,
      "metadata": {
        "id": "X1yQ6CwoxrmQ"
      },
      "outputs": [],
      "source": [
        "# Library used to generate random numbers.\n",
        "import numpy as np\n",
        "# This library is used to generate nice plots.ssss\n",
        "import matplotlib.pyplot as plt\n",
        "import matplotlib as mpl\n",
        "# This lines define better values for output for font size in plots.\n",
        "mpl.rcParams['font.size'] = 14\n",
        "mpl.rcParams['axes.labelsize'] = 20\n",
        "mpl.rcParams['xtick.labelsize'] = 14\n",
        "mpl.rcParams['ytick.labelsize'] = 14\n",
        "import random"
      ]
    }
  ],
  "metadata": {
    "colab": {
      "provenance": []
    },
    "kernelspec": {
      "display_name": "Python 3",
      "language": "python",
      "name": "python3"
    },
    "language_info": {
      "codemirror_mode": {
        "name": "ipython",
        "version": 3
      },
      "file_extension": ".py",
      "mimetype": "text/x-python",
      "name": "python",
      "nbconvert_exporter": "python",
      "pygments_lexer": "ipython3",
      "version": "3.12.2"
    }
  },
  "nbformat": 4,
  "nbformat_minor": 0
}
